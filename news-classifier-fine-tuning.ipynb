{
 "cells": [
  {
   "cell_type": "markdown",
   "metadata": {},
   "source": [
    "# News Classification with GPT-2 Fine-Tuning\n",
    "\n",
    "This project demonstrates how to fine-tune a GPT-2 model for news article classification using the AG News dataset. The workflow covers data preparation, model adaptation, training, evaluation, and inference, all implemented in PyTorch.\n",
    "\n",
    "## Project Workflow\n",
    "\n",
    "1. **Data Preparation**\n",
    "    - Load AG News dataset splits (`train`, `test`) from Hugging Face Datasets.\n",
    "    - Split the training set into training and validation sets (85%/15%).\n",
    "    - Save splits as CSV files for reproducibility.\n",
    "\n",
    "2. **Dataset & DataLoader**\n",
    "    - Implement a custom `NewsDataset` class for tokenization and padding.\n",
    "    - Use PyTorch `DataLoader` for batching and shuffling.\n",
    "\n",
    "3. **Model Architecture**\n",
    "    - Define a GPT-2-like transformer model from scratch, including:\n",
    "      - Multi-head self-attention\n",
    "      - Layer normalization\n",
    "      - Feed-forward layers\n",
    "      - Positional and token embeddings\n",
    "    - Adapt the output head for classification (4 news categories).\n",
    "\n",
    "4. **Pretrained Weights**\n",
    "    - Download and load pretrained GPT-2 weights (compatible with Hugging Face GPT-2 checkpoints).\n",
    "    - Freeze most model layers, unfreeze the last few transformer blocks and output head for fine-tuning.\n",
    "\n",
    "5. **Training & Evaluation**\n",
    "    - Train only the last transformer blocks and classification head.\n",
    "    - Track and plot training/validation loss and accuracy.\n",
    "    - Save and reload the fine-tuned model.\n",
    "\n",
    "6. **Inference**\n",
    "    - Provide a function to classify new news texts.\n",
    "    - Example predictions are shown for sample news snippets.\n",
    "\n",
    "## Key Files & Functions\n",
    "\n",
    "- **Data Loading:** `pd.read_parquet`, `random_split`, CSV export\n",
    "- **Model:** `GPTModel`, `TransformerBlock`, `MultiHeadAttention`\n",
    "- **Training:** `train_classifier_simple`, `calc_loss_batch`, `calc_accuracy_loader`\n",
    "- **Evaluation:** Accuracy and loss metrics, plotting with matplotlib\n",
    "- **Inference:** `classify_news` function for single-text prediction\n",
    "\n",
    "## Usage\n",
    "\n",
    "- Run the notebook cells sequentially to reproduce the workflow.\n",
    "- Modify the `classify_news` function to test your own news headlines or articles.\n",
    "- Adjust hyperparameters (learning rate, batch size, number of epochs) as needed.\n",
    "\n",
    "## Requirements\n",
    "\n",
    "- Python 3.x\n",
    "- PyTorch\n",
    "- pandas, numpy, matplotlib\n",
    "- tiktoken\n",
    "- tqdm\n",
    "- TensorFlow (for loading GPT-2 checkpoints)\n",
    "- requests\n",
    "\n",
    "## Notes\n",
    "\n",
    "- The model is adapted for 4-class classification (`World`, `Sports`, `Business`, `Sci/Tech`).\n",
    "- Only the last few transformer blocks and the classification head are fine-tuned for efficiency.\n",
    "- The workflow is fully reproducible and modular for further experimentation.\n",
    "\n",
    "---\n",
    "\n",
    "**Explore the notebook to see the full implementation and results!**"
   ]
  },
  {
   "cell_type": "code",
   "execution_count": 1,
   "metadata": {
    "_cell_guid": "b1076dfc-b9ad-4769-8c92-a6c4dae69d19",
    "_uuid": "8f2839f25d086af736a60e9eeb907d3b93b6e0e5",
    "execution": {
     "iopub.execute_input": "2025-06-18T16:38:24.836248Z",
     "iopub.status.busy": "2025-06-18T16:38:24.836091Z",
     "iopub.status.idle": "2025-06-18T16:38:28.828750Z",
     "shell.execute_reply": "2025-06-18T16:38:28.828032Z",
     "shell.execute_reply.started": "2025-06-18T16:38:24.836234Z"
    },
    "trusted": true
   },
   "outputs": [],
   "source": [
    "import pandas as pd\n",
    "\n",
    "splits = {'train': 'data/train-00000-of-00001.parquet', 'test': 'data/test-00000-of-00001.parquet'}\n",
    "train_df = pd.read_parquet(\"hf://datasets/fancyzhx/ag_news/\" + splits[\"train\"])"
   ]
  },
  {
   "cell_type": "code",
   "execution_count": 2,
   "metadata": {
    "execution": {
     "iopub.execute_input": "2025-06-18T16:38:47.568522Z",
     "iopub.status.busy": "2025-06-18T16:38:47.568220Z",
     "iopub.status.idle": "2025-06-18T16:38:48.208275Z",
     "shell.execute_reply": "2025-06-18T16:38:48.207714Z",
     "shell.execute_reply.started": "2025-06-18T16:38:47.568500Z"
    },
    "trusted": true
   },
   "outputs": [
    {
     "name": "stdout",
     "output_type": "stream",
     "text": [
      "                                                   text  label\n",
      "0     Fears for T N pension after talks Unions repre...      2\n",
      "1     The Race is On: Second Private Team Sets Launc...      3\n",
      "2     Ky. Company Wins Grant to Study Peptides (AP) ...      3\n",
      "3     Prediction Unit Helps Forecast Wildfires (AP) ...      3\n",
      "4     Calif. Aims to Limit Farm-Related Smog (AP) AP...      3\n",
      "...                                                 ...    ...\n",
      "7595  Around the world Ukrainian presidential candid...      0\n",
      "7596  Void is filled with Clement With the supply of...      1\n",
      "7597  Martinez leaves bitter Like Roger Clemens did ...      1\n",
      "7598  5 of arthritis patients in Singapore take Bext...      2\n",
      "7599  EBay gets into rentals EBay plans to buy the a...      2\n",
      "\n",
      "[7600 rows x 2 columns]\n"
     ]
    }
   ],
   "source": [
    "# print(train_df)\n",
    "test_df=pd.read_parquet(\"hf://datasets/fancyzhx/ag_news/\" + splits[\"test\"])\n",
    "print(test_df)"
   ]
  },
  {
   "cell_type": "code",
   "execution_count": 3,
   "metadata": {
    "execution": {
     "iopub.execute_input": "2025-06-18T16:38:48.210076Z",
     "iopub.status.busy": "2025-06-18T16:38:48.209763Z",
     "iopub.status.idle": "2025-06-18T16:38:48.213704Z",
     "shell.execute_reply": "2025-06-18T16:38:48.213039Z",
     "shell.execute_reply.started": "2025-06-18T16:38:48.210053Z"
    },
    "trusted": true
   },
   "outputs": [],
   "source": [
    "labels={\n",
    "    0:\"World\",\n",
    "    1:\"Sports\",\n",
    "    2:\"Business\",\n",
    "    3: \"Sci/Tech\"\n",
    "}"
   ]
  },
  {
   "cell_type": "code",
   "execution_count": 4,
   "metadata": {
    "execution": {
     "iopub.execute_input": "2025-06-18T16:38:48.214510Z",
     "iopub.status.busy": "2025-06-18T16:38:48.214292Z",
     "iopub.status.idle": "2025-06-18T16:38:48.241943Z",
     "shell.execute_reply": "2025-06-18T16:38:48.241389Z",
     "shell.execute_reply.started": "2025-06-18T16:38:48.214492Z"
    },
    "trusted": true
   },
   "outputs": [
    {
     "name": "stdout",
     "output_type": "stream",
     "text": [
      "label\n",
      "2    30000\n",
      "3    30000\n",
      "1    30000\n",
      "0    30000\n",
      "Name: count, dtype: int64\n"
     ]
    }
   ],
   "source": [
    "print(train_df[\"label\"].value_counts()) \n",
    "# so we have a balanced dataset . no need to balance it . "
   ]
  },
  {
   "cell_type": "code",
   "execution_count": 5,
   "metadata": {
    "execution": {
     "iopub.execute_input": "2025-06-18T16:38:48.242957Z",
     "iopub.status.busy": "2025-06-18T16:38:48.242718Z",
     "iopub.status.idle": "2025-06-18T16:38:48.278991Z",
     "shell.execute_reply": "2025-06-18T16:38:48.278179Z",
     "shell.execute_reply.started": "2025-06-18T16:38:48.242941Z"
    },
    "trusted": true
   },
   "outputs": [],
   "source": [
    "''' 85% for training , 15% for validation  / we dont have a validation set from the imported dataset .\n",
    "so we create a function to split train dataset into train and validation '''\n",
    "\n",
    "def random_split(df, train_frac, validation_frac):\n",
    "    # random shuffle the df\n",
    "    df = df.sample(frac=1, random_state=123).reset_index(drop=True)\n",
    "    train_end = int(len(df) * train_frac)\n",
    "    validation_end = train_end + int(len(df) * validation_frac)\n",
    "    \n",
    "    # Split the df\n",
    "    train_df = df[:train_end]\n",
    "    validation_df = df[train_end:validation_end]\n",
    "    return train_df, validation_df\n",
    "\n",
    "train_df, validation_df = random_split(train_df, 0.85, 0.15)"
   ]
  },
  {
   "cell_type": "code",
   "execution_count": 6,
   "metadata": {
    "execution": {
     "iopub.execute_input": "2025-06-18T16:38:48.281040Z",
     "iopub.status.busy": "2025-06-18T16:38:48.280848Z",
     "iopub.status.idle": "2025-06-18T16:38:48.284895Z",
     "shell.execute_reply": "2025-06-18T16:38:48.284404Z",
     "shell.execute_reply.started": "2025-06-18T16:38:48.281025Z"
    },
    "trusted": true
   },
   "outputs": [
    {
     "name": "stdout",
     "output_type": "stream",
     "text": [
      "102000\n",
      "18000\n",
      "7600\n"
     ]
    }
   ],
   "source": [
    "print(len(train_df))\n",
    "print(len(validation_df))\n",
    "print(len(test_df))"
   ]
  },
  {
   "cell_type": "code",
   "execution_count": 7,
   "metadata": {
    "execution": {
     "iopub.execute_input": "2025-06-18T16:38:48.285607Z",
     "iopub.status.busy": "2025-06-18T16:38:48.285436Z",
     "iopub.status.idle": "2025-06-18T16:38:49.188791Z",
     "shell.execute_reply": "2025-06-18T16:38:49.188260Z",
     "shell.execute_reply.started": "2025-06-18T16:38:48.285593Z"
    },
    "trusted": true
   },
   "outputs": [],
   "source": [
    "#save these data to the csv files\n",
    "train_df.to_csv(\"news_train.csv\", index=None)\n",
    "validation_df.to_csv(\"news_validation.csv\", index=None)\n",
    "test_df.to_csv(\"news_test.csv\", index=None)"
   ]
  },
  {
   "cell_type": "code",
   "execution_count": 8,
   "metadata": {
    "execution": {
     "iopub.execute_input": "2025-06-18T16:38:49.189727Z",
     "iopub.status.busy": "2025-06-18T16:38:49.189454Z",
     "iopub.status.idle": "2025-06-18T16:38:53.294610Z",
     "shell.execute_reply": "2025-06-18T16:38:53.294089Z",
     "shell.execute_reply.started": "2025-06-18T16:38:49.189701Z"
    },
    "trusted": true
   },
   "outputs": [],
   "source": [
    "import torch\n",
    "from torch.utils.data import Dataset\n",
    "\n",
    "\n",
    "class NewsDataset(Dataset):\n",
    "    def __init__(self, csv_file, tokenizer, max_length=None, pad_token_id=50256):\n",
    "        self.data = pd.read_csv(csv_file)\n",
    "\n",
    "        # Pre-tokenize texts\n",
    "        self.encoded_texts = [\n",
    "            tokenizer.encode(text) for text in self.data[\"text\"]\n",
    "        ]\n",
    "\n",
    "        if max_length is None:\n",
    "            self.max_length = self._longest_encoded_length()\n",
    "        else:\n",
    "            self.max_length = max_length\n",
    "            # Truncate sequences if they are longer than max_length\n",
    "            self.encoded_texts = [\n",
    "                encoded_text[:self.max_length]\n",
    "                for encoded_text in self.encoded_texts\n",
    "            ]\n",
    "\n",
    "        # Pad sequences to the longest sequence\n",
    "        self.encoded_texts = [\n",
    "            encoded_text + [pad_token_id] * (self.max_length - len(encoded_text))\n",
    "            for encoded_text in self.encoded_texts\n",
    "        ]\n",
    "\n",
    "    def __getitem__(self, index):\n",
    "        encoded = self.encoded_texts[index]\n",
    "        label = self.data.iloc[index][\"label\"]\n",
    "        return (\n",
    "            torch.tensor(encoded, dtype=torch.long),\n",
    "            torch.tensor(label, dtype=torch.long)\n",
    "        )\n",
    "\n",
    "    def __len__(self):\n",
    "        return len(self.data)\n",
    "\n",
    "    def _longest_encoded_length(self):\n",
    "        max_length = 0\n",
    "        for encoded_text in self.encoded_texts:\n",
    "            encoded_length = len(encoded_text)\n",
    "            if encoded_length > max_length:\n",
    "                max_length = encoded_length\n",
    "        return max_length"
   ]
  },
  {
   "cell_type": "code",
   "execution_count": 9,
   "metadata": {
    "execution": {
     "iopub.execute_input": "2025-06-18T16:38:53.295664Z",
     "iopub.status.busy": "2025-06-18T16:38:53.295273Z",
     "iopub.status.idle": "2025-06-18T16:38:59.835173Z",
     "shell.execute_reply": "2025-06-18T16:38:59.834346Z",
     "shell.execute_reply.started": "2025-06-18T16:38:53.295645Z"
    },
    "trusted": true
   },
   "outputs": [],
   "source": [
    "import tiktoken\n",
    "tokenizer=tiktoken.get_encoding(\"gpt2\")\n",
    "train_dataset = NewsDataset(\n",
    "    csv_file=\"news_train.csv\",\n",
    "    max_length=None,\n",
    "    tokenizer=tokenizer\n",
    ")\n",
    "\n",
    "# print(train_dataset.max_length)\n",
    "val_dataset = NewsDataset(\n",
    "    csv_file=\"news_validation.csv\",\n",
    "    max_length=train_dataset.max_length,\n",
    "    tokenizer=tokenizer\n",
    ")\n",
    "test_dataset = NewsDataset(\n",
    "    csv_file=\"news_test.csv\",\n",
    "    max_length=train_dataset.max_length,\n",
    "    tokenizer=tokenizer\n",
    ")"
   ]
  },
  {
   "cell_type": "code",
   "execution_count": 10,
   "metadata": {
    "execution": {
     "iopub.execute_input": "2025-06-18T16:38:59.836521Z",
     "iopub.status.busy": "2025-06-18T16:38:59.836248Z",
     "iopub.status.idle": "2025-06-18T16:38:59.845580Z",
     "shell.execute_reply": "2025-06-18T16:38:59.844820Z",
     "shell.execute_reply.started": "2025-06-18T16:38:59.836502Z"
    },
    "trusted": true
   },
   "outputs": [],
   "source": [
    "from torch.utils.data import DataLoader\n",
    "\n",
    "num_workers = 0\n",
    "batch_size = 32\n",
    "\n",
    "torch.manual_seed(123)\n",
    "\n",
    "train_loader = DataLoader(\n",
    "    dataset=train_dataset,\n",
    "    batch_size=batch_size,\n",
    "    shuffle=True,\n",
    "    num_workers=num_workers,\n",
    "    drop_last=True,\n",
    ")\n",
    "\n",
    "val_loader = DataLoader(\n",
    "    dataset=val_dataset,\n",
    "    batch_size=batch_size,\n",
    "    num_workers=num_workers,\n",
    "    drop_last=False,\n",
    ")\n",
    "\n",
    "test_loader = DataLoader(\n",
    "    dataset=test_dataset,\n",
    "    batch_size=batch_size,\n",
    "    num_workers=num_workers,\n",
    "    drop_last=False,\n",
    ")"
   ]
  },
  {
   "cell_type": "code",
   "execution_count": 11,
   "metadata": {
    "execution": {
     "iopub.execute_input": "2025-06-18T16:38:59.846832Z",
     "iopub.status.busy": "2025-06-18T16:38:59.846340Z",
     "iopub.status.idle": "2025-06-18T16:38:59.860439Z",
     "shell.execute_reply": "2025-06-18T16:38:59.859702Z",
     "shell.execute_reply.started": "2025-06-18T16:38:59.846813Z"
    },
    "trusted": true
   },
   "outputs": [],
   "source": [
    "GPT_CONFIG_124M = {\n",
    "    \"vocab_size\": 50257,   # Vocabulary size\n",
    "    \"context_length\": 256, # Shortened context length (orig: 1024)\n",
    "    \"emb_dim\": 768,        # Embedding dimension\n",
    "    \"n_heads\": 12,         # Number of attention heads\n",
    "    \"n_layers\": 12,        # Number of layers\n",
    "    \"drop_rate\": 0.2,      # Dropout rate\n",
    "    \"qkv_bias\": False      # Query-key-value bias\n",
    "}\n"
   ]
  },
  {
   "cell_type": "code",
   "execution_count": 12,
   "metadata": {
    "execution": {
     "iopub.execute_input": "2025-06-18T16:38:59.861580Z",
     "iopub.status.busy": "2025-06-18T16:38:59.861334Z",
     "iopub.status.idle": "2025-06-18T16:38:59.880060Z",
     "shell.execute_reply": "2025-06-18T16:38:59.879543Z",
     "shell.execute_reply.started": "2025-06-18T16:38:59.861565Z"
    },
    "trusted": true
   },
   "outputs": [],
   "source": [
    "import torch.nn as nn\n",
    "import torch\n",
    "class MultiHeadAttention(nn.Module):\n",
    "    def __init__(self, d_in, d_out, context_length, dropout, num_heads, qkv_bias=False):\n",
    "        super().__init__()\n",
    "        assert (d_out % num_heads == 0), \\\n",
    "            \"d_out must be divisible by num_heads\"\n",
    "\n",
    "        self.d_out = d_out\n",
    "        self.num_heads = num_heads\n",
    "        self.head_dim = d_out // num_heads # Reduce the projection dim to match desired output dim\n",
    "\n",
    "        self.W_query = nn.Linear(d_in, d_out, bias=qkv_bias)\n",
    "        self.W_key = nn.Linear(d_in, d_out, bias=qkv_bias)\n",
    "        self.W_value = nn.Linear(d_in, d_out, bias=qkv_bias)\n",
    "        self.out_proj = nn.Linear(d_out, d_out)  # Linear layer to combine head outputs\n",
    "        self.dropout = nn.Dropout(dropout)\n",
    "        self.register_buffer(\n",
    "            \"mask\",\n",
    "            torch.triu(torch.ones(context_length, context_length),\n",
    "                       diagonal=1)\n",
    "        )\n",
    "\n",
    "    def forward(self, x):\n",
    "        b, num_tokens, d_in = x.shape\n",
    "\n",
    "        keys = self.W_key(x) # Shape: (b, num_tokens, d_out)\n",
    "        queries = self.W_query(x)\n",
    "        values = self.W_value(x)\n",
    "\n",
    "        # We implicitly split the matrix by adding a `num_heads` dimension\n",
    "        # Unroll last dim: (b, num_tokens, d_out) -> (b, num_tokens, num_heads, head_dim)\n",
    "        keys = keys.view(b, num_tokens, self.num_heads, self.head_dim) \n",
    "        values = values.view(b, num_tokens, self.num_heads, self.head_dim)\n",
    "        queries = queries.view(b, num_tokens, self.num_heads, self.head_dim)\n",
    "\n",
    "        # Transpose: (b, num_tokens, num_heads, head_dim) -> (b, num_heads, num_tokens, head_dim)\n",
    "        keys = keys.transpose(1, 2)\n",
    "        queries = queries.transpose(1, 2)\n",
    "        values = values.transpose(1, 2)\n",
    "\n",
    "        # Compute scaled dot-product attention (aka self-attention) with a causal mask\n",
    "        attn_scores = queries @ keys.transpose(2, 3)  # Dot product for each head\n",
    "\n",
    "        # Original mask truncated to the number of tokens and converted to boolean\n",
    "        mask_bool = self.mask.bool()[:num_tokens, :num_tokens]\n",
    "\n",
    "        # Use the mask to fill attention scores\n",
    "        attn_scores.masked_fill_(mask_bool, -torch.inf)\n",
    "        \n",
    "        attn_weights = torch.softmax(attn_scores / keys.shape[-1]**0.5, dim=-1)\n",
    "        attn_weights = self.dropout(attn_weights)\n",
    "\n",
    "        # Shape: (b, num_tokens, num_heads, head_dim)\n",
    "        context_vec = (attn_weights @ values).transpose(1, 2) \n",
    "        \n",
    "        # Combine heads, where self.d_out = self.num_heads * self.head_dim\n",
    "        context_vec = context_vec.contiguous().view(b, num_tokens, self.d_out)\n",
    "        context_vec = self.out_proj(context_vec) # optional projection\n",
    "\n",
    "        return context_vec"
   ]
  },
  {
   "cell_type": "code",
   "execution_count": 13,
   "metadata": {
    "execution": {
     "iopub.execute_input": "2025-06-18T16:38:59.880922Z",
     "iopub.status.busy": "2025-06-18T16:38:59.880676Z",
     "iopub.status.idle": "2025-06-18T16:38:59.899604Z",
     "shell.execute_reply": "2025-06-18T16:38:59.898999Z",
     "shell.execute_reply.started": "2025-06-18T16:38:59.880894Z"
    },
    "trusted": true
   },
   "outputs": [],
   "source": [
    "class LayerNorm(nn.Module):\n",
    "    def __init__(self, emb_dim):\n",
    "        super().__init__()\n",
    "        self.eps = 1e-5\n",
    "        self.scale = nn.Parameter(torch.ones(emb_dim))\n",
    "        self.shift = nn.Parameter(torch.zeros(emb_dim))\n",
    "\n",
    "    def forward(self, x):\n",
    "        mean = x.mean(dim=-1, keepdim=True)\n",
    "        var = x.var(dim=-1, keepdim=True, unbiased=False)\n",
    "        norm_x = (x - mean) / torch.sqrt(var + self.eps)\n",
    "        return self.scale * norm_x + self.shift\n",
    "\n",
    "class GELU(nn.Module):\n",
    "    def __init__(self):\n",
    "        super().__init__()\n",
    "\n",
    "    def forward(self, x):\n",
    "        return 0.5 * x * (1 + torch.tanh(\n",
    "            torch.sqrt(torch.tensor(2.0 / torch.pi)) * \n",
    "            (x + 0.044715 * torch.pow(x, 3))\n",
    "        ))\n",
    "\n",
    "\n",
    "class FeedForward(nn.Module):\n",
    "    def __init__(self, cfg):\n",
    "        super().__init__()\n",
    "        self.layers = nn.Sequential(\n",
    "            nn.Linear(cfg[\"emb_dim\"], 4 * cfg[\"emb_dim\"]), ## Expansion\n",
    "            GELU(), ## Activation\n",
    "            nn.Linear(4 * cfg[\"emb_dim\"], cfg[\"emb_dim\"]), ## Contraction\n",
    "        )\n",
    "\n",
    "    def forward(self, x):\n",
    "        return self.layers(x)"
   ]
  },
  {
   "cell_type": "code",
   "execution_count": 14,
   "metadata": {
    "execution": {
     "iopub.execute_input": "2025-06-18T16:38:59.900978Z",
     "iopub.status.busy": "2025-06-18T16:38:59.900347Z",
     "iopub.status.idle": "2025-06-18T16:38:59.917752Z",
     "shell.execute_reply": "2025-06-18T16:38:59.917166Z",
     "shell.execute_reply.started": "2025-06-18T16:38:59.900957Z"
    },
    "trusted": true
   },
   "outputs": [],
   "source": [
    "class TransformerBlock(nn.Module):\n",
    "    def __init__(self, cfg):\n",
    "        super().__init__()\n",
    "        self.att = MultiHeadAttention(\n",
    "            d_in=cfg[\"emb_dim\"],\n",
    "            d_out=cfg[\"emb_dim\"],\n",
    "            context_length=cfg[\"context_length\"],\n",
    "            num_heads=cfg[\"n_heads\"], \n",
    "            dropout=cfg[\"drop_rate\"],\n",
    "            qkv_bias=cfg[\"qkv_bias\"])\n",
    "        self.ff = FeedForward(cfg)\n",
    "        self.norm1 = LayerNorm(cfg[\"emb_dim\"])\n",
    "        self.norm2 = LayerNorm(cfg[\"emb_dim\"])\n",
    "        self.drop_shortcut = nn.Dropout(cfg[\"drop_rate\"])\n",
    "\n",
    "    def forward(self, x):\n",
    "        # Shortcut connection for attention block\n",
    "        shortcut = x\n",
    "        x = self.norm1(x)\n",
    "        x = self.att(x)  # Shape [batch_size, num_tokens, emb_size]\n",
    "        x = self.drop_shortcut(x)\n",
    "        x = x + shortcut  # Add the original input back\n",
    "\n",
    "        # Shortcut connection for feed forward block\n",
    "        shortcut = x\n",
    "        x = self.norm2(x)\n",
    "        x = self.ff(x)\n",
    "        # 2*4*768\n",
    "        x = self.drop_shortcut(x)\n",
    "        x = x + shortcut  # Add the original input back\n",
    "\n",
    "        return x\n",
    "        # 2*4*768"
   ]
  },
  {
   "cell_type": "code",
   "execution_count": 15,
   "metadata": {
    "execution": {
     "iopub.execute_input": "2025-06-18T16:38:59.920844Z",
     "iopub.status.busy": "2025-06-18T16:38:59.920680Z",
     "iopub.status.idle": "2025-06-18T16:39:01.366339Z",
     "shell.execute_reply": "2025-06-18T16:39:01.365559Z",
     "shell.execute_reply.started": "2025-06-18T16:38:59.920832Z"
    },
    "trusted": true
   },
   "outputs": [],
   "source": [
    "import torch.nn as nn\n",
    "class GPTModel(nn.Module):\n",
    "    def __init__(self, cfg):\n",
    "        super().__init__()\n",
    "        self.tok_emb = nn.Embedding(cfg[\"vocab_size\"], cfg[\"emb_dim\"])\n",
    "        self.pos_emb = nn.Embedding(cfg[\"context_length\"], cfg[\"emb_dim\"])\n",
    "        self.drop_emb = nn.Dropout(cfg[\"drop_rate\"])\n",
    "        \n",
    "        self.trf_blocks = nn.Sequential(\n",
    "            *[TransformerBlock(cfg) for _ in range(cfg[\"n_layers\"])])\n",
    "        \n",
    "        self.final_norm = LayerNorm(cfg[\"emb_dim\"])\n",
    "        self.out_head = nn.Linear(\n",
    "            cfg[\"emb_dim\"], cfg[\"vocab_size\"], bias=False\n",
    "        )\n",
    "\n",
    "    def forward(self, in_idx):\n",
    "        batch_size, seq_len = in_idx.shape\n",
    "        tok_embeds = self.tok_emb(in_idx)\n",
    "        pos_embeds = self.pos_emb(torch.arange(seq_len, device=in_idx.device))\n",
    "        x = tok_embeds + pos_embeds  # Shape [batch_size, num_tokens, emb_size]\n",
    "        x = self.drop_emb(x)\n",
    "        x = self.trf_blocks(x)\n",
    "        x = self.final_norm(x)\n",
    "        logits = self.out_head(x)\n",
    "        return logits\n",
    "\n",
    "torch.manual_seed(123)\n",
    "model = GPTModel(GPT_CONFIG_124M)\n",
    "model.eval();  # Disable dropout during inference"
   ]
  },
  {
   "cell_type": "code",
   "execution_count": 16,
   "metadata": {
    "execution": {
     "iopub.execute_input": "2025-06-18T16:39:01.367457Z",
     "iopub.status.busy": "2025-06-18T16:39:01.367192Z",
     "iopub.status.idle": "2025-06-18T16:39:01.372932Z",
     "shell.execute_reply": "2025-06-18T16:39:01.372067Z",
     "shell.execute_reply.started": "2025-06-18T16:39:01.367431Z"
    },
    "trusted": true
   },
   "outputs": [],
   "source": [
    "def calc_loss_batch(input_batch, target_batch, model, device):\n",
    "    input_batch, target_batch = input_batch.to(device), target_batch.to(device)\n",
    "    logits = model(input_batch)\n",
    "    loss = torch.nn.functional.cross_entropy(logits.flatten(0, 1), target_batch.flatten())\n",
    "    return loss\n",
    "\n",
    "\n",
    "def calc_loss_loader(data_loader, model, device, num_batches=None):\n",
    "    total_loss = 0.\n",
    "    if len(data_loader) == 0:\n",
    "        return float(\"nan\")\n",
    "    elif num_batches is None:\n",
    "        num_batches = len(data_loader)\n",
    "    else:\n",
    "        # Reduce the number of batches to match the total number of batches in the data loader\n",
    "        # if num_batches exceeds the number of batches in the data loader\n",
    "        num_batches = min(num_batches, len(data_loader))\n",
    "    for i, (input_batch, target_batch) in enumerate(data_loader):\n",
    "        if i < num_batches:\n",
    "            loss = calc_loss_batch(input_batch, target_batch, model, device)\n",
    "            total_loss += loss.item()\n",
    "        else:\n",
    "            break\n",
    "    return total_loss / num_batches"
   ]
  },
  {
   "cell_type": "code",
   "execution_count": null,
   "metadata": {
    "execution": {
     "iopub.execute_input": "2025-06-18T16:39:01.374001Z",
     "iopub.status.busy": "2025-06-18T16:39:01.373751Z",
     "iopub.status.idle": "2025-06-18T16:39:15.097952Z",
     "shell.execute_reply": "2025-06-18T16:39:15.097273Z",
     "shell.execute_reply.started": "2025-06-18T16:39:01.373981Z"
    },
    "trusted": true
   },
   "outputs": [
    {
     "name": "stderr",
     "output_type": "stream",
     "text": [
      "2025-06-18 16:39:02.880001: E external/local_xla/xla/stream_executor/cuda/cuda_fft.cc:477] Unable to register cuFFT factory: Attempting to register factory for plugin cuFFT when one has already been registered\n",
      "WARNING: All log messages before absl::InitializeLog() is called are written to STDERR\n",
      "E0000 00:00:1750264743.080068      35 cuda_dnn.cc:8310] Unable to register cuDNN factory: Attempting to register factory for plugin cuDNN when one has already been registered\n",
      "E0000 00:00:1750264743.140599      35 cuda_blas.cc:1418] Unable to register cuBLAS factory: Attempting to register factory for plugin cuBLAS when one has already been registered\n"
     ]
    }
   ],
   "source": [
    "import os\n",
    "import requests  # Make sure requests is installed\n",
    "import json\n",
    "import numpy as np\n",
    "import tensorflow as tf\n",
    "from tqdm import tqdm\n",
    "\n",
    "def download_and_load_gpt2(model_size, models_dir):\n",
    "    # Validate model size\n",
    "    allowed_sizes = (\"124M\", \"355M\", \"774M\", \"1558M\")\n",
    "    if model_size not in allowed_sizes:\n",
    "        raise ValueError(f\"Model size not in {allowed_sizes}\")\n",
    "\n",
    "    # Define paths\n",
    "    model_dir = os.path.join(models_dir, model_size)\n",
    "    base_url = \"https://openaipublic.blob.core.windows.net/gpt-2/models\"\n",
    "    filenames = [\n",
    "        \"checkpoint\", \"encoder.json\", \"hparams.json\",\n",
    "        \"model.ckpt.data-00000-of-00001\", \"model.ckpt.index\",\n",
    "        \"model.ckpt.meta\", \"vocab.bpe\"\n",
    "    ]\n",
    "\n",
    "    # Download files\n",
    "    os.makedirs(model_dir, exist_ok=True)\n",
    "    for filename in filenames:\n",
    "        file_url = os.path.join(base_url, model_size, filename)\n",
    "        file_path = os.path.join(model_dir, filename)\n",
    "        download_file(file_url, file_path)\n",
    "\n",
    "    ## We have reached here until now ---> we have downloaded the files on our local machine.\n",
    "\n",
    "    # Load settings and params\n",
    "    tf_ckpt_path = tf.train.latest_checkpoint(model_dir)\n",
    "    settings = json.load(open(os.path.join(model_dir, \"hparams.json\")))\n",
    "    params = load_gpt2_params_from_tf_ckpt(tf_ckpt_path, settings)\n",
    "\n",
    "    return settings, params\n",
    "\n",
    "def download_file(url, destination):\n",
    "    try:\n",
    "        # Send a GET request to download the file, disabling SSL verification\n",
    "        response = requests.get(url, stream=True, verify=False)\n",
    "\n",
    "        # Get the total file size from headers, defaulting to 0 if not present\n",
    "        file_size = int(response.headers.get(\"content-length\", 0))\n",
    "\n",
    "        # Check if file exists and has the same size\n",
    "        if os.path.exists(destination):\n",
    "            file_size_local = os.path.getsize(destination)\n",
    "            if file_size == file_size_local:\n",
    "                print(f\"File already exists and is up-to-date: {destination}\")\n",
    "                return\n",
    "\n",
    "        # Define the block size for reading the file\n",
    "        block_size = 1024  # 1 Kilobyte\n",
    "\n",
    "        # Initialize the progress bar with total file size\n",
    "        progress_bar_description = url.split(\"/\")[-1]  # Extract filename from URL\n",
    "        with tqdm(total=file_size, unit=\"iB\", unit_scale=True, desc=progress_bar_description) as progress_bar:\n",
    "            # Open the destination file in binary write mode\n",
    "            with open(destination, \"wb\") as file:\n",
    "                # Iterate over the file data in chunks\n",
    "                for chunk in response.iter_content(block_size):\n",
    "                    progress_bar.update(len(chunk))  # Update progress bar\n",
    "                    file.write(chunk)  # Write the chunk to the file\n",
    "\n",
    "    except requests.exceptions.RequestException as e:\n",
    "        print(f\"Error downloading the file: {e}\")\n",
    "        print(f\"Please check the URL: {url}\")\n",
    "\n",
    "def load_gpt2_params_from_tf_ckpt(ckpt_path, settings):\n",
    "    # Initialize parameters dictionary with empty blocks for each layer\n",
    "    params = {\"blocks\": [{} for _ in range(settings[\"n_layer\"])]}\n",
    "\n",
    "    # Iterate over each variable in the checkpoint\n",
    "    for name, _ in tf.train.list_variables(ckpt_path):\n",
    "        # Load the variable and remove singleton dimensions\n",
    "        variable_array = np.squeeze(tf.train.load_variable(ckpt_path, name))\n",
    "\n",
    "        # Process the variable name to extract relevant parts\n",
    "        variable_name_parts = name.split(\"/\")[1:]  # Skip the 'model/' prefix\n",
    "\n",
    "        # Identify the target dictionary for the variable\n",
    "        target_dict = params\n",
    "        if variable_name_parts[0].startswith(\"h\"):\n",
    "            layer_number = int(variable_name_parts[0][1:])\n",
    "            target_dict = params[\"blocks\"][layer_number]\n",
    "\n",
    "        # Recursively access or create nested dictionaries\n",
    "        for key in variable_name_parts[1:-1]:\n",
    "            target_dict = target_dict.setdefault(key, {})\n",
    "\n",
    "        # Assign the variable array to the last key\n",
    "        last_key = variable_name_parts[-1]\n",
    "        target_dict[last_key] = variable_array\n",
    "\n",
    "    return params\n"
   ]
  },
  {
   "cell_type": "code",
   "execution_count": 18,
   "metadata": {
    "execution": {
     "iopub.execute_input": "2025-06-18T16:39:15.099023Z",
     "iopub.status.busy": "2025-06-18T16:39:15.098605Z",
     "iopub.status.idle": "2025-06-18T16:39:15.103031Z",
     "shell.execute_reply": "2025-06-18T16:39:15.102289Z",
     "shell.execute_reply.started": "2025-06-18T16:39:15.099004Z"
    },
    "trusted": true
   },
   "outputs": [],
   "source": [
    "def assign(left, right):\n",
    "    if left.shape != right.shape:\n",
    "        raise ValueError(f\"Shape mismatch. Left: {left.shape}, Right: {right.shape}\")\n",
    "    return torch.nn.Parameter(torch.tensor(right))"
   ]
  },
  {
   "cell_type": "code",
   "execution_count": 19,
   "metadata": {
    "execution": {
     "iopub.execute_input": "2025-06-18T16:39:15.104103Z",
     "iopub.status.busy": "2025-06-18T16:39:15.103824Z",
     "iopub.status.idle": "2025-06-18T16:39:15.140687Z",
     "shell.execute_reply": "2025-06-18T16:39:15.140048Z",
     "shell.execute_reply.started": "2025-06-18T16:39:15.104075Z"
    },
    "trusted": true
   },
   "outputs": [],
   "source": [
    "import numpy as np\n",
    "\n",
    "def load_weights_into_gpt(gpt, params):\n",
    "    gpt.pos_emb.weight = assign(gpt.pos_emb.weight, params['wpe'])\n",
    "    gpt.tok_emb.weight = assign(gpt.tok_emb.weight, params['wte'])\n",
    "\n",
    "    for b in range(len(params[\"blocks\"])):\n",
    "        q_w, k_w, v_w = np.split(\n",
    "            (params[\"blocks\"][b][\"attn\"][\"c_attn\"])[\"w\"], 3, axis=-1)\n",
    "        gpt.trf_blocks[b].att.W_query.weight = assign(\n",
    "            gpt.trf_blocks[b].att.W_query.weight, q_w.T)\n",
    "        gpt.trf_blocks[b].att.W_key.weight = assign(\n",
    "            gpt.trf_blocks[b].att.W_key.weight, k_w.T)\n",
    "        gpt.trf_blocks[b].att.W_value.weight = assign(\n",
    "            gpt.trf_blocks[b].att.W_value.weight, v_w.T)\n",
    "\n",
    "        q_b, k_b, v_b = np.split(\n",
    "            (params[\"blocks\"][b][\"attn\"][\"c_attn\"])[\"b\"], 3, axis=-1)\n",
    "        gpt.trf_blocks[b].att.W_query.bias = assign(\n",
    "            gpt.trf_blocks[b].att.W_query.bias, q_b)\n",
    "        gpt.trf_blocks[b].att.W_key.bias = assign(\n",
    "            gpt.trf_blocks[b].att.W_key.bias, k_b)\n",
    "        gpt.trf_blocks[b].att.W_value.bias = assign(\n",
    "            gpt.trf_blocks[b].att.W_value.bias, v_b)\n",
    "\n",
    "        gpt.trf_blocks[b].att.out_proj.weight = assign(\n",
    "            gpt.trf_blocks[b].att.out_proj.weight,\n",
    "            params[\"blocks\"][b][\"attn\"][\"c_proj\"][\"w\"].T)\n",
    "        gpt.trf_blocks[b].att.out_proj.bias = assign(\n",
    "            gpt.trf_blocks[b].att.out_proj.bias,\n",
    "            params[\"blocks\"][b][\"attn\"][\"c_proj\"][\"b\"])\n",
    "\n",
    "        gpt.trf_blocks[b].ff.layers[0].weight = assign(\n",
    "            gpt.trf_blocks[b].ff.layers[0].weight,\n",
    "            params[\"blocks\"][b][\"mlp\"][\"c_fc\"][\"w\"].T)\n",
    "        gpt.trf_blocks[b].ff.layers[0].bias = assign(\n",
    "            gpt.trf_blocks[b].ff.layers[0].bias,\n",
    "            params[\"blocks\"][b][\"mlp\"][\"c_fc\"][\"b\"])\n",
    "        gpt.trf_blocks[b].ff.layers[2].weight = assign(\n",
    "            gpt.trf_blocks[b].ff.layers[2].weight,\n",
    "            params[\"blocks\"][b][\"mlp\"][\"c_proj\"][\"w\"].T)\n",
    "        gpt.trf_blocks[b].ff.layers[2].bias = assign(\n",
    "            gpt.trf_blocks[b].ff.layers[2].bias,\n",
    "            params[\"blocks\"][b][\"mlp\"][\"c_proj\"][\"b\"])\n",
    "\n",
    "        gpt.trf_blocks[b].norm1.scale = assign(\n",
    "            gpt.trf_blocks[b].norm1.scale,\n",
    "            params[\"blocks\"][b][\"ln_1\"][\"g\"])\n",
    "        gpt.trf_blocks[b].norm1.shift = assign(\n",
    "            gpt.trf_blocks[b].norm1.shift,\n",
    "            params[\"blocks\"][b][\"ln_1\"][\"b\"])\n",
    "        gpt.trf_blocks[b].norm2.scale = assign(\n",
    "            gpt.trf_blocks[b].norm2.scale,\n",
    "            params[\"blocks\"][b][\"ln_2\"][\"g\"])\n",
    "        gpt.trf_blocks[b].norm2.shift = assign(\n",
    "            gpt.trf_blocks[b].norm2.shift,\n",
    "            params[\"blocks\"][b][\"ln_2\"][\"b\"])\n",
    "\n",
    "    gpt.final_norm.scale = assign(gpt.final_norm.scale, params[\"g\"])\n",
    "    gpt.final_norm.shift = assign(gpt.final_norm.shift, params[\"b\"])\n",
    "    gpt.out_head.weight = assign(gpt.out_head.weight, params[\"wte\"])"
   ]
  },
  {
   "cell_type": "code",
   "execution_count": 20,
   "metadata": {
    "execution": {
     "iopub.execute_input": "2025-06-18T16:39:15.141806Z",
     "iopub.status.busy": "2025-06-18T16:39:15.141595Z",
     "iopub.status.idle": "2025-06-18T16:39:15.161461Z",
     "shell.execute_reply": "2025-06-18T16:39:15.160912Z",
     "shell.execute_reply.started": "2025-06-18T16:39:15.141790Z"
    },
    "trusted": true
   },
   "outputs": [],
   "source": [
    "torch.manual_seed(123)\n",
    "# !pip install tiktoken\n",
    "import tiktoken\n",
    "tokenizer= tiktoken.get_encoding(\"gpt2\")\n",
    "def text_to_token_ids(text, tokenizer):\n",
    "    encoded = tokenizer.encode(text, allowed_special={'<|endoftext|>'})\n",
    "    encoded_tensor = torch.tensor(encoded).unsqueeze(0) # add batch dimension\n",
    "    return encoded_tensor\n",
    "\n",
    "def token_ids_to_text(token_ids, tokenizer):\n",
    "    flat = token_ids.squeeze(0) # remove batch dimension\n",
    "    return tokenizer.decode(flat.tolist())"
   ]
  },
  {
   "cell_type": "code",
   "execution_count": 21,
   "metadata": {
    "execution": {
     "iopub.execute_input": "2025-06-18T16:39:15.162314Z",
     "iopub.status.busy": "2025-06-18T16:39:15.162124Z",
     "iopub.status.idle": "2025-06-18T16:39:15.175418Z",
     "shell.execute_reply": "2025-06-18T16:39:15.174799Z",
     "shell.execute_reply.started": "2025-06-18T16:39:15.162293Z"
    },
    "trusted": true
   },
   "outputs": [],
   "source": [
    "CHOOSE_MODEL = \"gpt2-small (124M)\"\n",
    "INPUT_PROMPT = \"Every effort moves\"\n",
    "\n",
    "BASE_CONFIG = {\n",
    "    \"vocab_size\": 50257,     # Vocabulary size\n",
    "    \"context_length\": 1024,  # Context length\n",
    "    \"drop_rate\": 0.0,        # Dropout rate\n",
    "    \"qkv_bias\": True         # Query-key-value bias\n",
    "}\n",
    "\n",
    "model_configs = {\n",
    "    \"gpt2-small (124M)\": {\"emb_dim\": 768, \"n_layers\": 12, \"n_heads\": 12},\n",
    "    \"gpt2-medium (355M)\": {\"emb_dim\": 1024, \"n_layers\": 24, \"n_heads\": 16},\n",
    "    \"gpt2-large (774M)\": {\"emb_dim\": 1280, \"n_layers\": 36, \"n_heads\": 20},\n",
    "    \"gpt2-xl (1558M)\": {\"emb_dim\": 1600, \"n_layers\": 48, \"n_heads\": 25},\n",
    "}\n",
    "\n",
    "BASE_CONFIG.update(model_configs[CHOOSE_MODEL])\n"
   ]
  },
  {
   "cell_type": "code",
   "execution_count": 22,
   "metadata": {
    "execution": {
     "iopub.execute_input": "2025-06-18T16:39:15.176273Z",
     "iopub.status.busy": "2025-06-18T16:39:15.176052Z",
     "iopub.status.idle": "2025-06-18T16:39:58.827360Z",
     "shell.execute_reply": "2025-06-18T16:39:58.826791Z",
     "shell.execute_reply.started": "2025-06-18T16:39:15.176258Z"
    },
    "trusted": true
   },
   "outputs": [
    {
     "name": "stderr",
     "output_type": "stream",
     "text": [
      "/usr/local/lib/python3.11/dist-packages/urllib3/connectionpool.py:1097: InsecureRequestWarning: Unverified HTTPS request is being made to host 'openaipublic.blob.core.windows.net'. Adding certificate verification is strongly advised. See: https://urllib3.readthedocs.io/en/latest/advanced-usage.html#tls-warnings\n",
      "  warnings.warn(\n",
      "checkpoint: 100%|██████████| 77.0/77.0 [00:00<00:00, 155kiB/s]\n",
      "/usr/local/lib/python3.11/dist-packages/urllib3/connectionpool.py:1097: InsecureRequestWarning: Unverified HTTPS request is being made to host 'openaipublic.blob.core.windows.net'. Adding certificate verification is strongly advised. See: https://urllib3.readthedocs.io/en/latest/advanced-usage.html#tls-warnings\n",
      "  warnings.warn(\n",
      "encoder.json: 100%|██████████| 1.04M/1.04M [00:00<00:00, 2.21MiB/s]\n",
      "/usr/local/lib/python3.11/dist-packages/urllib3/connectionpool.py:1097: InsecureRequestWarning: Unverified HTTPS request is being made to host 'openaipublic.blob.core.windows.net'. Adding certificate verification is strongly advised. See: https://urllib3.readthedocs.io/en/latest/advanced-usage.html#tls-warnings\n",
      "  warnings.warn(\n",
      "hparams.json: 100%|██████████| 90.0/90.0 [00:00<00:00, 217kiB/s]\n",
      "/usr/local/lib/python3.11/dist-packages/urllib3/connectionpool.py:1097: InsecureRequestWarning: Unverified HTTPS request is being made to host 'openaipublic.blob.core.windows.net'. Adding certificate verification is strongly advised. See: https://urllib3.readthedocs.io/en/latest/advanced-usage.html#tls-warnings\n",
      "  warnings.warn(\n",
      "model.ckpt.data-00000-of-00001: 100%|██████████| 498M/498M [00:38<00:00, 12.8MiB/s] \n",
      "/usr/local/lib/python3.11/dist-packages/urllib3/connectionpool.py:1097: InsecureRequestWarning: Unverified HTTPS request is being made to host 'openaipublic.blob.core.windows.net'. Adding certificate verification is strongly advised. See: https://urllib3.readthedocs.io/en/latest/advanced-usage.html#tls-warnings\n",
      "  warnings.warn(\n",
      "model.ckpt.index: 100%|██████████| 5.21k/5.21k [00:00<00:00, 9.59MiB/s]\n",
      "/usr/local/lib/python3.11/dist-packages/urllib3/connectionpool.py:1097: InsecureRequestWarning: Unverified HTTPS request is being made to host 'openaipublic.blob.core.windows.net'. Adding certificate verification is strongly advised. See: https://urllib3.readthedocs.io/en/latest/advanced-usage.html#tls-warnings\n",
      "  warnings.warn(\n",
      "model.ckpt.meta: 100%|██████████| 471k/471k [00:00<00:00, 1.40MiB/s]\n",
      "/usr/local/lib/python3.11/dist-packages/urllib3/connectionpool.py:1097: InsecureRequestWarning: Unverified HTTPS request is being made to host 'openaipublic.blob.core.windows.net'. Adding certificate verification is strongly advised. See: https://urllib3.readthedocs.io/en/latest/advanced-usage.html#tls-warnings\n",
      "  warnings.warn(\n",
      "vocab.bpe: 100%|██████████| 456k/456k [00:00<00:00, 1.60MiB/s]\n"
     ]
    }
   ],
   "source": [
    "model_size = CHOOSE_MODEL.split(\" \")[-1].lstrip(\"(\").rstrip(\")\")\n",
    "settings, params = download_and_load_gpt2(model_size=model_size, models_dir=\"gpt2\")\n",
    "\n",
    "model = GPTModel(BASE_CONFIG)\n",
    "load_weights_into_gpt(model, params)\n",
    "model.eval();"
   ]
  },
  {
   "cell_type": "code",
   "execution_count": 23,
   "metadata": {
    "execution": {
     "iopub.execute_input": "2025-06-18T16:39:58.828328Z",
     "iopub.status.busy": "2025-06-18T16:39:58.828064Z",
     "iopub.status.idle": "2025-06-18T16:39:58.832499Z",
     "shell.execute_reply": "2025-06-18T16:39:58.831707Z",
     "shell.execute_reply.started": "2025-06-18T16:39:58.828305Z"
    },
    "trusted": true
   },
   "outputs": [],
   "source": [
    "for param in model.parameters():\n",
    "    param.requires_grad = False"
   ]
  },
  {
   "cell_type": "code",
   "execution_count": 24,
   "metadata": {
    "execution": {
     "iopub.execute_input": "2025-06-18T16:39:58.833447Z",
     "iopub.status.busy": "2025-06-18T16:39:58.833196Z",
     "iopub.status.idle": "2025-06-18T16:39:58.848562Z",
     "shell.execute_reply": "2025-06-18T16:39:58.848019Z",
     "shell.execute_reply.started": "2025-06-18T16:39:58.833428Z"
    },
    "trusted": true
   },
   "outputs": [],
   "source": [
    "torch.manual_seed(123)\n",
    "num_classes = 4\n",
    "model.out_head = torch.nn.Linear(in_features=BASE_CONFIG[\"emb_dim\"], out_features=num_classes)"
   ]
  },
  {
   "cell_type": "code",
   "execution_count": 25,
   "metadata": {
    "execution": {
     "iopub.execute_input": "2025-06-18T16:39:58.849392Z",
     "iopub.status.busy": "2025-06-18T16:39:58.849162Z",
     "iopub.status.idle": "2025-06-18T16:39:58.876449Z",
     "shell.execute_reply": "2025-06-18T16:39:58.875794Z",
     "shell.execute_reply.started": "2025-06-18T16:39:58.849352Z"
    },
    "trusted": true
   },
   "outputs": [],
   "source": [
    "for param in model.trf_blocks[-1].parameters():\n",
    "    param.requires_grad = True\n",
    "for param in model.trf_blocks[-2].parameters():\n",
    "    param.requires_grad= True\n",
    "for param in model.trf_blocks[-3].parameters():\n",
    "    param.requires_grad=True\n",
    "for param in model.final_norm.parameters():\n",
    "    param.requires_grad = True"
   ]
  },
  {
   "cell_type": "code",
   "execution_count": 26,
   "metadata": {
    "execution": {
     "iopub.execute_input": "2025-06-18T16:39:58.877351Z",
     "iopub.status.busy": "2025-06-18T16:39:58.877138Z",
     "iopub.status.idle": "2025-06-18T16:39:58.894932Z",
     "shell.execute_reply": "2025-06-18T16:39:58.894411Z",
     "shell.execute_reply.started": "2025-06-18T16:39:58.877329Z"
    },
    "trusted": true
   },
   "outputs": [
    {
     "name": "stdout",
     "output_type": "stream",
     "text": [
      "Inputs: tensor([[10919,   318, 16901,    30]])\n",
      "Inputs dimensions: torch.Size([1, 4])\n"
     ]
    }
   ],
   "source": [
    "inputs = tokenizer.encode(\"what is meditation?\")\n",
    "inputs = torch.tensor(inputs).unsqueeze(0)\n",
    "print(\"Inputs:\", inputs)\n",
    "print(\"Inputs dimensions:\", inputs.shape) # shape: (batch_size, num_tokens)"
   ]
  },
  {
   "cell_type": "code",
   "execution_count": 27,
   "metadata": {
    "execution": {
     "iopub.execute_input": "2025-06-18T16:39:58.895918Z",
     "iopub.status.busy": "2025-06-18T16:39:58.895684Z",
     "iopub.status.idle": "2025-06-18T16:39:59.035667Z",
     "shell.execute_reply": "2025-06-18T16:39:59.034948Z",
     "shell.execute_reply.started": "2025-06-18T16:39:58.895894Z"
    },
    "trusted": true
   },
   "outputs": [
    {
     "name": "stdout",
     "output_type": "stream",
     "text": [
      "Outputs:\n",
      " tensor([[[-1.6141,  1.2282,  0.3008, -0.5369],\n",
      "         [-1.8646,  5.9696,  2.7381, -0.5265],\n",
      "         [-2.5723,  4.0816,  2.1425, -0.6400],\n",
      "         [-4.8482,  6.3234,  3.1048,  0.4407]]])\n",
      "Outputs dimensions: torch.Size([1, 4, 4])\n"
     ]
    }
   ],
   "source": [
    "with torch.no_grad():\n",
    "    outputs = model(inputs)\n",
    "\n",
    "print(\"Outputs:\\n\", outputs)\n",
    "print(\"Outputs dimensions:\", outputs.shape) # shape: (batch_size, num_tokens, num_classes)"
   ]
  },
  {
   "cell_type": "code",
   "execution_count": 28,
   "metadata": {
    "execution": {
     "iopub.execute_input": "2025-06-18T16:39:59.036665Z",
     "iopub.status.busy": "2025-06-18T16:39:59.036387Z",
     "iopub.status.idle": "2025-06-18T16:39:59.041779Z",
     "shell.execute_reply": "2025-06-18T16:39:59.041164Z",
     "shell.execute_reply.started": "2025-06-18T16:39:59.036644Z"
    },
    "trusted": true
   },
   "outputs": [],
   "source": [
    "def calc_accuracy_loader(data_loader, model, device, num_batches=None):\n",
    "    model.eval()\n",
    "    total_correct, total_samples = 0, 0\n",
    "\n",
    "    with torch.no_grad():\n",
    "        for i, (inputs, targets) in enumerate(data_loader):\n",
    "            if num_batches is not None and i >= num_batches:\n",
    "                break\n",
    "\n",
    "            inputs, targets = inputs.to(device), targets.to(device)\n",
    "\n",
    "            # Forward pass\n",
    "            outputs = model(inputs)[:, -1, :]  # Only last token logits\n",
    "            preds = torch.argmax(outputs, dim=-1)\n",
    "\n",
    "            # Efficient batch accuracy\n",
    "            total_correct += (preds == targets).sum().item()\n",
    "            total_samples += targets.size(0)\n",
    "\n",
    "    return total_correct / total_samples\n"
   ]
  },
  {
   "cell_type": "code",
   "execution_count": 29,
   "metadata": {
    "execution": {
     "iopub.execute_input": "2025-06-18T16:39:59.042808Z",
     "iopub.status.busy": "2025-06-18T16:39:59.042489Z",
     "iopub.status.idle": "2025-06-18T16:40:12.455475Z",
     "shell.execute_reply": "2025-06-18T16:40:12.454850Z",
     "shell.execute_reply.started": "2025-06-18T16:39:59.042710Z"
    },
    "trusted": true
   },
   "outputs": [
    {
     "name": "stdout",
     "output_type": "stream",
     "text": [
      "cuda\n",
      "Training accuracy: 25.31%\n",
      "Validation accuracy: 24.38%\n",
      "Test accuracy: 28.44%\n"
     ]
    }
   ],
   "source": [
    "device = torch.device(\"cuda\" if torch.cuda.is_available() else \"cpu\")\n",
    "print(device)\n",
    "model.to(device) \n",
    "torch.manual_seed(123) # For reproducibility due to the shuffling in the training data loader\n",
    "train_accuracy = calc_accuracy_loader(train_loader, model, device, num_batches=10)\n",
    "val_accuracy = calc_accuracy_loader(val_loader, model, device, num_batches=10)\n",
    "test_accuracy = calc_accuracy_loader(test_loader, model, device, num_batches=10)\n",
    "\n",
    "print(f\"Training accuracy: {train_accuracy*100:.2f}%\")\n",
    "print(f\"Validation accuracy: {val_accuracy*100:.2f}%\")\n",
    "print(f\"Test accuracy: {test_accuracy*100:.2f}%\")"
   ]
  },
  {
   "cell_type": "code",
   "execution_count": 30,
   "metadata": {
    "execution": {
     "iopub.execute_input": "2025-06-18T16:40:12.456259Z",
     "iopub.status.busy": "2025-06-18T16:40:12.456082Z",
     "iopub.status.idle": "2025-06-18T16:40:12.460572Z",
     "shell.execute_reply": "2025-06-18T16:40:12.459868Z",
     "shell.execute_reply.started": "2025-06-18T16:40:12.456245Z"
    },
    "trusted": true
   },
   "outputs": [],
   "source": [
    "def calc_loss_batch(input_batch, target_batch, model, device):\n",
    "    input_batch, target_batch = input_batch.to(device), target_batch.to(device)\n",
    "    logits = model(input_batch)[:, -1, :]  # Logits of last output token\n",
    "    loss = torch.nn.functional.cross_entropy(logits, target_batch)\n",
    "    return loss"
   ]
  },
  {
   "cell_type": "code",
   "execution_count": 31,
   "metadata": {
    "execution": {
     "iopub.execute_input": "2025-06-18T16:40:12.461390Z",
     "iopub.status.busy": "2025-06-18T16:40:12.461157Z",
     "iopub.status.idle": "2025-06-18T16:40:12.477955Z",
     "shell.execute_reply": "2025-06-18T16:40:12.477293Z",
     "shell.execute_reply.started": "2025-06-18T16:40:12.461354Z"
    },
    "trusted": true
   },
   "outputs": [],
   "source": [
    "def calc_loss_loader(data_loader, model, device, num_batches=None):\n",
    "    total_loss = 0.\n",
    "    if len(data_loader) == 0:\n",
    "        return float(\"nan\")\n",
    "    elif num_batches is None:\n",
    "        num_batches = len(data_loader)\n",
    "    else:\n",
    "        # Reduce the number of batches to match the total number of batches in the data loader\n",
    "        # if num_batches exceeds the number of batches in the data loader\n",
    "        num_batches = min(num_batches, len(data_loader))\n",
    "    for i, (input_batch, target_batch) in enumerate(data_loader):\n",
    "        if i < num_batches:\n",
    "            loss = calc_loss_batch(input_batch, target_batch, model, device)\n",
    "            total_loss += loss.item()\n",
    "        else:\n",
    "            break\n",
    "    return total_loss / num_batches"
   ]
  },
  {
   "cell_type": "code",
   "execution_count": 32,
   "metadata": {
    "execution": {
     "iopub.execute_input": "2025-06-18T16:40:12.478991Z",
     "iopub.status.busy": "2025-06-18T16:40:12.478773Z",
     "iopub.status.idle": "2025-06-18T16:40:18.825147Z",
     "shell.execute_reply": "2025-06-18T16:40:18.824409Z",
     "shell.execute_reply.started": "2025-06-18T16:40:12.478970Z"
    },
    "trusted": true
   },
   "outputs": [
    {
     "name": "stdout",
     "output_type": "stream",
     "text": [
      "Training loss: 3.127\n",
      "Validation loss: 3.435\n",
      "Test loss: 3.308\n"
     ]
    }
   ],
   "source": [
    "with torch.no_grad(): # Disable gradient tracking for efficiency because we are not training, yet\n",
    "    train_loss = calc_loss_loader(train_loader, model, device, num_batches=5)\n",
    "    val_loss = calc_loss_loader(val_loader, model, device, num_batches=5)\n",
    "    test_loss = calc_loss_loader(test_loader, model, device, num_batches=5)\n",
    "\n",
    "print(f\"Training loss: {train_loss:.3f}\")\n",
    "print(f\"Validation loss: {val_loss:.3f}\")\n",
    "print(f\"Test loss: {test_loss:.3f}\")"
   ]
  },
  {
   "cell_type": "code",
   "execution_count": 33,
   "metadata": {
    "execution": {
     "iopub.execute_input": "2025-06-18T16:40:18.826102Z",
     "iopub.status.busy": "2025-06-18T16:40:18.825919Z",
     "iopub.status.idle": "2025-06-18T16:40:18.833594Z",
     "shell.execute_reply": "2025-06-18T16:40:18.832843Z",
     "shell.execute_reply.started": "2025-06-18T16:40:18.826087Z"
    },
    "trusted": true
   },
   "outputs": [],
   "source": [
    "def train_classifier_simple(model, train_loader, val_loader, optimizer, device, num_epochs,\n",
    "                            eval_freq, eval_iter):\n",
    "    # Initialize lists to track losses and examples seen\n",
    "    train_losses, val_losses, train_accs, val_accs = [], [], [], []\n",
    "    examples_seen, global_step = 0, -1\n",
    "\n",
    "    # Main training loop\n",
    "    for epoch in range(num_epochs):\n",
    "        model.train()  # Set model to training mode\n",
    "\n",
    "        for input_batch, target_batch in train_loader:\n",
    "            optimizer.zero_grad() # Reset loss gradients from previous batch iteration\n",
    "            loss = calc_loss_batch(input_batch, target_batch, model, device)\n",
    "            loss.backward() # Calculate loss gradients\n",
    "            optimizer.step() # Update model weights using loss gradients\n",
    "            examples_seen += input_batch.shape[0] # New: track examples instead of tokens\n",
    "            global_step += 1\n",
    "\n",
    "            # Optional evaluation step\n",
    "            if global_step % eval_freq == 0:\n",
    "                train_loss, val_loss = evaluate_model(\n",
    "                    model, train_loader, val_loader, device, eval_iter)\n",
    "                train_losses.append(train_loss)\n",
    "                val_losses.append(val_loss)\n",
    "                print(f\"Ep {epoch+1} (Step {global_step:06d}): \"\n",
    "                      f\"Train loss {train_loss:.3f}, Val loss {val_loss:.3f}\")\n",
    "\n",
    "        # Calculate accuracy after each epoch\n",
    "        train_accuracy = calc_accuracy_loader(train_loader, model, device, num_batches=eval_iter)\n",
    "        val_accuracy = calc_accuracy_loader(val_loader, model, device, num_batches=eval_iter)\n",
    "        print(f\"Training accuracy: {train_accuracy*100:.2f}% | \", end=\"\")\n",
    "        print(f\"Validation accuracy: {val_accuracy*100:.2f}%\")\n",
    "        train_accs.append(train_accuracy)\n",
    "        val_accs.append(val_accuracy)\n",
    "\n",
    "    return train_losses, val_losses, train_accs, val_accs, examples_seen"
   ]
  },
  {
   "cell_type": "code",
   "execution_count": 34,
   "metadata": {
    "execution": {
     "iopub.execute_input": "2025-06-18T16:40:18.834497Z",
     "iopub.status.busy": "2025-06-18T16:40:18.834211Z",
     "iopub.status.idle": "2025-06-18T16:40:18.854990Z",
     "shell.execute_reply": "2025-06-18T16:40:18.854244Z",
     "shell.execute_reply.started": "2025-06-18T16:40:18.834473Z"
    },
    "trusted": true
   },
   "outputs": [],
   "source": [
    "def evaluate_model(model, train_loader, val_loader, device, eval_iter):\n",
    "    model.eval()\n",
    "    with torch.no_grad():\n",
    "        train_loss = calc_loss_loader(train_loader, model, device, num_batches=eval_iter)\n",
    "        val_loss = calc_loss_loader(val_loader, model, device, num_batches=eval_iter)\n",
    "    model.train()\n",
    "    return train_loss, val_loss"
   ]
  },
  {
   "cell_type": "code",
   "execution_count": 35,
   "metadata": {
    "execution": {
     "iopub.execute_input": "2025-06-18T16:40:18.855998Z",
     "iopub.status.busy": "2025-06-18T16:40:18.855752Z",
     "iopub.status.idle": "2025-06-18T18:34:48.716849Z",
     "shell.execute_reply": "2025-06-18T18:34:48.716212Z",
     "shell.execute_reply.started": "2025-06-18T16:40:18.855976Z"
    },
    "trusted": true
   },
   "outputs": [
    {
     "name": "stdout",
     "output_type": "stream",
     "text": [
      "Ep 1 (Step 000000): Train loss 3.107, Val loss 3.259\n",
      "Ep 1 (Step 000050): Train loss 1.440, Val loss 1.403\n",
      "Ep 1 (Step 000100): Train loss 1.402, Val loss 1.417\n",
      "Ep 1 (Step 000150): Train loss 1.383, Val loss 1.390\n",
      "Ep 1 (Step 000200): Train loss 1.380, Val loss 1.394\n",
      "Ep 1 (Step 000250): Train loss 1.378, Val loss 1.389\n",
      "Ep 1 (Step 000300): Train loss 1.361, Val loss 1.345\n",
      "Ep 1 (Step 000350): Train loss 1.283, Val loss 1.292\n",
      "Ep 1 (Step 000400): Train loss 1.303, Val loss 1.297\n",
      "Ep 1 (Step 000450): Train loss 1.179, Val loss 1.141\n",
      "Ep 1 (Step 000500): Train loss 1.049, Val loss 1.061\n",
      "Ep 1 (Step 000550): Train loss 0.987, Val loss 0.939\n",
      "Ep 1 (Step 000600): Train loss 0.786, Val loss 0.846\n",
      "Ep 1 (Step 000650): Train loss 0.708, Val loss 0.800\n",
      "Ep 1 (Step 000700): Train loss 0.644, Val loss 0.638\n",
      "Ep 1 (Step 000750): Train loss 0.621, Val loss 0.585\n",
      "Ep 1 (Step 000800): Train loss 0.641, Val loss 0.612\n",
      "Ep 1 (Step 000850): Train loss 0.464, Val loss 0.536\n",
      "Ep 1 (Step 000900): Train loss 0.535, Val loss 0.506\n",
      "Ep 1 (Step 000950): Train loss 0.515, Val loss 0.493\n",
      "Ep 1 (Step 001000): Train loss 0.281, Val loss 0.535\n",
      "Ep 1 (Step 001050): Train loss 0.606, Val loss 0.488\n",
      "Ep 1 (Step 001100): Train loss 0.424, Val loss 0.497\n",
      "Ep 1 (Step 001150): Train loss 0.478, Val loss 0.483\n",
      "Ep 1 (Step 001200): Train loss 0.384, Val loss 0.438\n",
      "Ep 1 (Step 001250): Train loss 0.377, Val loss 0.464\n",
      "Ep 1 (Step 001300): Train loss 0.416, Val loss 0.500\n",
      "Ep 1 (Step 001350): Train loss 0.541, Val loss 0.442\n",
      "Ep 1 (Step 001400): Train loss 0.313, Val loss 0.406\n",
      "Ep 1 (Step 001450): Train loss 0.359, Val loss 0.419\n",
      "Ep 1 (Step 001500): Train loss 0.350, Val loss 0.433\n",
      "Ep 1 (Step 001550): Train loss 0.316, Val loss 0.417\n",
      "Ep 1 (Step 001600): Train loss 0.336, Val loss 0.393\n",
      "Ep 1 (Step 001650): Train loss 0.338, Val loss 0.394\n",
      "Ep 1 (Step 001700): Train loss 0.305, Val loss 0.365\n",
      "Ep 1 (Step 001750): Train loss 0.288, Val loss 0.379\n",
      "Ep 1 (Step 001800): Train loss 0.365, Val loss 0.392\n",
      "Ep 1 (Step 001850): Train loss 0.285, Val loss 0.389\n",
      "Ep 1 (Step 001900): Train loss 0.315, Val loss 0.385\n",
      "Ep 1 (Step 001950): Train loss 0.322, Val loss 0.372\n",
      "Ep 1 (Step 002000): Train loss 0.281, Val loss 0.438\n",
      "Ep 1 (Step 002050): Train loss 0.332, Val loss 0.365\n",
      "Ep 1 (Step 002100): Train loss 0.173, Val loss 0.387\n",
      "Ep 1 (Step 002150): Train loss 0.390, Val loss 0.399\n",
      "Ep 1 (Step 002200): Train loss 0.309, Val loss 0.408\n",
      "Ep 1 (Step 002250): Train loss 0.269, Val loss 0.388\n",
      "Ep 1 (Step 002300): Train loss 0.317, Val loss 0.418\n",
      "Ep 1 (Step 002350): Train loss 0.261, Val loss 0.378\n",
      "Ep 1 (Step 002400): Train loss 0.274, Val loss 0.352\n",
      "Ep 1 (Step 002450): Train loss 0.322, Val loss 0.373\n",
      "Ep 1 (Step 002500): Train loss 0.338, Val loss 0.352\n",
      "Ep 1 (Step 002550): Train loss 0.310, Val loss 0.373\n",
      "Ep 1 (Step 002600): Train loss 0.257, Val loss 0.326\n",
      "Ep 1 (Step 002650): Train loss 0.278, Val loss 0.338\n",
      "Ep 1 (Step 002700): Train loss 0.206, Val loss 0.349\n",
      "Ep 1 (Step 002750): Train loss 0.300, Val loss 0.356\n",
      "Ep 1 (Step 002800): Train loss 0.329, Val loss 0.359\n",
      "Ep 1 (Step 002850): Train loss 0.187, Val loss 0.367\n",
      "Ep 1 (Step 002900): Train loss 0.324, Val loss 0.310\n",
      "Ep 1 (Step 002950): Train loss 0.394, Val loss 0.315\n",
      "Ep 1 (Step 003000): Train loss 0.445, Val loss 0.383\n",
      "Ep 1 (Step 003050): Train loss 0.255, Val loss 0.366\n",
      "Ep 1 (Step 003100): Train loss 0.236, Val loss 0.342\n",
      "Ep 1 (Step 003150): Train loss 0.302, Val loss 0.301\n",
      "Training accuracy: 87.50% | Validation accuracy: 87.50%\n",
      "Ep 2 (Step 003200): Train loss 0.347, Val loss 0.338\n",
      "Ep 2 (Step 003250): Train loss 0.200, Val loss 0.394\n",
      "Ep 2 (Step 003300): Train loss 0.259, Val loss 0.295\n",
      "Ep 2 (Step 003350): Train loss 0.179, Val loss 0.313\n",
      "Ep 2 (Step 003400): Train loss 0.444, Val loss 0.286\n",
      "Ep 2 (Step 003450): Train loss 0.277, Val loss 0.316\n",
      "Ep 2 (Step 003500): Train loss 0.237, Val loss 0.343\n",
      "Ep 2 (Step 003550): Train loss 0.332, Val loss 0.375\n",
      "Ep 2 (Step 003600): Train loss 0.242, Val loss 0.308\n",
      "Ep 2 (Step 003650): Train loss 0.313, Val loss 0.291\n",
      "Ep 2 (Step 003700): Train loss 0.306, Val loss 0.317\n",
      "Ep 2 (Step 003750): Train loss 0.282, Val loss 0.324\n",
      "Ep 2 (Step 003800): Train loss 0.244, Val loss 0.321\n",
      "Ep 2 (Step 003850): Train loss 0.220, Val loss 0.317\n",
      "Ep 2 (Step 003900): Train loss 0.290, Val loss 0.293\n",
      "Ep 2 (Step 003950): Train loss 0.298, Val loss 0.326\n",
      "Ep 2 (Step 004000): Train loss 0.317, Val loss 0.299\n",
      "Ep 2 (Step 004050): Train loss 0.250, Val loss 0.284\n",
      "Ep 2 (Step 004100): Train loss 0.293, Val loss 0.321\n",
      "Ep 2 (Step 004150): Train loss 0.262, Val loss 0.281\n",
      "Ep 2 (Step 004200): Train loss 0.267, Val loss 0.275\n",
      "Ep 2 (Step 004250): Train loss 0.213, Val loss 0.307\n",
      "Ep 2 (Step 004300): Train loss 0.264, Val loss 0.309\n",
      "Ep 2 (Step 004350): Train loss 0.215, Val loss 0.306\n",
      "Ep 2 (Step 004400): Train loss 0.226, Val loss 0.293\n",
      "Ep 2 (Step 004450): Train loss 0.271, Val loss 0.319\n",
      "Ep 2 (Step 004500): Train loss 0.251, Val loss 0.262\n",
      "Ep 2 (Step 004550): Train loss 0.336, Val loss 0.258\n",
      "Ep 2 (Step 004600): Train loss 0.167, Val loss 0.268\n",
      "Ep 2 (Step 004650): Train loss 0.221, Val loss 0.328\n",
      "Ep 2 (Step 004700): Train loss 0.279, Val loss 0.285\n",
      "Ep 2 (Step 004750): Train loss 0.186, Val loss 0.266\n",
      "Ep 2 (Step 004800): Train loss 0.224, Val loss 0.256\n",
      "Ep 2 (Step 004850): Train loss 0.262, Val loss 0.298\n",
      "Ep 2 (Step 004900): Train loss 0.291, Val loss 0.257\n",
      "Ep 2 (Step 004950): Train loss 0.208, Val loss 0.288\n",
      "Ep 2 (Step 005000): Train loss 0.390, Val loss 0.306\n",
      "Ep 2 (Step 005050): Train loss 0.206, Val loss 0.308\n",
      "Ep 2 (Step 005100): Train loss 0.262, Val loss 0.269\n",
      "Ep 2 (Step 005150): Train loss 0.234, Val loss 0.293\n",
      "Ep 2 (Step 005200): Train loss 0.265, Val loss 0.266\n",
      "Ep 2 (Step 005250): Train loss 0.182, Val loss 0.302\n",
      "Ep 2 (Step 005300): Train loss 0.226, Val loss 0.323\n",
      "Ep 2 (Step 005350): Train loss 0.214, Val loss 0.303\n",
      "Ep 2 (Step 005400): Train loss 0.247, Val loss 0.281\n",
      "Ep 2 (Step 005450): Train loss 0.170, Val loss 0.258\n",
      "Ep 2 (Step 005500): Train loss 0.208, Val loss 0.264\n",
      "Ep 2 (Step 005550): Train loss 0.245, Val loss 0.256\n",
      "Ep 2 (Step 005600): Train loss 0.169, Val loss 0.259\n",
      "Ep 2 (Step 005650): Train loss 0.363, Val loss 0.245\n",
      "Ep 2 (Step 005700): Train loss 0.216, Val loss 0.261\n",
      "Ep 2 (Step 005750): Train loss 0.175, Val loss 0.239\n",
      "Ep 2 (Step 005800): Train loss 0.216, Val loss 0.241\n",
      "Ep 2 (Step 005850): Train loss 0.223, Val loss 0.249\n",
      "Ep 2 (Step 005900): Train loss 0.271, Val loss 0.235\n",
      "Ep 2 (Step 005950): Train loss 0.230, Val loss 0.247\n",
      "Ep 2 (Step 006000): Train loss 0.329, Val loss 0.261\n",
      "Ep 2 (Step 006050): Train loss 0.213, Val loss 0.259\n",
      "Ep 2 (Step 006100): Train loss 0.208, Val loss 0.253\n",
      "Ep 2 (Step 006150): Train loss 0.260, Val loss 0.281\n",
      "Ep 2 (Step 006200): Train loss 0.236, Val loss 0.243\n",
      "Ep 2 (Step 006250): Train loss 0.191, Val loss 0.266\n",
      "Ep 2 (Step 006300): Train loss 0.211, Val loss 0.251\n",
      "Ep 2 (Step 006350): Train loss 0.366, Val loss 0.270\n",
      "Training accuracy: 91.25% | Validation accuracy: 91.25%\n",
      "Ep 3 (Step 006400): Train loss 0.282, Val loss 0.239\n",
      "Ep 3 (Step 006450): Train loss 0.236, Val loss 0.263\n",
      "Ep 3 (Step 006500): Train loss 0.207, Val loss 0.273\n",
      "Ep 3 (Step 006550): Train loss 0.148, Val loss 0.256\n",
      "Ep 3 (Step 006600): Train loss 0.277, Val loss 0.240\n",
      "Ep 3 (Step 006650): Train loss 0.321, Val loss 0.285\n",
      "Ep 3 (Step 006700): Train loss 0.261, Val loss 0.270\n",
      "Ep 3 (Step 006750): Train loss 0.325, Val loss 0.265\n",
      "Ep 3 (Step 006800): Train loss 0.173, Val loss 0.245\n",
      "Ep 3 (Step 006850): Train loss 0.253, Val loss 0.292\n",
      "Ep 3 (Step 006900): Train loss 0.205, Val loss 0.270\n",
      "Ep 3 (Step 006950): Train loss 0.193, Val loss 0.268\n",
      "Ep 3 (Step 007000): Train loss 0.160, Val loss 0.242\n",
      "Ep 3 (Step 007050): Train loss 0.151, Val loss 0.221\n",
      "Ep 3 (Step 007100): Train loss 0.226, Val loss 0.240\n",
      "Ep 3 (Step 007150): Train loss 0.191, Val loss 0.244\n",
      "Ep 3 (Step 007200): Train loss 0.208, Val loss 0.229\n",
      "Ep 3 (Step 007250): Train loss 0.146, Val loss 0.266\n",
      "Ep 3 (Step 007300): Train loss 0.151, Val loss 0.261\n",
      "Ep 3 (Step 007350): Train loss 0.261, Val loss 0.248\n",
      "Ep 3 (Step 007400): Train loss 0.206, Val loss 0.241\n",
      "Ep 3 (Step 007450): Train loss 0.183, Val loss 0.231\n",
      "Ep 3 (Step 007500): Train loss 0.210, Val loss 0.225\n",
      "Ep 3 (Step 007550): Train loss 0.178, Val loss 0.228\n",
      "Ep 3 (Step 007600): Train loss 0.147, Val loss 0.244\n",
      "Ep 3 (Step 007650): Train loss 0.265, Val loss 0.236\n",
      "Ep 3 (Step 007700): Train loss 0.231, Val loss 0.252\n",
      "Ep 3 (Step 007750): Train loss 0.170, Val loss 0.245\n",
      "Ep 3 (Step 007800): Train loss 0.213, Val loss 0.261\n",
      "Ep 3 (Step 007850): Train loss 0.157, Val loss 0.256\n",
      "Ep 3 (Step 007900): Train loss 0.267, Val loss 0.249\n",
      "Ep 3 (Step 007950): Train loss 0.173, Val loss 0.222\n",
      "Ep 3 (Step 008000): Train loss 0.227, Val loss 0.214\n",
      "Ep 3 (Step 008050): Train loss 0.309, Val loss 0.234\n",
      "Ep 3 (Step 008100): Train loss 0.110, Val loss 0.255\n",
      "Ep 3 (Step 008150): Train loss 0.168, Val loss 0.251\n",
      "Ep 3 (Step 008200): Train loss 0.207, Val loss 0.259\n",
      "Ep 3 (Step 008250): Train loss 0.208, Val loss 0.239\n",
      "Ep 3 (Step 008300): Train loss 0.265, Val loss 0.238\n",
      "Ep 3 (Step 008350): Train loss 0.214, Val loss 0.257\n",
      "Ep 3 (Step 008400): Train loss 0.159, Val loss 0.246\n",
      "Ep 3 (Step 008450): Train loss 0.217, Val loss 0.223\n",
      "Ep 3 (Step 008500): Train loss 0.180, Val loss 0.225\n",
      "Ep 3 (Step 008550): Train loss 0.237, Val loss 0.218\n",
      "Ep 3 (Step 008600): Train loss 0.288, Val loss 0.245\n",
      "Ep 3 (Step 008650): Train loss 0.148, Val loss 0.243\n",
      "Ep 3 (Step 008700): Train loss 0.270, Val loss 0.238\n",
      "Ep 3 (Step 008750): Train loss 0.167, Val loss 0.253\n",
      "Ep 3 (Step 008800): Train loss 0.172, Val loss 0.250\n",
      "Ep 3 (Step 008850): Train loss 0.147, Val loss 0.249\n",
      "Ep 3 (Step 008900): Train loss 0.286, Val loss 0.237\n",
      "Ep 3 (Step 008950): Train loss 0.149, Val loss 0.245\n",
      "Ep 3 (Step 009000): Train loss 0.188, Val loss 0.243\n",
      "Ep 3 (Step 009050): Train loss 0.148, Val loss 0.247\n",
      "Ep 3 (Step 009100): Train loss 0.185, Val loss 0.224\n",
      "Ep 3 (Step 009150): Train loss 0.109, Val loss 0.242\n",
      "Ep 3 (Step 009200): Train loss 0.151, Val loss 0.232\n",
      "Ep 3 (Step 009250): Train loss 0.135, Val loss 0.231\n",
      "Ep 3 (Step 009300): Train loss 0.137, Val loss 0.238\n",
      "Ep 3 (Step 009350): Train loss 0.151, Val loss 0.244\n",
      "Ep 3 (Step 009400): Train loss 0.249, Val loss 0.227\n",
      "Ep 3 (Step 009450): Train loss 0.300, Val loss 0.280\n",
      "Ep 3 (Step 009500): Train loss 0.185, Val loss 0.207\n",
      "Ep 3 (Step 009550): Train loss 0.137, Val loss 0.280\n",
      "Training accuracy: 95.62% | Validation accuracy: 93.12%\n",
      "Training completed in 114.50 minutes.\n"
     ]
    }
   ],
   "source": [
    "import time\n",
    "\n",
    "start_time = time.time()\n",
    "\n",
    "torch.manual_seed(123)\n",
    "\n",
    "optimizer = torch.optim.AdamW(model.parameters(), lr=9e-6, weight_decay=0.1)\n",
    "\n",
    "num_epochs = 3\n",
    "train_losses, val_losses, train_accs, val_accs, examples_seen = train_classifier_simple(\n",
    "    model, train_loader, val_loader, optimizer, device,\n",
    "    num_epochs=num_epochs, eval_freq=50, eval_iter=5,\n",
    ")\n",
    "\n",
    "end_time = time.time()\n",
    "execution_time_minutes = (end_time - start_time) / 60\n",
    "print(f\"Training completed in {execution_time_minutes:.2f} minutes.\")"
   ]
  },
  {
   "cell_type": "code",
   "execution_count": 36,
   "metadata": {
    "execution": {
     "iopub.execute_input": "2025-06-18T18:34:48.718124Z",
     "iopub.status.busy": "2025-06-18T18:34:48.717567Z",
     "iopub.status.idle": "2025-06-18T18:34:49.504736Z",
     "shell.execute_reply": "2025-06-18T18:34:49.504169Z",
     "shell.execute_reply.started": "2025-06-18T18:34:48.718105Z"
    },
    "trusted": true
   },
   "outputs": [],
   "source": [
    "torch.save(model.state_dict(), \"News_classifier.pth\")"
   ]
  },
  {
   "cell_type": "code",
   "execution_count": 37,
   "metadata": {
    "execution": {
     "iopub.execute_input": "2025-06-18T18:34:49.505868Z",
     "iopub.status.busy": "2025-06-18T18:34:49.505603Z",
     "iopub.status.idle": "2025-06-18T18:34:49.927745Z",
     "shell.execute_reply": "2025-06-18T18:34:49.927135Z",
     "shell.execute_reply.started": "2025-06-18T18:34:49.505846Z"
    },
    "trusted": true
   },
   "outputs": [
    {
     "data": {
      "text/plain": [
       "<All keys matched successfully>"
      ]
     },
     "execution_count": 37,
     "metadata": {},
     "output_type": "execute_result"
    }
   ],
   "source": [
    "model_state_dict = torch.load(\"News_classifier.pth\")\n",
    "model.load_state_dict(model_state_dict)"
   ]
  },
  {
   "cell_type": "code",
   "execution_count": 38,
   "metadata": {
    "execution": {
     "iopub.execute_input": "2025-06-18T18:34:49.928684Z",
     "iopub.status.busy": "2025-06-18T18:34:49.928438Z",
     "iopub.status.idle": "2025-06-18T18:34:49.933864Z",
     "shell.execute_reply": "2025-06-18T18:34:49.933138Z",
     "shell.execute_reply.started": "2025-06-18T18:34:49.928668Z"
    },
    "trusted": true
   },
   "outputs": [],
   "source": [
    "import matplotlib.pyplot as plt\n",
    "\n",
    "def plot_values(epochs_seen, examples_seen, train_values, val_values, label=\"loss\"):\n",
    "    fig, ax1 = plt.subplots(figsize=(5, 3))\n",
    "\n",
    "    # Plot training and validation loss against epochs\n",
    "    ax1.plot(epochs_seen, train_values, label=f\"Training {label}\")\n",
    "    ax1.plot(epochs_seen, val_values, linestyle=\"-.\", label=f\"Validation {label}\")\n",
    "    ax1.set_xlabel(\"Epochs\")\n",
    "    ax1.set_ylabel(label.capitalize())\n",
    "    ax1.legend()\n",
    "\n",
    "    # Create a second x-axis for examples seen\n",
    "    ax2 = ax1.twiny()  # Create a second x-axis that shares the same y-axis\n",
    "    ax2.plot(examples_seen, train_values, alpha=0)  # Invisible plot for aligning ticks\n",
    "    ax2.set_xlabel(\"Examples seen\")\n",
    "\n",
    "    fig.tight_layout()  # Adjust layout to make room\n",
    "    plt.savefig(f\"{label}-plot.pdf\")\n",
    "    plt.show()"
   ]
  },
  {
   "cell_type": "code",
   "execution_count": 39,
   "metadata": {
    "execution": {
     "iopub.execute_input": "2025-06-18T18:34:49.935123Z",
     "iopub.status.busy": "2025-06-18T18:34:49.934880Z",
     "iopub.status.idle": "2025-06-18T18:34:51.063072Z",
     "shell.execute_reply": "2025-06-18T18:34:51.062426Z",
     "shell.execute_reply.started": "2025-06-18T18:34:49.935104Z"
    },
    "trusted": true
   },
   "outputs": [
    {
     "data": {
      "image/png": "[encoded data removed]",
      "text/plain": [
       "<Figure size 500x300 with 2 Axes>"
      ]
     },
     "metadata": {},
     "output_type": "display_data"
    }
   ],
   "source": [
    "epochs_tensor = torch.linspace(0, num_epochs, len(train_losses))\n",
    "examples_seen_tensor = torch.linspace(0, examples_seen, len(train_losses))\n",
    "\n",
    "plot_values(epochs_tensor, examples_seen_tensor, train_losses, val_losses)"
   ]
  },
  {
   "cell_type": "code",
   "execution_count": 44,
   "metadata": {
    "execution": {
     "iopub.execute_input": "2025-06-18T18:37:36.558598Z",
     "iopub.status.busy": "2025-06-18T18:37:36.558093Z",
     "iopub.status.idle": "2025-06-18T18:37:36.563306Z",
     "shell.execute_reply": "2025-06-18T18:37:36.562636Z",
     "shell.execute_reply.started": "2025-06-18T18:37:36.558575Z"
    },
    "trusted": true
   },
   "outputs": [],
   "source": [
    "def classify_news(text, model, tokenizer, device, max_length=None, pad_token_id=50256):\n",
    "    model.eval()\n",
    "\n",
    "    # Prepare inputs to the model\n",
    "    input_ids = tokenizer.encode(text)\n",
    "    supported_context_length = model.pos_emb.weight.shape[0]\n",
    "\n",
    "    input_ids = input_ids[:min(max_length, supported_context_length)]\n",
    "\n",
    "    # Pad sequences to the longest sequence\n",
    "    input_ids += [pad_token_id] * (max_length - len(input_ids))\n",
    "    input_tensor = torch.tensor(input_ids, device=device).unsqueeze(0) # add batch dimension\n",
    "\n",
    "    # Model inference\n",
    "    with torch.no_grad():\n",
    "        logits = model(input_tensor)[:, -1, :]  # Logits of the last output token\n",
    "    predicted_label = torch.argmax(logits, dim=-1).item()\n",
    "    # print(predicted_label)\n",
    "    # Return the classified result\n",
    "    return labels[predicted_label]\n",
    "\n"
   ]
  },
  {
   "cell_type": "code",
   "execution_count": 50,
   "metadata": {
    "execution": {
     "iopub.execute_input": "2025-06-18T19:12:59.418147Z",
     "iopub.status.busy": "2025-06-18T19:12:59.417443Z",
     "iopub.status.idle": "2025-06-18T19:12:59.507240Z",
     "shell.execute_reply": "2025-06-18T19:12:59.506695Z",
     "shell.execute_reply.started": "2025-06-18T19:12:59.418122Z"
    },
    "trusted": true
   },
   "outputs": [
    {
     "name": "stdout",
     "output_type": "stream",
     "text": [
      "Sports\n",
      "Business\n",
      "Sci/Tech\n",
      "World\n"
     ]
    }
   ],
   "source": [
    "text_1 = (\n",
    "    \"cricket lives in the heart and soul of every indian. stumps , bats and balls \"\n",
    ")\n",
    "text_2=(\n",
    "    \"ELON MUSK Looks Toward Commercial telephone market investment in reliance jio Group,\\which has a reputation for making well-timed and occasionally\\controversial plays in the defense industry, has quietly placed\\its bets on another part of the market.\"\n",
    ")\n",
    "text_3=(\n",
    "    \"The evolution of tesla cybertruck is amazing. the horse power of that car is amazing.\"\n",
    ")\n",
    "text_4=(\n",
    "    \"\"\"plane crash at ahmedabad airport causes shock to the nation. A bomb exploded during an republic Day parade in India's remote southeast friday, killing more than 100 people, including old age people, while a rocket attack during a \n",
    "    celebration at a garden in the hilly area of pathankot injured 155, the news reported\"\"\"\n",
    ")\n",
    "print(classify_news(\n",
    "    text_1, model, tokenizer, device, max_length=train_dataset.max_length\n",
    "))\n",
    "print(classify_news(\n",
    "    text_2, model, tokenizer, device, max_length=train_dataset.max_length\n",
    "))\n",
    "print(classify_news(\n",
    "    text_3, model, tokenizer, device, max_length=train_dataset.max_length\n",
    "))\n",
    "print(classify_news(\n",
    "    text_4, model, tokenizer, device, max_length=train_dataset.max_length\n",
    "))"
   ]
  },
  {
   "cell_type": "code",
   "execution_count": 46,
   "metadata": {
    "execution": {
     "iopub.execute_input": "2025-06-18T18:37:39.748693Z",
     "iopub.status.busy": "2025-06-18T18:37:39.748147Z",
     "iopub.status.idle": "2025-06-18T19:05:47.852172Z",
     "shell.execute_reply": "2025-06-18T19:05:47.851346Z",
     "shell.execute_reply.started": "2025-06-18T18:37:39.748672Z"
    },
    "trusted": true
   },
   "outputs": [
    {
     "name": "stdout",
     "output_type": "stream",
     "text": [
      "Training accuracy: 93.16%\n",
      "Validation accuracy: 92.86%\n",
      "Test accuracy: 92.67%\n"
     ]
    }
   ],
   "source": [
    "train_accuracy = calc_accuracy_loader(train_loader, model, device)\n",
    "val_accuracy = calc_accuracy_loader(val_loader, model, device)\n",
    "test_accuracy = calc_accuracy_loader(test_loader, model, device)\n",
    "\n",
    "print(f\"Training accuracy: {train_accuracy*100:.2f}%\")\n",
    "print(f\"Validation accuracy: {val_accuracy*100:.2f}%\")\n",
    "print(f\"Test accuracy: {test_accuracy*100:.2f}%\")"
   ]
  }
 ],
 "metadata": {
  "kaggle": {
   "accelerator": "gpu",
   "dataSources": [],
   "dockerImageVersionId": 31041,
   "isGpuEnabled": true,
   "isInternetEnabled": true,
   "language": "python",
   "sourceType": "notebook"
  },
  "kernelspec": {
   "display_name": "Python 3",
   "language": "python",
   "name": "python3"
  },
  "language_info": {
   "codemirror_mode": {
    "name": "ipython",
    "version": 3
   },
   "file_extension": ".py",
   "mimetype": "text/x-python",
   "name": "python",
   "nbconvert_exporter": "python",
   "pygments_lexer": "ipython3",
   "version": "3.11.11"
  }
 },
 "nbformat": 4,
 "nbformat_minor": 4
}
