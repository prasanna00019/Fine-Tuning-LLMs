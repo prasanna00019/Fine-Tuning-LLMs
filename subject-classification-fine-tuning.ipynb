{
 "cells": [
  {
   "cell_type": "markdown",
   "metadata": {},
   "source": [
    "# Fine-Tuning GPT-2 for Subject Classification\n",
    "\n",
    "This project demonstrates how to fine-tune a pre-trained GPT-2 model for the task of classifying student questions into four subjects: **Maths, Chemistry, Physics, and Biology**. The workflow covers data preparation, model adaptation, training, evaluation, and inference.\n",
    "\n",
    "---\n",
    "\n",
    "## Project Workflow\n",
    "\n",
    "### 1. **Data Preparation**\n",
    "- **Dataset:** Student questions dataset from Kaggle, containing questions labeled by subject.\n",
    "- **Balancing:** The dataset is imbalanced (Biology has more entries). We balance it by random sampling so each subject has an equal number of examples.\n",
    "- **Label Encoding:** Subject names are mapped to numerical labels:  \n",
    "    `Maths: 0, Chemistry: 1, Physics: 2, Biology: 3`\n",
    "- **Splitting:** The data is split into training (70%), validation (10%), and test (20%) sets.\n",
    "- **Saving:** Each split is saved as a CSV file for reproducibility.\n",
    "\n",
    "### 2. **Tokenization & Dataset Class**\n",
    "- **Tokenizer:** Uses GPT-2's `tiktoken` tokenizer to encode questions.\n",
    "- **Custom Dataset:** Implements a PyTorch `Dataset` class to handle tokenization, padding, and loading of data for training.\n",
    "\n",
    "### 3. **Model Preparation**\n",
    "- **Model Loading:** Downloads and loads the pre-trained GPT-2 model weights.\n",
    "- **Model Modification:**  \n",
    "    - The output head is replaced with a linear layer for 4-class classification.\n",
    "    - All model parameters are frozen except the output head and the last transformer block (and optionally the final normalization layer) to allow efficient fine-tuning.\n",
    "\n",
    "### 4. **Training**\n",
    "- **Loss & Accuracy Functions:** Custom functions for calculating cross-entropy loss and accuracy.\n",
    "- **Training Loop:**  \n",
    "    - Uses AdamW optimizer.\n",
    "    - Tracks and prints training/validation loss and accuracy.\n",
    "    - Evaluates model performance at regular intervals.\n",
    "- **Saving:** The trained model is saved for later inference.\n",
    "\n",
    "### 5. **Evaluation & Visualization**\n",
    "- **Accuracy:** Evaluates the model on training, validation, and test sets.\n",
    "- **Visualization:** Plots loss and accuracy curves over epochs and examples seen.\n",
    "\n",
    "### 6. **Inference**\n",
    "- **Classification Function:** Provides a function to classify new questions into one of the four subjects.\n",
    "- **Testing:** Demonstrates the classifier on sample questions.\n",
    "\n",
    "---\n",
    "\n",
    "## Results\n",
    "\n",
    "- **Training Accuracy:** ~91%\n",
    "- **Validation Accuracy:** ~90%\n",
    "- **Test Accuracy:** ~90%\n",
    "\n",
    "The fine-tuned GPT-2 model achieves high accuracy in classifying student questions by subject, demonstrating the effectiveness of transfer learning and transformer-based models for text classification tasks.\n",
    "\n",
    "---\n",
    "\n",
    "## Key Takeaways\n",
    "\n",
    "- **Transfer Learning:** Leveraging pre-trained language models like GPT-2 enables efficient adaptation to downstream tasks with limited labeled data.\n",
    "- **Balanced Data:** Addressing class imbalance is crucial for fair and robust classification.\n",
    "- **Layer Freezing:** Fine-tuning only the output head and last transformer block preserves pre-trained knowledge while adapting to new tasks.\n",
    "- **Reproducibility:** Saving splits and model weights ensures results can be reproduced and extended.\n",
    "\n",
    "---\n",
    "\n",
    "**This notebook provides a complete, reproducible pipeline for fine-tuning GPT-2 on a real-world text classification problem.**"
   ]
  },
  {
   "cell_type": "code",
   "execution_count": 2,
   "metadata": {
    "execution": {
     "iopub.execute_input": "2025-06-18T10:21:42.806204Z",
     "iopub.status.busy": "2025-06-18T10:21:42.805970Z",
     "iopub.status.idle": "2025-06-18T10:21:50.844951Z",
     "shell.execute_reply": "2025-06-18T10:21:50.844129Z",
     "shell.execute_reply.started": "2025-06-18T10:21:42.806179Z"
    },
    "trusted": true
   },
   "outputs": [
    {
     "name": "stdout",
     "output_type": "stream",
     "text": [
      "Requirement already satisfied: tiktoken in /opt/conda/lib/python3.10/site-packages (0.9.0)\n",
      "Requirement already satisfied: regex>=2022.1.18 in /opt/conda/lib/python3.10/site-packages (from tiktoken) (2024.5.15)\n",
      "Requirement already satisfied: requests>=2.26.0 in /opt/conda/lib/python3.10/site-packages (from tiktoken) (2.32.3)\n",
      "Requirement already satisfied: charset-normalizer<4,>=2 in /opt/conda/lib/python3.10/site-packages (from requests>=2.26.0->tiktoken) (3.3.2)\n",
      "Requirement already satisfied: idna<4,>=2.5 in /opt/conda/lib/python3.10/site-packages (from requests>=2.26.0->tiktoken) (3.7)\n",
      "Requirement already satisfied: urllib3<3,>=1.21.1 in /opt/conda/lib/python3.10/site-packages (from requests>=2.26.0->tiktoken) (1.26.18)\n",
      "Requirement already satisfied: certifi>=2017.4.17 in /opt/conda/lib/python3.10/site-packages (from requests>=2.26.0->tiktoken) (2024.8.30)\n"
     ]
    }
   ],
   "source": [
    "!pip install tiktoken\n",
    "import tiktoken\n",
    "tokenizer = tiktoken.get_encoding(\"gpt2\")"
   ]
  },
  {
   "cell_type": "code",
   "execution_count": null,
   "metadata": {
    "execution": {
     "iopub.execute_input": "2025-06-18T10:21:50.849871Z",
     "iopub.status.busy": "2025-06-18T10:21:50.849594Z",
     "iopub.status.idle": "2025-06-18T10:21:50.854356Z",
     "shell.execute_reply": "2025-06-18T10:21:50.853530Z",
     "shell.execute_reply.started": "2025-06-18T10:21:50.849841Z"
    },
    "trusted": true
   },
   "outputs": [],
   "source": [
    "GPT_CONFIG_124M = {\n",
    "    \"vocab_size\": 50257,   # Vocabulary size\n",
    "    \"context_length\": 256, # Shortened context length (orig: 1024) // you can increase this if you have more memory\n",
    "    \"emb_dim\": 768,        # Embedding dimension // we change this later to 4 for classification of 4 classes\n",
    "    \"n_heads\": 12,         # Number of attention heads \n",
    "    \"n_layers\": 12,        # Number of layers\n",
    "    \"drop_rate\": 0.2,      # Dropout rate\n",
    "    \"qkv_bias\": False      # Query-key-value bias\n",
    "}\n"
   ]
  },
  {
   "cell_type": "code",
   "execution_count": 4,
   "metadata": {
    "execution": {
     "iopub.execute_input": "2025-06-18T10:21:50.855697Z",
     "iopub.status.busy": "2025-06-18T10:21:50.855462Z",
     "iopub.status.idle": "2025-06-18T10:21:54.111090Z",
     "shell.execute_reply": "2025-06-18T10:21:54.110195Z",
     "shell.execute_reply.started": "2025-06-18T10:21:50.855673Z"
    },
    "trusted": true
   },
   "outputs": [],
   "source": [
    "import torch.nn as nn\n",
    "import torch\n",
    "class MultiHeadAttention(nn.Module):\n",
    "    def __init__(self, d_in, d_out, context_length, dropout, num_heads, qkv_bias=False):\n",
    "        super().__init__()\n",
    "        assert (d_out % num_heads == 0), \\\n",
    "            \"d_out must be divisible by num_heads\"\n",
    "\n",
    "        self.d_out = d_out\n",
    "        self.num_heads = num_heads\n",
    "        self.head_dim = d_out // num_heads # Reduce the projection dim to match desired output dim\n",
    "\n",
    "        self.W_query = nn.Linear(d_in, d_out, bias=qkv_bias)\n",
    "        self.W_key = nn.Linear(d_in, d_out, bias=qkv_bias)\n",
    "        self.W_value = nn.Linear(d_in, d_out, bias=qkv_bias)\n",
    "        self.out_proj = nn.Linear(d_out, d_out)  # Linear layer to combine head outputs\n",
    "        self.dropout = nn.Dropout(dropout)\n",
    "        self.register_buffer(\n",
    "            \"mask\",\n",
    "            torch.triu(torch.ones(context_length, context_length),\n",
    "                       diagonal=1)\n",
    "        )\n",
    "\n",
    "    def forward(self, x):\n",
    "        b, num_tokens, d_in = x.shape\n",
    "\n",
    "        keys = self.W_key(x) # Shape: (b, num_tokens, d_out)\n",
    "        queries = self.W_query(x)\n",
    "        values = self.W_value(x)\n",
    "\n",
    "        # We implicitly split the matrix by adding a `num_heads` dimension\n",
    "        # Unroll last dim: (b, num_tokens, d_out) -> (b, num_tokens, num_heads, head_dim)\n",
    "        keys = keys.view(b, num_tokens, self.num_heads, self.head_dim) \n",
    "        values = values.view(b, num_tokens, self.num_heads, self.head_dim)\n",
    "        queries = queries.view(b, num_tokens, self.num_heads, self.head_dim)\n",
    "\n",
    "        # Transpose: (b, num_tokens, num_heads, head_dim) -> (b, num_heads, num_tokens, head_dim)\n",
    "        keys = keys.transpose(1, 2)\n",
    "        queries = queries.transpose(1, 2)\n",
    "        values = values.transpose(1, 2)\n",
    "\n",
    "        # Compute scaled dot-product attention (aka self-attention) with a causal mask\n",
    "        attn_scores = queries @ keys.transpose(2, 3)  # Dot product for each head\n",
    "\n",
    "        # Original mask truncated to the number of tokens and converted to boolean\n",
    "        mask_bool = self.mask.bool()[:num_tokens, :num_tokens]\n",
    "\n",
    "        # Use the mask to fill attention scores\n",
    "        attn_scores.masked_fill_(mask_bool, -torch.inf)\n",
    "        \n",
    "        attn_weights = torch.softmax(attn_scores / keys.shape[-1]**0.5, dim=-1)\n",
    "        attn_weights = self.dropout(attn_weights)\n",
    "\n",
    "        # Shape: (b, num_tokens, num_heads, head_dim)\n",
    "        context_vec = (attn_weights @ values).transpose(1, 2) \n",
    "        \n",
    "        # Combine heads, where self.d_out = self.num_heads * self.head_dim\n",
    "        context_vec = context_vec.contiguous().view(b, num_tokens, self.d_out)\n",
    "        context_vec = self.out_proj(context_vec) # optional projection\n",
    "\n",
    "        return context_vec"
   ]
  },
  {
   "cell_type": "code",
   "execution_count": 5,
   "metadata": {
    "execution": {
     "iopub.execute_input": "2025-06-18T10:21:54.112540Z",
     "iopub.status.busy": "2025-06-18T10:21:54.112169Z",
     "iopub.status.idle": "2025-06-18T10:21:54.121101Z",
     "shell.execute_reply": "2025-06-18T10:21:54.120243Z",
     "shell.execute_reply.started": "2025-06-18T10:21:54.112513Z"
    },
    "trusted": true
   },
   "outputs": [],
   "source": [
    "class LayerNorm(nn.Module):\n",
    "    def __init__(self, emb_dim):\n",
    "        super().__init__()\n",
    "        self.eps = 1e-5\n",
    "        self.scale = nn.Parameter(torch.ones(emb_dim))\n",
    "        self.shift = nn.Parameter(torch.zeros(emb_dim))\n",
    "\n",
    "    def forward(self, x):\n",
    "        mean = x.mean(dim=-1, keepdim=True)\n",
    "        var = x.var(dim=-1, keepdim=True, unbiased=False)\n",
    "        norm_x = (x - mean) / torch.sqrt(var + self.eps)\n",
    "        return self.scale * norm_x + self.shift\n",
    "\n",
    "class GELU(nn.Module):\n",
    "    def __init__(self):\n",
    "        super().__init__()\n",
    "\n",
    "    def forward(self, x):\n",
    "        return 0.5 * x * (1 + torch.tanh(\n",
    "            torch.sqrt(torch.tensor(2.0 / torch.pi)) * \n",
    "            (x + 0.044715 * torch.pow(x, 3))\n",
    "        ))\n",
    "\n",
    "\n",
    "class FeedForward(nn.Module):\n",
    "    def __init__(self, cfg):\n",
    "        super().__init__()\n",
    "        self.layers = nn.Sequential(\n",
    "            nn.Linear(cfg[\"emb_dim\"], 4 * cfg[\"emb_dim\"]), ## Expansion\n",
    "            GELU(), ## Activation\n",
    "            nn.Linear(4 * cfg[\"emb_dim\"], cfg[\"emb_dim\"]), ## Contraction\n",
    "        )\n",
    "\n",
    "    def forward(self, x):\n",
    "        return self.layers(x)"
   ]
  },
  {
   "cell_type": "code",
   "execution_count": 6,
   "metadata": {
    "execution": {
     "iopub.execute_input": "2025-06-18T10:21:54.123227Z",
     "iopub.status.busy": "2025-06-18T10:21:54.122551Z",
     "iopub.status.idle": "2025-06-18T10:21:54.137481Z",
     "shell.execute_reply": "2025-06-18T10:21:54.136704Z",
     "shell.execute_reply.started": "2025-06-18T10:21:54.123198Z"
    },
    "trusted": true
   },
   "outputs": [],
   "source": [
    "class TransformerBlock(nn.Module):\n",
    "    def __init__(self, cfg):\n",
    "        super().__init__()\n",
    "        self.att = MultiHeadAttention(\n",
    "            d_in=cfg[\"emb_dim\"],\n",
    "            d_out=cfg[\"emb_dim\"],\n",
    "            context_length=cfg[\"context_length\"],\n",
    "            num_heads=cfg[\"n_heads\"], \n",
    "            dropout=cfg[\"drop_rate\"],\n",
    "            qkv_bias=cfg[\"qkv_bias\"])\n",
    "        self.ff = FeedForward(cfg)\n",
    "        self.norm1 = LayerNorm(cfg[\"emb_dim\"])\n",
    "        self.norm2 = LayerNorm(cfg[\"emb_dim\"])\n",
    "        self.drop_shortcut = nn.Dropout(cfg[\"drop_rate\"])\n",
    "\n",
    "    def forward(self, x):\n",
    "        # Shortcut connection for attention block\n",
    "        shortcut = x\n",
    "        x = self.norm1(x)\n",
    "        x = self.att(x)  # Shape [batch_size, num_tokens, emb_size]\n",
    "        x = self.drop_shortcut(x)\n",
    "        x = x + shortcut  # Add the original input back\n",
    "\n",
    "        # Shortcut connection for feed forward block\n",
    "        shortcut = x\n",
    "        x = self.norm2(x)\n",
    "        x = self.ff(x)\n",
    "        # 2*4*768\n",
    "        x = self.drop_shortcut(x)\n",
    "        x = x + shortcut  # Add the original input back\n",
    "\n",
    "        return x\n",
    "        # 2*4*768"
   ]
  },
  {
   "cell_type": "code",
   "execution_count": 7,
   "metadata": {
    "execution": {
     "iopub.execute_input": "2025-06-18T10:21:54.139164Z",
     "iopub.status.busy": "2025-06-18T10:21:54.138544Z",
     "iopub.status.idle": "2025-06-18T10:21:55.655193Z",
     "shell.execute_reply": "2025-06-18T10:21:55.654503Z",
     "shell.execute_reply.started": "2025-06-18T10:21:54.139118Z"
    },
    "trusted": true
   },
   "outputs": [],
   "source": [
    "import torch.nn as nn\n",
    "class GPTModel(nn.Module):\n",
    "    def __init__(self, cfg):\n",
    "        super().__init__()\n",
    "        self.tok_emb = nn.Embedding(cfg[\"vocab_size\"], cfg[\"emb_dim\"])\n",
    "        self.pos_emb = nn.Embedding(cfg[\"context_length\"], cfg[\"emb_dim\"])\n",
    "        self.drop_emb = nn.Dropout(cfg[\"drop_rate\"])\n",
    "        \n",
    "        self.trf_blocks = nn.Sequential(\n",
    "            *[TransformerBlock(cfg) for _ in range(cfg[\"n_layers\"])])\n",
    "        \n",
    "        self.final_norm = LayerNorm(cfg[\"emb_dim\"])\n",
    "        self.out_head = nn.Linear(\n",
    "            cfg[\"emb_dim\"], cfg[\"vocab_size\"], bias=False\n",
    "        )\n",
    "\n",
    "    def forward(self, in_idx):\n",
    "        batch_size, seq_len = in_idx.shape\n",
    "        tok_embeds = self.tok_emb(in_idx)\n",
    "        pos_embeds = self.pos_emb(torch.arange(seq_len, device=in_idx.device))\n",
    "        x = tok_embeds + pos_embeds  # Shape [batch_size, num_tokens, emb_size]\n",
    "        x = self.drop_emb(x)\n",
    "        x = self.trf_blocks(x)\n",
    "        x = self.final_norm(x)\n",
    "        logits = self.out_head(x)\n",
    "        return logits\n",
    "\n",
    "torch.manual_seed(123)\n",
    "model = GPTModel(GPT_CONFIG_124M)\n",
    "model.eval();  # Disable dropout during inference"
   ]
  },
  {
   "cell_type": "code",
   "execution_count": 8,
   "metadata": {
    "execution": {
     "iopub.execute_input": "2025-06-18T10:21:55.656395Z",
     "iopub.status.busy": "2025-06-18T10:21:55.656147Z",
     "iopub.status.idle": "2025-06-18T10:21:55.662316Z",
     "shell.execute_reply": "2025-06-18T10:21:55.661462Z",
     "shell.execute_reply.started": "2025-06-18T10:21:55.656370Z"
    },
    "trusted": true
   },
   "outputs": [],
   "source": [
    "def calc_loss_batch(input_batch, target_batch, model, device):\n",
    "    input_batch, target_batch = input_batch.to(device), target_batch.to(device)\n",
    "    logits = model(input_batch)\n",
    "    loss = torch.nn.functional.cross_entropy(logits.flatten(0, 1), target_batch.flatten())\n",
    "    return loss\n",
    "\n",
    "\n",
    "def calc_loss_loader(data_loader, model, device, num_batches=None):\n",
    "    total_loss = 0.\n",
    "    if len(data_loader) == 0:\n",
    "        return float(\"nan\")\n",
    "    elif num_batches is None:\n",
    "        num_batches = len(data_loader)\n",
    "    else:\n",
    "        # Reduce the number of batches to match the total number of batches in the data loader\n",
    "        # if num_batches exceeds the number of batches in the data loader\n",
    "        num_batches = min(num_batches, len(data_loader))\n",
    "    for i, (input_batch, target_batch) in enumerate(data_loader):\n",
    "        if i < num_batches:\n",
    "            loss = calc_loss_batch(input_batch, target_batch, model, device)\n",
    "            total_loss += loss.item()\n",
    "        else:\n",
    "            break\n",
    "    return total_loss / num_batches"
   ]
  },
  {
   "cell_type": "code",
   "execution_count": 9,
   "metadata": {
    "execution": {
     "iopub.execute_input": "2025-06-18T10:21:55.665221Z",
     "iopub.status.busy": "2025-06-18T10:21:55.664963Z",
     "iopub.status.idle": "2025-06-18T10:22:07.085359Z",
     "shell.execute_reply": "2025-06-18T10:22:07.084612Z",
     "shell.execute_reply.started": "2025-06-18T10:21:55.665197Z"
    },
    "trusted": true
   },
   "outputs": [],
   "source": [
    "import os\n",
    "import requests  # Make sure requests is installed\n",
    "import json\n",
    "import numpy as np\n",
    "import tensorflow as tf\n",
    "from tqdm import tqdm\n",
    "\n",
    "def download_and_load_gpt2(model_size, models_dir):\n",
    "    # Validate model size\n",
    "    allowed_sizes = (\"124M\", \"355M\", \"774M\", \"1558M\")\n",
    "    if model_size not in allowed_sizes:\n",
    "        raise ValueError(f\"Model size not in {allowed_sizes}\")\n",
    "\n",
    "    # Define paths\n",
    "    model_dir = os.path.join(models_dir, model_size)\n",
    "    base_url = \"https://openaipublic.blob.core.windows.net/gpt-2/models\"\n",
    "    filenames = [\n",
    "        \"checkpoint\", \"encoder.json\", \"hparams.json\",\n",
    "        \"model.ckpt.data-00000-of-00001\", \"model.ckpt.index\",\n",
    "        \"model.ckpt.meta\", \"vocab.bpe\"\n",
    "    ]\n",
    "\n",
    "    # Download files\n",
    "    os.makedirs(model_dir, exist_ok=True)\n",
    "    for filename in filenames:\n",
    "        file_url = os.path.join(base_url, model_size, filename)\n",
    "        file_path = os.path.join(model_dir, filename)\n",
    "        download_file(file_url, file_path)\n",
    "\n",
    "    ## We have reached here until now ---> we have downloaded the files on our local machine.\n",
    "\n",
    "    # Load settings and params\n",
    "    tf_ckpt_path = tf.train.latest_checkpoint(model_dir)\n",
    "    settings = json.load(open(os.path.join(model_dir, \"hparams.json\")))\n",
    "    params = load_gpt2_params_from_tf_ckpt(tf_ckpt_path, settings)\n",
    "\n",
    "    return settings, params\n",
    "\n",
    "def download_file(url, destination):\n",
    "    try:\n",
    "        # Send a GET request to download the file, disabling SSL verification\n",
    "        response = requests.get(url, stream=True, verify=False)\n",
    "\n",
    "        # Get the total file size from headers, defaulting to 0 if not present\n",
    "        file_size = int(response.headers.get(\"content-length\", 0))\n",
    "\n",
    "        # Check if file exists and has the same size\n",
    "        if os.path.exists(destination):\n",
    "            file_size_local = os.path.getsize(destination)\n",
    "            if file_size == file_size_local:\n",
    "                print(f\"File already exists and is up-to-date: {destination}\")\n",
    "                return\n",
    "\n",
    "        # Define the block size for reading the file\n",
    "        block_size = 1024  # 1 Kilobyte\n",
    "\n",
    "        # Initialize the progress bar with total file size\n",
    "        progress_bar_description = url.split(\"/\")[-1]  # Extract filename from URL\n",
    "        with tqdm(total=file_size, unit=\"iB\", unit_scale=True, desc=progress_bar_description) as progress_bar:\n",
    "            # Open the destination file in binary write mode\n",
    "            with open(destination, \"wb\") as file:\n",
    "                # Iterate over the file data in chunks\n",
    "                for chunk in response.iter_content(block_size):\n",
    "                    progress_bar.update(len(chunk))  # Update progress bar\n",
    "                    file.write(chunk)  # Write the chunk to the file\n",
    "\n",
    "    except requests.exceptions.RequestException as e:\n",
    "        print(f\"Error downloading the file: {e}\")\n",
    "        print(f\"Please check the URL: {url}\")\n",
    "\n",
    "def load_gpt2_params_from_tf_ckpt(ckpt_path, settings):\n",
    "    # Initialize parameters dictionary with empty blocks for each layer\n",
    "    params = {\"blocks\": [{} for _ in range(settings[\"n_layer\"])]}\n",
    "\n",
    "    # Iterate over each variable in the checkpoint\n",
    "    for name, _ in tf.train.list_variables(ckpt_path):\n",
    "        # Load the variable and remove singleton dimensions\n",
    "        variable_array = np.squeeze(tf.train.load_variable(ckpt_path, name))\n",
    "\n",
    "        # Process the variable name to extract relevant parts\n",
    "        variable_name_parts = name.split(\"/\")[1:]  # Skip the 'model/' prefix\n",
    "\n",
    "        # Identify the target dictionary for the variable\n",
    "        target_dict = params\n",
    "        if variable_name_parts[0].startswith(\"h\"):\n",
    "            layer_number = int(variable_name_parts[0][1:])\n",
    "            target_dict = params[\"blocks\"][layer_number]\n",
    "\n",
    "        # Recursively access or create nested dictionaries\n",
    "        for key in variable_name_parts[1:-1]:\n",
    "            target_dict = target_dict.setdefault(key, {})\n",
    "\n",
    "        # Assign the variable array to the last key\n",
    "        last_key = variable_name_parts[-1]\n",
    "        target_dict[last_key] = variable_array\n",
    "\n",
    "    return params\n"
   ]
  },
  {
   "cell_type": "code",
   "execution_count": 10,
   "metadata": {
    "execution": {
     "iopub.execute_input": "2025-06-18T10:22:07.086906Z",
     "iopub.status.busy": "2025-06-18T10:22:07.086413Z",
     "iopub.status.idle": "2025-06-18T10:22:07.091524Z",
     "shell.execute_reply": "2025-06-18T10:22:07.090530Z",
     "shell.execute_reply.started": "2025-06-18T10:22:07.086874Z"
    },
    "trusted": true
   },
   "outputs": [],
   "source": [
    "def assign(left, right):\n",
    "    if left.shape != right.shape:\n",
    "        raise ValueError(f\"Shape mismatch. Left: {left.shape}, Right: {right.shape}\")\n",
    "    return torch.nn.Parameter(torch.tensor(right))"
   ]
  },
  {
   "cell_type": "code",
   "execution_count": 11,
   "metadata": {
    "execution": {
     "iopub.execute_input": "2025-06-18T10:22:07.093380Z",
     "iopub.status.busy": "2025-06-18T10:22:07.093028Z",
     "iopub.status.idle": "2025-06-18T10:22:07.117853Z",
     "shell.execute_reply": "2025-06-18T10:22:07.117069Z",
     "shell.execute_reply.started": "2025-06-18T10:22:07.093344Z"
    },
    "trusted": true
   },
   "outputs": [],
   "source": [
    "import numpy as np\n",
    "\n",
    "def load_weights_into_gpt(gpt, params):\n",
    "    gpt.pos_emb.weight = assign(gpt.pos_emb.weight, params['wpe'])\n",
    "    gpt.tok_emb.weight = assign(gpt.tok_emb.weight, params['wte'])\n",
    "\n",
    "    for b in range(len(params[\"blocks\"])):\n",
    "        q_w, k_w, v_w = np.split(\n",
    "            (params[\"blocks\"][b][\"attn\"][\"c_attn\"])[\"w\"], 3, axis=-1)\n",
    "        gpt.trf_blocks[b].att.W_query.weight = assign(\n",
    "            gpt.trf_blocks[b].att.W_query.weight, q_w.T)\n",
    "        gpt.trf_blocks[b].att.W_key.weight = assign(\n",
    "            gpt.trf_blocks[b].att.W_key.weight, k_w.T)\n",
    "        gpt.trf_blocks[b].att.W_value.weight = assign(\n",
    "            gpt.trf_blocks[b].att.W_value.weight, v_w.T)\n",
    "\n",
    "        q_b, k_b, v_b = np.split(\n",
    "            (params[\"blocks\"][b][\"attn\"][\"c_attn\"])[\"b\"], 3, axis=-1)\n",
    "        gpt.trf_blocks[b].att.W_query.bias = assign(\n",
    "            gpt.trf_blocks[b].att.W_query.bias, q_b)\n",
    "        gpt.trf_blocks[b].att.W_key.bias = assign(\n",
    "            gpt.trf_blocks[b].att.W_key.bias, k_b)\n",
    "        gpt.trf_blocks[b].att.W_value.bias = assign(\n",
    "            gpt.trf_blocks[b].att.W_value.bias, v_b)\n",
    "\n",
    "        gpt.trf_blocks[b].att.out_proj.weight = assign(\n",
    "            gpt.trf_blocks[b].att.out_proj.weight,\n",
    "            params[\"blocks\"][b][\"attn\"][\"c_proj\"][\"w\"].T)\n",
    "        gpt.trf_blocks[b].att.out_proj.bias = assign(\n",
    "            gpt.trf_blocks[b].att.out_proj.bias,\n",
    "            params[\"blocks\"][b][\"attn\"][\"c_proj\"][\"b\"])\n",
    "\n",
    "        gpt.trf_blocks[b].ff.layers[0].weight = assign(\n",
    "            gpt.trf_blocks[b].ff.layers[0].weight,\n",
    "            params[\"blocks\"][b][\"mlp\"][\"c_fc\"][\"w\"].T)\n",
    "        gpt.trf_blocks[b].ff.layers[0].bias = assign(\n",
    "            gpt.trf_blocks[b].ff.layers[0].bias,\n",
    "            params[\"blocks\"][b][\"mlp\"][\"c_fc\"][\"b\"])\n",
    "        gpt.trf_blocks[b].ff.layers[2].weight = assign(\n",
    "            gpt.trf_blocks[b].ff.layers[2].weight,\n",
    "            params[\"blocks\"][b][\"mlp\"][\"c_proj\"][\"w\"].T)\n",
    "        gpt.trf_blocks[b].ff.layers[2].bias = assign(\n",
    "            gpt.trf_blocks[b].ff.layers[2].bias,\n",
    "            params[\"blocks\"][b][\"mlp\"][\"c_proj\"][\"b\"])\n",
    "\n",
    "        gpt.trf_blocks[b].norm1.scale = assign(\n",
    "            gpt.trf_blocks[b].norm1.scale,\n",
    "            params[\"blocks\"][b][\"ln_1\"][\"g\"])\n",
    "        gpt.trf_blocks[b].norm1.shift = assign(\n",
    "            gpt.trf_blocks[b].norm1.shift,\n",
    "            params[\"blocks\"][b][\"ln_1\"][\"b\"])\n",
    "        gpt.trf_blocks[b].norm2.scale = assign(\n",
    "            gpt.trf_blocks[b].norm2.scale,\n",
    "            params[\"blocks\"][b][\"ln_2\"][\"g\"])\n",
    "        gpt.trf_blocks[b].norm2.shift = assign(\n",
    "            gpt.trf_blocks[b].norm2.shift,\n",
    "            params[\"blocks\"][b][\"ln_2\"][\"b\"])\n",
    "\n",
    "    gpt.final_norm.scale = assign(gpt.final_norm.scale, params[\"g\"])\n",
    "    gpt.final_norm.shift = assign(gpt.final_norm.shift, params[\"b\"])\n",
    "    gpt.out_head.weight = assign(gpt.out_head.weight, params[\"wte\"])"
   ]
  },
  {
   "cell_type": "code",
   "execution_count": 12,
   "metadata": {
    "execution": {
     "iopub.execute_input": "2025-06-18T10:22:07.118978Z",
     "iopub.status.busy": "2025-06-18T10:22:07.118700Z",
     "iopub.status.idle": "2025-06-18T10:22:07.137437Z",
     "shell.execute_reply": "2025-06-18T10:22:07.136673Z",
     "shell.execute_reply.started": "2025-06-18T10:22:07.118954Z"
    },
    "trusted": true
   },
   "outputs": [],
   "source": [
    "torch.manual_seed(123)\n",
    "# !pip install tiktoken\n",
    "import tiktoken\n",
    "tokenizer= tiktoken.get_encoding(\"gpt2\")\n",
    "def text_to_token_ids(text, tokenizer):\n",
    "    encoded = tokenizer.encode(text, allowed_special={'<|endoftext|>'})\n",
    "    encoded_tensor = torch.tensor(encoded).unsqueeze(0) # add batch dimension\n",
    "    return encoded_tensor\n",
    "\n",
    "def token_ids_to_text(token_ids, tokenizer):\n",
    "    flat = token_ids.squeeze(0) # remove batch dimension\n",
    "    return tokenizer.decode(flat.tolist())"
   ]
  },
  {
   "cell_type": "code",
   "execution_count": null,
   "metadata": {
    "execution": {
     "iopub.execute_input": "2025-06-18T10:22:07.138909Z",
     "iopub.status.busy": "2025-06-18T10:22:07.138570Z",
     "iopub.status.idle": "2025-06-18T10:22:07.147092Z",
     "shell.execute_reply": "2025-06-18T10:22:07.146339Z",
     "shell.execute_reply.started": "2025-06-18T10:22:07.138873Z"
    },
    "trusted": true
   },
   "outputs": [],
   "source": [
    "CHOOSE_MODEL = \"gpt2-small (124M)\" \n",
    "# You can change this to \"gpt2-medium (355M)\", \"gpt2-large (774M)\", or \"gpt2-xl (1558M)\" to use a different model   \n",
    "INPUT_PROMPT = \"Every effort moves\" \n",
    "\n",
    "BASE_CONFIG = {\n",
    "    \"vocab_size\": 50257,     # Vocabulary size\n",
    "    \"context_length\": 1024,  # Context length\n",
    "    \"drop_rate\": 0.0,        # Dropout rate\n",
    "    \"qkv_bias\": True         # Query-key-value bias\n",
    "}\n",
    "\n",
    "model_configs = {\n",
    "    \"gpt2-small (124M)\": {\"emb_dim\": 768, \"n_layers\": 12, \"n_heads\": 12},\n",
    "    \"gpt2-medium (355M)\": {\"emb_dim\": 1024, \"n_layers\": 24, \"n_heads\": 16},\n",
    "    \"gpt2-large (774M)\": {\"emb_dim\": 1280, \"n_layers\": 36, \"n_heads\": 20},\n",
    "    \"gpt2-xl (1558M)\": {\"emb_dim\": 1600, \"n_layers\": 48, \"n_heads\": 25},\n",
    "}\n",
    "\n",
    "BASE_CONFIG.update(model_configs[CHOOSE_MODEL])\n"
   ]
  },
  {
   "cell_type": "code",
   "execution_count": 14,
   "metadata": {
    "execution": {
     "iopub.execute_input": "2025-06-18T10:22:07.148145Z",
     "iopub.status.busy": "2025-06-18T10:22:07.147910Z",
     "iopub.status.idle": "2025-06-18T10:22:49.621542Z",
     "shell.execute_reply": "2025-06-18T10:22:49.620759Z",
     "shell.execute_reply.started": "2025-06-18T10:22:07.148116Z"
    },
    "trusted": true
   },
   "outputs": [
    {
     "name": "stderr",
     "output_type": "stream",
     "text": [
      "/opt/conda/lib/python3.10/site-packages/urllib3/connectionpool.py:1103: InsecureRequestWarning: Unverified HTTPS request is being made to host 'openaipublic.blob.core.windows.net'. Adding certificate verification is strongly advised. See: https://urllib3.readthedocs.io/en/latest/advanced-usage.html#tls-warnings\n",
      "  warnings.warn(\n",
      "checkpoint: 100%|██████████| 77.0/77.0 [00:00<00:00, 148kiB/s]\n",
      "/opt/conda/lib/python3.10/site-packages/urllib3/connectionpool.py:1103: InsecureRequestWarning: Unverified HTTPS request is being made to host 'openaipublic.blob.core.windows.net'. Adding certificate verification is strongly advised. See: https://urllib3.readthedocs.io/en/latest/advanced-usage.html#tls-warnings\n",
      "  warnings.warn(\n",
      "encoder.json: 100%|██████████| 1.04M/1.04M [00:00<00:00, 2.44MiB/s]\n",
      "/opt/conda/lib/python3.10/site-packages/urllib3/connectionpool.py:1103: InsecureRequestWarning: Unverified HTTPS request is being made to host 'openaipublic.blob.core.windows.net'. Adding certificate verification is strongly advised. See: https://urllib3.readthedocs.io/en/latest/advanced-usage.html#tls-warnings\n",
      "  warnings.warn(\n",
      "hparams.json: 100%|██████████| 90.0/90.0 [00:00<00:00, 150kiB/s]\n",
      "/opt/conda/lib/python3.10/site-packages/urllib3/connectionpool.py:1103: InsecureRequestWarning: Unverified HTTPS request is being made to host 'openaipublic.blob.core.windows.net'. Adding certificate verification is strongly advised. See: https://urllib3.readthedocs.io/en/latest/advanced-usage.html#tls-warnings\n",
      "  warnings.warn(\n",
      "model.ckpt.data-00000-of-00001: 100%|██████████| 498M/498M [00:37<00:00, 13.3MiB/s] \n",
      "/opt/conda/lib/python3.10/site-packages/urllib3/connectionpool.py:1103: InsecureRequestWarning: Unverified HTTPS request is being made to host 'openaipublic.blob.core.windows.net'. Adding certificate verification is strongly advised. See: https://urllib3.readthedocs.io/en/latest/advanced-usage.html#tls-warnings\n",
      "  warnings.warn(\n",
      "model.ckpt.index: 100%|██████████| 5.21k/5.21k [00:00<00:00, 7.71MiB/s]\n",
      "/opt/conda/lib/python3.10/site-packages/urllib3/connectionpool.py:1103: InsecureRequestWarning: Unverified HTTPS request is being made to host 'openaipublic.blob.core.windows.net'. Adding certificate verification is strongly advised. See: https://urllib3.readthedocs.io/en/latest/advanced-usage.html#tls-warnings\n",
      "  warnings.warn(\n",
      "model.ckpt.meta: 100%|██████████| 471k/471k [00:00<00:00, 1.68MiB/s]\n",
      "/opt/conda/lib/python3.10/site-packages/urllib3/connectionpool.py:1103: InsecureRequestWarning: Unverified HTTPS request is being made to host 'openaipublic.blob.core.windows.net'. Adding certificate verification is strongly advised. See: https://urllib3.readthedocs.io/en/latest/advanced-usage.html#tls-warnings\n",
      "  warnings.warn(\n",
      "vocab.bpe: 100%|██████████| 456k/456k [00:00<00:00, 1.61MiB/s]\n"
     ]
    }
   ],
   "source": [
    "model_size = CHOOSE_MODEL.split(\" \")[-1].lstrip(\"(\").rstrip(\")\")\n",
    "settings, params = download_and_load_gpt2(model_size=model_size, models_dir=\"gpt2\")\n",
    "\n",
    "model = GPTModel(BASE_CONFIG)\n",
    "load_weights_into_gpt(model, params)\n",
    "model.eval();"
   ]
  },
  {
   "cell_type": "code",
   "execution_count": 15,
   "metadata": {
    "execution": {
     "iopub.execute_input": "2025-06-18T10:22:49.623107Z",
     "iopub.status.busy": "2025-06-18T10:22:49.622756Z",
     "iopub.status.idle": "2025-06-18T10:22:57.787229Z",
     "shell.execute_reply": "2025-06-18T10:22:57.786215Z",
     "shell.execute_reply.started": "2025-06-18T10:22:49.623072Z"
    },
    "trusted": true
   },
   "outputs": [
    {
     "name": "stdout",
     "output_type": "stream",
     "text": [
      "How to be happy?\n",
      "\n",
      "The answer is simple: you can't be happy.\n",
      "\n",
      "The good news is that you can be happy.\n",
      "\n",
      "The bad news is that you can't be happy.\n",
      "\n",
      "The good news is that you can't be happy.\n",
      "\n",
      "The good news is that you can't be happy.\n",
      "\n",
      "The good news is\n"
     ]
    }
   ],
   "source": [
    "text_1 = \"How to be happy?\"\n",
    "def generate_text_simple(model, idx, max_new_tokens, context_size):\n",
    "    # idx is (batch, n_tokens) array of indices in the current context\n",
    "\n",
    "    ###Input batch:\n",
    " ###tensor([[6109, 3626, 6100,  345],\n",
    "        ##[6109, 1110, 6622,  257]])\n",
    "\n",
    "    for _ in range(max_new_tokens):\n",
    "\n",
    "        # Crop current context if it exceeds the supported context size\n",
    "        # E.g., if LLM supports only 5 tokens, and the context size is 10\n",
    "        # then only the last 5 tokens are used as context\n",
    "        idx_cond = idx[:, -context_size:]\n",
    "\n",
    "        # Get the predictions\n",
    "        with torch.no_grad():\n",
    "            logits = model(idx_cond) ### batch, n_tokens, vocab_size\n",
    "\n",
    "        # Focus only on the last time step\n",
    "        # (batch, n_tokens, vocab_size) becomes (batch, vocab_size)\n",
    "        logits = logits[:, -1, :]\n",
    "\n",
    "        # Apply softmax to get probabilities\n",
    "        probas = torch.softmax(logits, dim=-1)  # (batch, vocab_size)\n",
    "\n",
    "        # Get the idx of the vocab entry with the highest probability value\n",
    "        idx_next = torch.argmax(probas, dim=-1, keepdim=True)  # (batch, 1)\n",
    "\n",
    "        # Append sampled index to the running sequence\n",
    "        idx = torch.cat((idx, idx_next), dim=1)  # (batch, n_tokens+1)\n",
    "\n",
    "    return idx\n",
    "token_ids = generate_text_simple(\n",
    "    model=model,\n",
    "    idx=text_to_token_ids(text_1, tokenizer),\n",
    "    max_new_tokens=70,\n",
    "    context_size=BASE_CONFIG[\"context_length\"]\n",
    ")\n",
    "\n",
    "print(token_ids_to_text(token_ids, tokenizer))"
   ]
  },
  {
   "cell_type": "code",
   "execution_count": null,
   "metadata": {
    "_cell_guid": "b1076dfc-b9ad-4769-8c92-a6c4dae69d19",
    "_uuid": "8f2839f25d086af736a60e9eeb907d3b93b6e0e5",
    "execution": {
     "iopub.execute_input": "2025-06-18T10:22:57.789121Z",
     "iopub.status.busy": "2025-06-18T10:22:57.788120Z",
     "iopub.status.idle": "2025-06-18T10:22:58.026335Z",
     "shell.execute_reply": "2025-06-18T10:22:58.025509Z",
     "shell.execute_reply.started": "2025-06-18T10:22:57.789083Z"
    },
    "trusted": true
   },
   "outputs": [
    {
     "name": "stdout",
     "output_type": "stream",
     "text": [
      "Path to dataset files: /kaggle/input/iitjee-neet-aims-students-questions-data\n"
     ]
    }
   ],
   "source": [
    "import kagglehub #run this command to install kagglehub, try running this on kaggle\n",
    "# Download latest version . this dataset is used for fine-tuning the model , its a dataset of questions asked by students preparing for IIT JEE, NEET, and AIMS exams\n",
    "path = kagglehub.dataset_download(\"mrutyunjaybiswal/iitjee-neet-aims-students-questions-data\")\n",
    "\n",
    "print(\"Path to dataset files:\", path)"
   ]
  },
  {
   "cell_type": "code",
   "execution_count": null,
   "metadata": {
    "execution": {
     "iopub.execute_input": "2025-06-18T10:22:58.027892Z",
     "iopub.status.busy": "2025-06-18T10:22:58.027542Z",
     "iopub.status.idle": "2025-06-18T10:22:58.777562Z",
     "shell.execute_reply": "2025-06-18T10:22:58.776557Z",
     "shell.execute_reply.started": "2025-06-18T10:22:58.027852Z"
    },
    "trusted": true
   },
   "outputs": [
    {
     "name": "stdout",
     "output_type": "stream",
     "text": [
      "['Biology' 'Chemistry' 'Maths' 'Physics']\n",
      "eng        122519\n",
      "Subject    122519\n",
      "dtype: int64\n"
     ]
    }
   ],
   "source": [
    "import pandas as pd\n",
    "# Load the dataset\n",
    "data=pd.read_csv(\"/kaggle/input/iitjee-neet-aims-students-questions-data/subjects-questions.csv\")\n",
    "# Display unique subjects and count of entries\n",
    "print(data[\"Subject\"].unique())\n",
    "# Display the count of entries in the dataset\n",
    "# This will show how many questions are available for each subject\n",
    "print(data.count())\n",
    "# print(data[\"eng\"])"
   ]
  },
  {
   "cell_type": "code",
   "execution_count": null,
   "metadata": {
    "execution": {
     "iopub.execute_input": "2025-06-18T10:22:58.778867Z",
     "iopub.status.busy": "2025-06-18T10:22:58.778592Z",
     "iopub.status.idle": "2025-06-18T10:22:58.794353Z",
     "shell.execute_reply": "2025-06-18T10:22:58.793472Z",
     "shell.execute_reply.started": "2025-06-18T10:22:58.778841Z"
    },
    "trusted": true
   },
   "outputs": [
    {
     "name": "stdout",
     "output_type": "stream",
     "text": [
      "Subject\n",
      "Physics      38438\n",
      "Chemistry    37767\n",
      "Maths        33190\n",
      "Biology      13124\n",
      "Name: count, dtype: int64\n"
     ]
    }
   ],
   "source": [
    "# print(data[\"Subject\"])\n",
    "print(data[\"Subject\"].value_counts())"
   ]
  },
  {
   "cell_type": "code",
   "execution_count": null,
   "metadata": {
    "execution": {
     "iopub.execute_input": "2025-06-18T10:22:58.795666Z",
     "iopub.status.busy": "2025-06-18T10:22:58.795419Z",
     "iopub.status.idle": "2025-06-18T10:22:58.867838Z",
     "shell.execute_reply": "2025-06-18T10:22:58.867010Z",
     "shell.execute_reply.started": "2025-06-18T10:22:58.795641Z"
    },
    "trusted": true
   },
   "outputs": [
    {
     "name": "stdout",
     "output_type": "stream",
     "text": [
      "Subject\n",
      "Maths        13124\n",
      "Chemistry    13124\n",
      "Physics      13124\n",
      "Biology      13124\n",
      "Name: count, dtype: int64\n"
     ]
    }
   ],
   "source": [
    "#This dataset is imbalanced, with \"Biology\" having significantly more entries than the other subjects.\n",
    "# To address this, we will create a balanced dataset by randomly sampling the other subjects to match the number of entries in \"Biology\".\n",
    "def create_balanced_dataset(df):\n",
    "    # Count the instances of \"Biology\" subject\n",
    "    num_spam = df[df[\"Subject\"] == \"Biology\"].shape[0]\n",
    "    #random sampling using .sample() function\n",
    "    Maths_subset=df[df[\"Subject\"]==\"Maths\"].sample(num_spam,random_state=123)\n",
    "    Chemistry_subset=df[df[\"Subject\"]==\"Chemistry\"].sample(num_spam,random_state=123)\n",
    "    Physics_subset=df[df[\"Subject\"]==\"Physics\"].sample(num_spam,random_state=123)\n",
    "    \n",
    "    #lastly concatenate all of them . now we will get 13124 of all of them\n",
    "    balanced_df = pd.concat([Maths_subset,Chemistry_subset,Physics_subset, df[df[\"Subject\"] == \"Biology\"]])\n",
    "    return balanced_df\n",
    "\n",
    "balanced_df = create_balanced_dataset(data)\n",
    "print(balanced_df[\"Subject\"].value_counts())"
   ]
  },
  {
   "cell_type": "code",
   "execution_count": null,
   "metadata": {
    "execution": {
     "iopub.execute_input": "2025-06-18T10:22:58.869098Z",
     "iopub.status.busy": "2025-06-18T10:22:58.868814Z",
     "iopub.status.idle": "2025-06-18T10:22:58.877643Z",
     "shell.execute_reply": "2025-06-18T10:22:58.876870Z",
     "shell.execute_reply.started": "2025-06-18T10:22:58.869073Z"
    },
    "trusted": true
   },
   "outputs": [],
   "source": [
    "# Convert the subject names to numerical labels for classification\n",
    "# This is a common practice in machine learning to convert categorical variables into numerical format.\n",
    "balanced_df[\"Subject\"] = balanced_df[\"Subject\"].map({\"Maths\": 0, \"Chemistry\": 1,\"Physics\":2,\"Biology\":3})"
   ]
  },
  {
   "cell_type": "code",
   "execution_count": null,
   "metadata": {
    "execution": {
     "iopub.execute_input": "2025-06-18T10:22:58.879135Z",
     "iopub.status.busy": "2025-06-18T10:22:58.878789Z",
     "iopub.status.idle": "2025-06-18T10:22:58.900330Z",
     "shell.execute_reply": "2025-06-18T10:22:58.899428Z",
     "shell.execute_reply.started": "2025-06-18T10:22:58.879098Z"
    },
    "trusted": true
   },
   "outputs": [],
   "source": [
    "#70% for training , 20% for testing , 10% for validation \n",
    "## We will use a random split to create the train, validation, and test sets.\n",
    "def random_split(df, train_frac, validation_frac):\n",
    "    # Shuffle the entire DataFrame\n",
    "    df = df.sample(frac=1, random_state=123).reset_index(drop=True)\n",
    "\n",
    "    train_end = int(len(df) * train_frac)\n",
    "    validation_end = train_end + int(len(df) * validation_frac)\n",
    "\n",
    "    # Split the DataFrame\n",
    "    train_df = df[:train_end]\n",
    "    validation_df = df[train_end:validation_end]\n",
    "    test_df = df[validation_end:]\n",
    "\n",
    "    return train_df, validation_df, test_df\n",
    "\n",
    "train_df, validation_df, test_df = random_split(balanced_df, 0.7, 0.1)\n",
    "# Test size is to be 0.2 as the remainder\n",
    "train_df, validation_df, test_df = random_split(balanced_df, 0.7, 0.1)\n"
   ]
  },
  {
   "cell_type": "code",
   "execution_count": null,
   "metadata": {
    "execution": {
     "iopub.execute_input": "2025-06-18T10:22:58.901633Z",
     "iopub.status.busy": "2025-06-18T10:22:58.901383Z",
     "iopub.status.idle": "2025-06-18T10:22:58.906038Z",
     "shell.execute_reply": "2025-06-18T10:22:58.905208Z",
     "shell.execute_reply.started": "2025-06-18T10:22:58.901609Z"
    },
    "trusted": true
   },
   "outputs": [
    {
     "name": "stdout",
     "output_type": "stream",
     "text": [
      "36747\n",
      "5249\n",
      "10500\n"
     ]
    }
   ],
   "source": [
    "# print the number of entries in each dataset\n",
    "print(len(train_df))\n",
    "print(len(validation_df))\n",
    "print(len(test_df))"
   ]
  },
  {
   "cell_type": "code",
   "execution_count": null,
   "metadata": {
    "execution": {
     "iopub.execute_input": "2025-06-18T10:22:58.907299Z",
     "iopub.status.busy": "2025-06-18T10:22:58.907061Z",
     "iopub.status.idle": "2025-06-18T10:22:59.228413Z",
     "shell.execute_reply": "2025-06-18T10:22:59.227737Z",
     "shell.execute_reply.started": "2025-06-18T10:22:58.907276Z"
    },
    "trusted": true
   },
   "outputs": [],
   "source": [
    "#save these data to the csv files to load them later\n",
    "train_df.to_csv(\"subjects_train.csv\", index=None)\n",
    "validation_df.to_csv(\"subjects_validation.csv\", index=None)\n",
    "test_df.to_csv(\"subjects_test.csv\", index=None)"
   ]
  },
  {
   "cell_type": "code",
   "execution_count": null,
   "metadata": {
    "execution": {
     "iopub.execute_input": "2025-06-18T10:22:59.229570Z",
     "iopub.status.busy": "2025-06-18T10:22:59.229342Z",
     "iopub.status.idle": "2025-06-18T10:22:59.237060Z",
     "shell.execute_reply": "2025-06-18T10:22:59.236187Z",
     "shell.execute_reply.started": "2025-06-18T10:22:59.229547Z"
    },
    "trusted": true
   },
   "outputs": [],
   "source": [
    "import torch\n",
    "from torch.utils.data import Dataset\n",
    "\n",
    "# Define a custom dataset class for the subjects dataset\n",
    "#The functions in this class will help us to load the data from the csv files and convert them into tensors that can be used for training the model.\n",
    "#basically it will help tokenize the text and convert it into tensors\n",
    "class SubjectsDataset(Dataset):\n",
    "    def __init__(self, csv_file, tokenizer, max_length=None, pad_token_id=50256):\n",
    "        self.data = pd.read_csv(csv_file)\n",
    "\n",
    "        # Pre-tokenize texts\n",
    "        self.encoded_texts = [\n",
    "            tokenizer.encode(text) for text in self.data[\"eng\"]\n",
    "        ]\n",
    "\n",
    "        if max_length is None:\n",
    "            self.max_length = self._longest_encoded_length()\n",
    "        else:\n",
    "            self.max_length = max_length\n",
    "            # Truncate sequences if they are longer than max_length\n",
    "            self.encoded_texts = [\n",
    "                encoded_text[:self.max_length]\n",
    "                for encoded_text in self.encoded_texts\n",
    "            ]\n",
    "\n",
    "        # Pad sequences to the longest sequence\n",
    "        self.encoded_texts = [\n",
    "            encoded_text + [pad_token_id] * (self.max_length - len(encoded_text))\n",
    "            for encoded_text in self.encoded_texts\n",
    "        ]\n",
    "\n",
    "    def __getitem__(self, index):\n",
    "        encoded = self.encoded_texts[index]\n",
    "        label = self.data.iloc[index][\"Subject\"]\n",
    "        return (\n",
    "            torch.tensor(encoded, dtype=torch.long),\n",
    "            torch.tensor(label, dtype=torch.long)\n",
    "        )\n",
    "\n",
    "    def __len__(self):\n",
    "        return len(self.data)\n",
    "\n",
    "    def _longest_encoded_length(self):\n",
    "        max_length = 0\n",
    "        for encoded_text in self.encoded_texts:\n",
    "            encoded_length = len(encoded_text)\n",
    "            if encoded_length > max_length:\n",
    "                max_length = encoded_length\n",
    "        return max_length"
   ]
  },
  {
   "cell_type": "code",
   "execution_count": null,
   "metadata": {
    "execution": {
     "iopub.execute_input": "2025-06-18T10:22:59.238330Z",
     "iopub.status.busy": "2025-06-18T10:22:59.238055Z",
     "iopub.status.idle": "2025-06-18T10:23:02.455214Z",
     "shell.execute_reply": "2025-06-18T10:23:02.454480Z",
     "shell.execute_reply.started": "2025-06-18T10:22:59.238306Z"
    },
    "trusted": true
   },
   "outputs": [],
   "source": [
    "# Load the dataset\n",
    "train_dataset = SubjectsDataset(\n",
    "    csv_file=\"subjects_train.csv\",\n",
    "    max_length=None,\n",
    "    tokenizer=tokenizer\n",
    ")\n",
    "\n",
    "# print(train_dataset.max_length)\n",
    "val_dataset = SubjectsDataset(\n",
    "    csv_file=\"subjects_validation.csv\",\n",
    "    max_length=train_dataset.max_length,\n",
    "    tokenizer=tokenizer\n",
    ")\n",
    "test_dataset = SubjectsDataset(\n",
    "    csv_file=\"subjects_test.csv\",\n",
    "    max_length=train_dataset.max_length,\n",
    "    tokenizer=tokenizer\n",
    ")"
   ]
  },
  {
   "cell_type": "code",
   "execution_count": null,
   "metadata": {
    "execution": {
     "iopub.execute_input": "2025-06-18T10:23:02.457068Z",
     "iopub.status.busy": "2025-06-18T10:23:02.456800Z",
     "iopub.status.idle": "2025-06-18T10:23:02.463883Z",
     "shell.execute_reply": "2025-06-18T10:23:02.463015Z",
     "shell.execute_reply.started": "2025-06-18T10:23:02.457041Z"
    },
    "trusted": true
   },
   "outputs": [],
   "source": [
    "from torch.utils.data import DataLoader\n",
    "# Create DataLoaders for training, validation, and test datasets\n",
    "num_workers = 0\n",
    "batch_size = 8\n",
    "\n",
    "torch.manual_seed(123)\n",
    "\n",
    "train_loader = DataLoader(\n",
    "    dataset=train_dataset,\n",
    "    batch_size=batch_size,\n",
    "    shuffle=True,\n",
    "    num_workers=num_workers,\n",
    "    drop_last=True,\n",
    ")\n",
    "\n",
    "val_loader = DataLoader(\n",
    "    dataset=val_dataset,\n",
    "    batch_size=batch_size,\n",
    "    num_workers=num_workers,\n",
    "    drop_last=False,\n",
    ")\n",
    "\n",
    "test_loader = DataLoader(\n",
    "    dataset=test_dataset,\n",
    "    batch_size=batch_size,\n",
    "    num_workers=num_workers,\n",
    "    drop_last=False,\n",
    ")"
   ]
  },
  {
   "cell_type": "code",
   "execution_count": null,
   "metadata": {
    "execution": {
     "iopub.execute_input": "2025-06-18T10:23:02.468409Z",
     "iopub.status.busy": "2025-06-18T10:23:02.468060Z",
     "iopub.status.idle": "2025-06-18T10:23:02.481203Z",
     "shell.execute_reply": "2025-06-18T10:23:02.480428Z",
     "shell.execute_reply.started": "2025-06-18T10:23:02.468366Z"
    },
    "trusted": true
   },
   "outputs": [],
   "source": [
    "#In this step we freeze the model parameters so that they are not updated during training.\n",
    "# This is useful when we want to fine-tune the model on a specific task without changing\n",
    "for param in model.parameters():\n",
    "    param.requires_grad = False"
   ]
  },
  {
   "cell_type": "code",
   "execution_count": null,
   "metadata": {
    "execution": {
     "iopub.execute_input": "2025-06-18T10:23:02.482635Z",
     "iopub.status.busy": "2025-06-18T10:23:02.482367Z",
     "iopub.status.idle": "2025-06-18T10:23:02.494934Z",
     "shell.execute_reply": "2025-06-18T10:23:02.494015Z",
     "shell.execute_reply.started": "2025-06-18T10:23:02.482608Z"
    },
    "trusted": true
   },
   "outputs": [],
   "source": [
    "# Set the output head for classification\n",
    "# We will change the output head to have 4 classes for classification\n",
    "torch.manual_seed(123)\n",
    "num_classes = 4\n",
    "model.out_head = torch.nn.Linear(in_features=BASE_CONFIG[\"emb_dim\"], out_features=num_classes)"
   ]
  },
  {
   "cell_type": "code",
   "execution_count": null,
   "metadata": {
    "execution": {
     "iopub.execute_input": "2025-06-18T10:23:02.496352Z",
     "iopub.status.busy": "2025-06-18T10:23:02.496039Z",
     "iopub.status.idle": "2025-06-18T10:23:02.519141Z",
     "shell.execute_reply": "2025-06-18T10:23:02.518344Z",
     "shell.execute_reply.started": "2025-06-18T10:23:02.496323Z"
    },
    "trusted": true
   },
   "outputs": [],
   "source": [
    "# Freeze all parameters except the output head and the last transformer block\n",
    "# This allows the model to retain its pre-trained knowledge while adapting to the new classification task.\n",
    "#you can also try experimenting with freezing more layers, but this is a good starting point\n",
    "for param in model.trf_blocks[-1].parameters():\n",
    "    param.requires_grad = True\n",
    "# for param in model.trf_blocks[-2].parameters():\n",
    "#     param.requires_grad= True\n",
    "# for param in model.trf_blocks[-3].parameters():\n",
    "#     param.requires_grad=True\n",
    "for param in model.final_norm.parameters():\n",
    "    param.requires_grad = True"
   ]
  },
  {
   "cell_type": "code",
   "execution_count": null,
   "metadata": {
    "execution": {
     "iopub.execute_input": "2025-06-18T10:23:02.520329Z",
     "iopub.status.busy": "2025-06-18T10:23:02.520084Z",
     "iopub.status.idle": "2025-06-18T10:23:02.528316Z",
     "shell.execute_reply": "2025-06-18T10:23:02.527516Z",
     "shell.execute_reply.started": "2025-06-18T10:23:02.520305Z"
    },
    "trusted": true
   },
   "outputs": [
    {
     "name": "stdout",
     "output_type": "stream",
     "text": [
      "Inputs: tensor([[10919,   318, 27140,    44]])\n",
      "Inputs dimensions: torch.Size([1, 4])\n"
     ]
    }
   ],
   "source": [
    "# Print the model architecture to verify the changes\n",
    "inputs = tokenizer.encode(\"what is LLM\")\n",
    "inputs = torch.tensor(inputs).unsqueeze(0)\n",
    "print(\"Inputs:\", inputs)\n",
    "print(\"Inputs dimensions:\", inputs.shape) # shape: (batch_size, num_tokens)"
   ]
  },
  {
   "cell_type": "code",
   "execution_count": null,
   "metadata": {
    "execution": {
     "iopub.execute_input": "2025-06-18T10:23:02.529895Z",
     "iopub.status.busy": "2025-06-18T10:23:02.529331Z",
     "iopub.status.idle": "2025-06-18T10:23:02.595164Z",
     "shell.execute_reply": "2025-06-18T10:23:02.594299Z",
     "shell.execute_reply.started": "2025-06-18T10:23:02.529868Z"
    },
    "trusted": true
   },
   "outputs": [
    {
     "name": "stdout",
     "output_type": "stream",
     "text": [
      "Outputs:\n",
      " tensor([[[-1.6141,  1.2282,  0.3008, -0.5369],\n",
      "         [-1.8646,  5.9696,  2.7381, -0.5265],\n",
      "         [-3.6957,  3.4373,  0.6597, -1.2068],\n",
      "         [-3.2174,  4.3485,  2.2180, -0.3779]]])\n",
      "Outputs dimensions: torch.Size([1, 4, 4])\n"
     ]
    }
   ],
   "source": [
    "# Model inference\n",
    "with torch.no_grad():\n",
    "    outputs = model(inputs)\n",
    "\n",
    "print(\"Outputs:\\n\", outputs)\n",
    "print(\"Outputs dimensions:\", outputs.shape) # shape: (batch_size, num_tokens, num_classes)"
   ]
  },
  {
   "cell_type": "code",
   "execution_count": null,
   "metadata": {
    "execution": {
     "iopub.execute_input": "2025-06-18T10:23:02.596632Z",
     "iopub.status.busy": "2025-06-18T10:23:02.596293Z",
     "iopub.status.idle": "2025-06-18T10:23:02.603525Z",
     "shell.execute_reply": "2025-06-18T10:23:02.602696Z",
     "shell.execute_reply.started": "2025-06-18T10:23:02.596593Z"
    },
    "trusted": true
   },
   "outputs": [],
   "source": [
    "# Function to calculate accuracy for a single batch\n",
    "\n",
    "def calc_accuracy_loader(data_loader, model, device, num_batches=None):\n",
    "    model.eval()\n",
    "    correct_predictions, num_examples = 0, 0\n",
    "\n",
    "    if num_batches is None:\n",
    "        num_batches = len(data_loader)\n",
    "    else:\n",
    "        num_batches = min(num_batches, len(data_loader))\n",
    "    for i, (input_batch, target_batch) in enumerate(data_loader):\n",
    "        if i < num_batches:\n",
    "            input_batch, target_batch = input_batch.to(device), target_batch.to(device)\n",
    "\n",
    "            with torch.no_grad():\n",
    "                logits = model(input_batch)[:, -1, :]  # Logits of last output token\n",
    "            predicted_labels = torch.argmax(logits, dim=-1)\n",
    "\n",
    "            num_examples += predicted_labels.shape[0]\n",
    "            correct_predictions += (predicted_labels == target_batch).sum().item()\n",
    "        else:\n",
    "            break\n",
    "    return correct_predictions / num_examples"
   ]
  },
  {
   "cell_type": "code",
   "execution_count": null,
   "metadata": {
    "execution": {
     "iopub.execute_input": "2025-06-18T10:23:02.605261Z",
     "iopub.status.busy": "2025-06-18T10:23:02.604746Z",
     "iopub.status.idle": "2025-06-18T10:23:02.620624Z",
     "shell.execute_reply": "2025-06-18T10:23:02.619883Z",
     "shell.execute_reply.started": "2025-06-18T10:23:02.605224Z"
    },
    "trusted": true
   },
   "outputs": [
    {
     "name": "stdout",
     "output_type": "stream",
     "text": [
      "Last output token: tensor([[-3.2174,  4.3485,  2.2180, -0.3779]])\n"
     ]
    }
   ],
   "source": [
    "# Print the last output token, we take the probabilities of the last output token with the softmax function\n",
    "print(\"Last output token:\", outputs[:, -1, :])"
   ]
  },
  {
   "cell_type": "code",
   "execution_count": null,
   "metadata": {
    "execution": {
     "iopub.execute_input": "2025-06-18T10:23:02.621867Z",
     "iopub.status.busy": "2025-06-18T10:23:02.621595Z",
     "iopub.status.idle": "2025-06-18T10:23:12.871420Z",
     "shell.execute_reply": "2025-06-18T10:23:12.870411Z",
     "shell.execute_reply.started": "2025-06-18T10:23:02.621839Z"
    },
    "trusted": true
   },
   "outputs": [
    {
     "name": "stdout",
     "output_type": "stream",
     "text": [
      "cuda\n",
      "Training accuracy: 20.00%\n",
      "Validation accuracy: 23.75%\n",
      "Test accuracy: 38.75%\n"
     ]
    }
   ],
   "source": [
    "# Evaluate the model without training\n",
    "# This will give us the accuracy of the model on the training, validation, and test datasets\n",
    "device = torch.device(\"cuda\" if torch.cuda.is_available() else \"cpu\")\n",
    "print(device)\n",
    "model.to(device) \n",
    "torch.manual_seed(123) # For reproducibility due to the shuffling in the training data loader\n",
    "train_accuracy = calc_accuracy_loader(train_loader, model, device, num_batches=10)\n",
    "val_accuracy = calc_accuracy_loader(val_loader, model, device, num_batches=10)\n",
    "test_accuracy = calc_accuracy_loader(test_loader, model, device, num_batches=10)\n",
    "\n",
    "print(f\"Training accuracy: {train_accuracy*100:.2f}%\")\n",
    "print(f\"Validation accuracy: {val_accuracy*100:.2f}%\")\n",
    "print(f\"Test accuracy: {test_accuracy*100:.2f}%\")"
   ]
  },
  {
   "cell_type": "code",
   "execution_count": 35,
   "metadata": {
    "execution": {
     "iopub.execute_input": "2025-06-18T10:23:12.872742Z",
     "iopub.status.busy": "2025-06-18T10:23:12.872467Z",
     "iopub.status.idle": "2025-06-18T10:23:12.877693Z",
     "shell.execute_reply": "2025-06-18T10:23:12.876678Z",
     "shell.execute_reply.started": "2025-06-18T10:23:12.872699Z"
    },
    "trusted": true
   },
   "outputs": [],
   "source": [
    "def calc_loss_batch(input_batch, target_batch, model, device):\n",
    "    input_batch, target_batch = input_batch.to(device), target_batch.to(device)\n",
    "    logits = model(input_batch)[:, -1, :]  # Logits of last output token\n",
    "    loss = torch.nn.functional.cross_entropy(logits, target_batch)\n",
    "    return loss"
   ]
  },
  {
   "cell_type": "code",
   "execution_count": 36,
   "metadata": {
    "execution": {
     "iopub.execute_input": "2025-06-18T10:23:12.879479Z",
     "iopub.status.busy": "2025-06-18T10:23:12.878929Z",
     "iopub.status.idle": "2025-06-18T10:23:12.891611Z",
     "shell.execute_reply": "2025-06-18T10:23:12.890858Z",
     "shell.execute_reply.started": "2025-06-18T10:23:12.879440Z"
    },
    "trusted": true
   },
   "outputs": [],
   "source": [
    "def calc_loss_loader(data_loader, model, device, num_batches=None):\n",
    "    total_loss = 0.\n",
    "    if len(data_loader) == 0:\n",
    "        return float(\"nan\")\n",
    "    elif num_batches is None:\n",
    "        num_batches = len(data_loader)\n",
    "    else:\n",
    "        # Reduce the number of batches to match the total number of batches in the data loader\n",
    "        # if num_batches exceeds the number of batches in the data loader\n",
    "        num_batches = min(num_batches, len(data_loader))\n",
    "    for i, (input_batch, target_batch) in enumerate(data_loader):\n",
    "        if i < num_batches:\n",
    "            loss = calc_loss_batch(input_batch, target_batch, model, device)\n",
    "            total_loss += loss.item()\n",
    "        else:\n",
    "            break\n",
    "    return total_loss / num_batches"
   ]
  },
  {
   "cell_type": "code",
   "execution_count": 37,
   "metadata": {
    "execution": {
     "iopub.execute_input": "2025-06-18T10:23:12.893070Z",
     "iopub.status.busy": "2025-06-18T10:23:12.892699Z",
     "iopub.status.idle": "2025-06-18T10:23:17.625618Z",
     "shell.execute_reply": "2025-06-18T10:23:17.624770Z",
     "shell.execute_reply.started": "2025-06-18T10:23:12.893031Z"
    },
    "trusted": true
   },
   "outputs": [
    {
     "name": "stdout",
     "output_type": "stream",
     "text": [
      "Training loss: 4.230\n",
      "Validation loss: 3.758\n",
      "Test loss: 3.539\n"
     ]
    }
   ],
   "source": [
    "with torch.no_grad(): # Disable gradient tracking for efficiency because we are not training, yet\n",
    "    train_loss = calc_loss_loader(train_loader, model, device, num_batches=5)\n",
    "    val_loss = calc_loss_loader(val_loader, model, device, num_batches=5)\n",
    "    test_loss = calc_loss_loader(test_loader, model, device, num_batches=5)\n",
    "\n",
    "print(f\"Training loss: {train_loss:.3f}\")\n",
    "print(f\"Validation loss: {val_loss:.3f}\")\n",
    "print(f\"Test loss: {test_loss:.3f}\")"
   ]
  },
  {
   "cell_type": "code",
   "execution_count": null,
   "metadata": {
    "execution": {
     "iopub.execute_input": "2025-06-18T10:23:17.627006Z",
     "iopub.status.busy": "2025-06-18T10:23:17.626704Z",
     "iopub.status.idle": "2025-06-18T10:23:17.634161Z",
     "shell.execute_reply": "2025-06-18T10:23:17.633247Z",
     "shell.execute_reply.started": "2025-06-18T10:23:17.626980Z"
    },
    "trusted": true
   },
   "outputs": [],
   "source": [
    "# Training loop\n",
    "def train_classifier_simple(model, train_loader, val_loader, optimizer, device, num_epochs,\n",
    "                            eval_freq, eval_iter):\n",
    "    # Initialize lists to track losses and examples seen\n",
    "    train_losses, val_losses, train_accs, val_accs = [], [], [], []\n",
    "    examples_seen, global_step = 0, -1\n",
    "\n",
    "    # Main training loop\n",
    "    for epoch in range(num_epochs):\n",
    "        model.train()  # Set model to training mode\n",
    "\n",
    "        for input_batch, target_batch in train_loader:\n",
    "            optimizer.zero_grad() # Reset loss gradients from previous batch iteration\n",
    "            loss = calc_loss_batch(input_batch, target_batch, model, device)\n",
    "            loss.backward() # Calculate loss gradients\n",
    "            optimizer.step() # Update model weights using loss gradients\n",
    "            examples_seen += input_batch.shape[0] # New: track examples instead of tokens\n",
    "            global_step += 1\n",
    "\n",
    "            # Optional evaluation step\n",
    "            if global_step % eval_freq == 0:\n",
    "                train_loss, val_loss = evaluate_model(\n",
    "                    model, train_loader, val_loader, device, eval_iter)\n",
    "                train_losses.append(train_loss)\n",
    "                val_losses.append(val_loss)\n",
    "                print(f\"Ep {epoch+1} (Step {global_step:06d}): \"\n",
    "                      f\"Train loss {train_loss:.3f}, Val loss {val_loss:.3f}\")\n",
    "\n",
    "        # Calculate accuracy after each epoch\n",
    "        train_accuracy = calc_accuracy_loader(train_loader, model, device, num_batches=eval_iter)\n",
    "        val_accuracy = calc_accuracy_loader(val_loader, model, device, num_batches=eval_iter)\n",
    "        print(f\"Training accuracy: {train_accuracy*100:.2f}% | \", end=\"\")\n",
    "        print(f\"Validation accuracy: {val_accuracy*100:.2f}%\")\n",
    "        train_accs.append(train_accuracy)\n",
    "        val_accs.append(val_accuracy)\n",
    "\n",
    "    return train_losses, val_losses, train_accs, val_accs, examples_seen"
   ]
  },
  {
   "cell_type": "code",
   "execution_count": null,
   "metadata": {
    "execution": {
     "iopub.execute_input": "2025-06-18T10:23:17.635446Z",
     "iopub.status.busy": "2025-06-18T10:23:17.635166Z",
     "iopub.status.idle": "2025-06-18T10:23:17.649534Z",
     "shell.execute_reply": "2025-06-18T10:23:17.648486Z",
     "shell.execute_reply.started": "2025-06-18T10:23:17.635421Z"
    },
    "trusted": true
   },
   "outputs": [],
   "source": [
    "# Evaluate the model\n",
    "def evaluate_model(model, train_loader, val_loader, device, eval_iter):\n",
    "    model.eval()\n",
    "    with torch.no_grad():\n",
    "        train_loss = calc_loss_loader(train_loader, model, device, num_batches=eval_iter)\n",
    "        val_loss = calc_loss_loader(val_loader, model, device, num_batches=eval_iter)\n",
    "    model.train()\n",
    "    return train_loss, val_loss"
   ]
  },
  {
   "cell_type": "code",
   "execution_count": null,
   "metadata": {
    "execution": {
     "iopub.execute_input": "2025-06-18T10:23:17.651072Z",
     "iopub.status.busy": "2025-06-18T10:23:17.650704Z",
     "iopub.status.idle": "2025-06-18T13:06:58.840478Z",
     "shell.execute_reply": "2025-06-18T13:06:58.839503Z",
     "shell.execute_reply.started": "2025-06-18T10:23:17.651045Z"
    },
    "trusted": true
   },
   "outputs": [
    {
     "name": "stdout",
     "output_type": "stream",
     "text": [
      "Ep 1 (Step 000000): Train loss 3.696, Val loss 3.499\n",
      "Ep 1 (Step 000050): Train loss 1.390, Val loss 1.331\n",
      "Ep 1 (Step 000100): Train loss 1.345, Val loss 1.307\n",
      "Ep 1 (Step 000150): Train loss 1.320, Val loss 1.280\n",
      "Ep 1 (Step 000200): Train loss 1.316, Val loss 1.257\n",
      "Ep 1 (Step 000250): Train loss 1.310, Val loss 1.266\n",
      "Ep 1 (Step 000300): Train loss 1.266, Val loss 1.236\n",
      "Ep 1 (Step 000350): Train loss 1.344, Val loss 1.284\n",
      "Ep 1 (Step 000400): Train loss 1.393, Val loss 1.292\n",
      "Ep 1 (Step 000450): Train loss 1.234, Val loss 1.273\n",
      "Ep 1 (Step 000500): Train loss 1.366, Val loss 1.262\n",
      "Ep 1 (Step 000550): Train loss 1.334, Val loss 1.258\n",
      "Ep 1 (Step 000600): Train loss 1.230, Val loss 1.261\n",
      "Ep 1 (Step 000650): Train loss 1.366, Val loss 1.223\n",
      "Ep 1 (Step 000700): Train loss 1.208, Val loss 1.213\n",
      "Ep 1 (Step 000750): Train loss 1.295, Val loss 1.236\n",
      "Ep 1 (Step 000800): Train loss 1.249, Val loss 1.232\n",
      "Ep 1 (Step 000850): Train loss 1.264, Val loss 1.254\n",
      "Ep 1 (Step 000900): Train loss 1.192, Val loss 1.247\n",
      "Ep 1 (Step 000950): Train loss 1.328, Val loss 1.227\n",
      "Ep 1 (Step 001000): Train loss 1.321, Val loss 1.246\n",
      "Ep 1 (Step 001050): Train loss 1.364, Val loss 1.208\n",
      "Ep 1 (Step 001100): Train loss 1.278, Val loss 1.226\n",
      "Ep 1 (Step 001150): Train loss 1.299, Val loss 1.221\n",
      "Ep 1 (Step 001200): Train loss 1.304, Val loss 1.232\n",
      "Ep 1 (Step 001250): Train loss 1.309, Val loss 1.235\n",
      "Ep 1 (Step 001300): Train loss 1.325, Val loss 1.270\n",
      "Ep 1 (Step 001350): Train loss 1.335, Val loss 1.242\n",
      "Ep 1 (Step 001400): Train loss 1.309, Val loss 1.248\n",
      "Ep 1 (Step 001450): Train loss 1.325, Val loss 1.211\n",
      "Ep 1 (Step 001500): Train loss 1.264, Val loss 1.211\n",
      "Ep 1 (Step 001550): Train loss 1.276, Val loss 1.203\n",
      "Ep 1 (Step 001600): Train loss 1.227, Val loss 1.188\n",
      "Ep 1 (Step 001650): Train loss 1.321, Val loss 1.208\n",
      "Ep 1 (Step 001700): Train loss 1.296, Val loss 1.185\n",
      "Ep 1 (Step 001750): Train loss 1.256, Val loss 1.176\n",
      "Ep 1 (Step 001800): Train loss 1.297, Val loss 1.212\n",
      "Ep 1 (Step 001850): Train loss 1.290, Val loss 1.175\n",
      "Ep 1 (Step 001900): Train loss 1.376, Val loss 1.180\n",
      "Ep 1 (Step 001950): Train loss 1.302, Val loss 1.210\n",
      "Ep 1 (Step 002000): Train loss 1.259, Val loss 1.186\n",
      "Ep 1 (Step 002050): Train loss 1.317, Val loss 1.233\n",
      "Ep 1 (Step 002100): Train loss 1.225, Val loss 1.225\n",
      "Ep 1 (Step 002150): Train loss 1.325, Val loss 1.202\n",
      "Ep 1 (Step 002200): Train loss 1.299, Val loss 1.222\n",
      "Ep 1 (Step 002250): Train loss 1.301, Val loss 1.231\n",
      "Ep 1 (Step 002300): Train loss 1.341, Val loss 1.225\n",
      "Ep 1 (Step 002350): Train loss 1.209, Val loss 1.197\n",
      "Ep 1 (Step 002400): Train loss 1.332, Val loss 1.231\n",
      "Ep 1 (Step 002450): Train loss 1.172, Val loss 1.198\n",
      "Ep 1 (Step 002500): Train loss 1.376, Val loss 1.252\n",
      "Ep 1 (Step 002550): Train loss 1.295, Val loss 1.214\n",
      "Ep 1 (Step 002600): Train loss 1.345, Val loss 1.211\n",
      "Ep 1 (Step 002650): Train loss 1.323, Val loss 1.206\n",
      "Ep 1 (Step 002700): Train loss 1.197, Val loss 1.214\n",
      "Ep 1 (Step 002750): Train loss 1.126, Val loss 1.216\n",
      "Ep 1 (Step 002800): Train loss 1.227, Val loss 1.210\n",
      "Ep 1 (Step 002850): Train loss 1.277, Val loss 1.217\n",
      "Ep 1 (Step 002900): Train loss 1.256, Val loss 1.215\n",
      "Ep 1 (Step 002950): Train loss 1.217, Val loss 1.231\n",
      "Ep 1 (Step 003000): Train loss 1.272, Val loss 1.224\n",
      "Ep 1 (Step 003050): Train loss 1.253, Val loss 1.145\n",
      "Ep 1 (Step 003100): Train loss 1.189, Val loss 1.294\n",
      "Ep 1 (Step 003150): Train loss 1.286, Val loss 1.138\n",
      "Ep 1 (Step 003200): Train loss 1.144, Val loss 1.206\n",
      "Ep 1 (Step 003250): Train loss 1.218, Val loss 1.249\n",
      "Ep 1 (Step 003300): Train loss 1.099, Val loss 1.199\n",
      "Ep 1 (Step 003350): Train loss 1.258, Val loss 1.192\n",
      "Ep 1 (Step 003400): Train loss 1.144, Val loss 1.145\n",
      "Ep 1 (Step 003450): Train loss 1.217, Val loss 1.189\n",
      "Ep 1 (Step 003500): Train loss 1.394, Val loss 1.198\n",
      "Ep 1 (Step 003550): Train loss 1.184, Val loss 1.194\n",
      "Ep 1 (Step 003600): Train loss 1.210, Val loss 1.182\n",
      "Ep 1 (Step 003650): Train loss 1.234, Val loss 1.261\n",
      "Ep 1 (Step 003700): Train loss 1.209, Val loss 1.199\n",
      "Ep 1 (Step 003750): Train loss 1.150, Val loss 1.081\n",
      "Ep 1 (Step 003800): Train loss 1.265, Val loss 1.159\n",
      "Ep 1 (Step 003850): Train loss 1.080, Val loss 1.195\n",
      "Ep 1 (Step 003900): Train loss 1.003, Val loss 1.147\n",
      "Ep 1 (Step 003950): Train loss 1.202, Val loss 1.246\n",
      "Ep 1 (Step 004000): Train loss 1.142, Val loss 1.158\n",
      "Ep 1 (Step 004050): Train loss 1.193, Val loss 1.230\n",
      "Ep 1 (Step 004100): Train loss 1.147, Val loss 1.138\n",
      "Ep 1 (Step 004150): Train loss 1.123, Val loss 1.128\n",
      "Ep 1 (Step 004200): Train loss 1.186, Val loss 1.095\n",
      "Ep 1 (Step 004250): Train loss 0.902, Val loss 1.075\n",
      "Ep 1 (Step 004300): Train loss 1.067, Val loss 1.167\n",
      "Ep 1 (Step 004350): Train loss 0.945, Val loss 1.070\n",
      "Ep 1 (Step 004400): Train loss 0.967, Val loss 1.014\n",
      "Ep 1 (Step 004450): Train loss 1.016, Val loss 0.987\n",
      "Ep 1 (Step 004500): Train loss 0.658, Val loss 1.026\n",
      "Ep 1 (Step 004550): Train loss 1.130, Val loss 1.004\n",
      "Training accuracy: 72.50% | Validation accuracy: 67.50%\n",
      "Ep 2 (Step 004600): Train loss 0.770, Val loss 1.049\n",
      "Ep 2 (Step 004650): Train loss 0.789, Val loss 0.877\n",
      "Ep 2 (Step 004700): Train loss 0.756, Val loss 0.890\n",
      "Ep 2 (Step 004750): Train loss 0.588, Val loss 0.774\n",
      "Ep 2 (Step 004800): Train loss 0.774, Val loss 0.892\n",
      "Ep 2 (Step 004850): Train loss 0.772, Val loss 0.882\n",
      "Ep 2 (Step 004900): Train loss 0.689, Val loss 1.006\n",
      "Ep 2 (Step 004950): Train loss 0.533, Val loss 0.803\n",
      "Ep 2 (Step 005000): Train loss 0.547, Val loss 1.142\n",
      "Ep 2 (Step 005050): Train loss 0.484, Val loss 0.929\n",
      "Ep 2 (Step 005100): Train loss 0.503, Val loss 0.761\n",
      "Ep 2 (Step 005150): Train loss 0.521, Val loss 0.632\n",
      "Ep 2 (Step 005200): Train loss 0.615, Val loss 0.661\n",
      "Ep 2 (Step 005250): Train loss 0.806, Val loss 0.754\n",
      "Ep 2 (Step 005300): Train loss 0.461, Val loss 0.655\n",
      "Ep 2 (Step 005350): Train loss 0.691, Val loss 0.700\n",
      "Ep 2 (Step 005400): Train loss 0.553, Val loss 0.703\n",
      "Ep 2 (Step 005450): Train loss 0.597, Val loss 0.632\n",
      "Ep 2 (Step 005500): Train loss 0.324, Val loss 0.589\n",
      "Ep 2 (Step 005550): Train loss 0.372, Val loss 0.650\n",
      "Ep 2 (Step 005600): Train loss 0.478, Val loss 0.676\n",
      "Ep 2 (Step 005650): Train loss 0.606, Val loss 0.666\n",
      "Ep 2 (Step 005700): Train loss 0.727, Val loss 0.641\n",
      "Ep 2 (Step 005750): Train loss 0.443, Val loss 0.571\n",
      "Ep 2 (Step 005800): Train loss 0.490, Val loss 0.699\n",
      "Ep 2 (Step 005850): Train loss 0.383, Val loss 0.580\n",
      "Ep 2 (Step 005900): Train loss 0.441, Val loss 0.549\n",
      "Ep 2 (Step 005950): Train loss 0.450, Val loss 0.536\n",
      "Ep 2 (Step 006000): Train loss 0.369, Val loss 0.570\n",
      "Ep 2 (Step 006050): Train loss 0.382, Val loss 0.579\n",
      "Ep 2 (Step 006100): Train loss 0.406, Val loss 0.530\n",
      "Ep 2 (Step 006150): Train loss 0.453, Val loss 0.484\n",
      "Ep 2 (Step 006200): Train loss 0.729, Val loss 0.760\n",
      "Ep 2 (Step 006250): Train loss 0.274, Val loss 0.391\n",
      "Ep 2 (Step 006300): Train loss 1.240, Val loss 0.404\n",
      "Ep 2 (Step 006350): Train loss 0.581, Val loss 0.562\n",
      "Ep 2 (Step 006400): Train loss 0.520, Val loss 0.601\n",
      "Ep 2 (Step 006450): Train loss 0.361, Val loss 0.560\n",
      "Ep 2 (Step 006500): Train loss 0.531, Val loss 0.475\n",
      "Ep 2 (Step 006550): Train loss 0.423, Val loss 0.446\n",
      "Ep 2 (Step 006600): Train loss 0.107, Val loss 0.472\n",
      "Ep 2 (Step 006650): Train loss 0.536, Val loss 0.486\n",
      "Ep 2 (Step 006700): Train loss 0.346, Val loss 0.465\n",
      "Ep 2 (Step 006750): Train loss 0.224, Val loss 0.467\n",
      "Ep 2 (Step 006800): Train loss 0.302, Val loss 0.442\n",
      "Ep 2 (Step 006850): Train loss 0.221, Val loss 0.674\n",
      "Ep 2 (Step 006900): Train loss 0.350, Val loss 0.427\n",
      "Ep 2 (Step 006950): Train loss 0.368, Val loss 0.463\n",
      "Ep 2 (Step 007000): Train loss 0.272, Val loss 0.532\n",
      "Ep 2 (Step 007050): Train loss 0.399, Val loss 0.433\n",
      "Ep 2 (Step 007100): Train loss 0.407, Val loss 0.436\n",
      "Ep 2 (Step 007150): Train loss 0.450, Val loss 0.409\n",
      "Ep 2 (Step 007200): Train loss 0.300, Val loss 0.433\n",
      "Ep 2 (Step 007250): Train loss 0.444, Val loss 0.410\n",
      "Ep 2 (Step 007300): Train loss 0.366, Val loss 0.460\n",
      "Ep 2 (Step 007350): Train loss 0.198, Val loss 0.407\n",
      "Ep 2 (Step 007400): Train loss 0.579, Val loss 0.525\n",
      "Ep 2 (Step 007450): Train loss 0.514, Val loss 0.425\n",
      "Ep 2 (Step 007500): Train loss 0.417, Val loss 0.507\n",
      "Ep 2 (Step 007550): Train loss 0.371, Val loss 0.440\n",
      "Ep 2 (Step 007600): Train loss 0.464, Val loss 0.485\n",
      "Ep 2 (Step 007650): Train loss 0.226, Val loss 0.529\n",
      "Ep 2 (Step 007700): Train loss 0.347, Val loss 0.417\n",
      "Ep 2 (Step 007750): Train loss 0.304, Val loss 0.406\n",
      "Ep 2 (Step 007800): Train loss 0.406, Val loss 0.498\n",
      "Ep 2 (Step 007850): Train loss 0.390, Val loss 0.502\n",
      "Ep 2 (Step 007900): Train loss 0.403, Val loss 0.387\n",
      "Ep 2 (Step 007950): Train loss 0.294, Val loss 0.667\n",
      "Ep 2 (Step 008000): Train loss 0.418, Val loss 0.505\n",
      "Ep 2 (Step 008050): Train loss 0.293, Val loss 0.578\n",
      "Ep 2 (Step 008100): Train loss 0.325, Val loss 0.494\n",
      "Ep 2 (Step 008150): Train loss 0.449, Val loss 0.455\n",
      "Ep 2 (Step 008200): Train loss 0.520, Val loss 0.445\n",
      "Ep 2 (Step 008250): Train loss 0.355, Val loss 0.392\n",
      "Ep 2 (Step 008300): Train loss 0.480, Val loss 0.408\n",
      "Ep 2 (Step 008350): Train loss 0.296, Val loss 0.475\n",
      "Ep 2 (Step 008400): Train loss 0.358, Val loss 0.374\n",
      "Ep 2 (Step 008450): Train loss 0.284, Val loss 0.429\n",
      "Ep 2 (Step 008500): Train loss 0.465, Val loss 0.496\n",
      "Ep 2 (Step 008550): Train loss 0.253, Val loss 0.475\n",
      "Ep 2 (Step 008600): Train loss 0.283, Val loss 0.410\n",
      "Ep 2 (Step 008650): Train loss 0.299, Val loss 0.427\n",
      "Ep 2 (Step 008700): Train loss 0.420, Val loss 0.388\n",
      "Ep 2 (Step 008750): Train loss 0.467, Val loss 0.431\n",
      "Ep 2 (Step 008800): Train loss 0.538, Val loss 0.430\n",
      "Ep 2 (Step 008850): Train loss 0.290, Val loss 0.501\n",
      "Ep 2 (Step 008900): Train loss 0.290, Val loss 0.408\n",
      "Ep 2 (Step 008950): Train loss 0.248, Val loss 0.457\n",
      "Ep 2 (Step 009000): Train loss 0.207, Val loss 0.361\n",
      "Ep 2 (Step 009050): Train loss 0.215, Val loss 0.363\n",
      "Ep 2 (Step 009100): Train loss 0.369, Val loss 0.463\n",
      "Ep 2 (Step 009150): Train loss 0.315, Val loss 0.362\n",
      "Training accuracy: 87.50% | Validation accuracy: 85.00%\n",
      "Ep 3 (Step 009200): Train loss 0.257, Val loss 0.352\n",
      "Ep 3 (Step 009250): Train loss 0.316, Val loss 0.376\n",
      "Ep 3 (Step 009300): Train loss 0.336, Val loss 0.364\n",
      "Ep 3 (Step 009350): Train loss 0.347, Val loss 0.397\n",
      "Ep 3 (Step 009400): Train loss 0.162, Val loss 0.370\n",
      "Ep 3 (Step 009450): Train loss 0.339, Val loss 0.365\n",
      "Ep 3 (Step 009500): Train loss 0.270, Val loss 0.471\n",
      "Ep 3 (Step 009550): Train loss 0.400, Val loss 0.442\n",
      "Ep 3 (Step 009600): Train loss 0.403, Val loss 0.432\n",
      "Ep 3 (Step 009650): Train loss 0.348, Val loss 0.511\n",
      "Ep 3 (Step 009700): Train loss 0.318, Val loss 0.466\n",
      "Ep 3 (Step 009750): Train loss 0.301, Val loss 0.409\n",
      "Ep 3 (Step 009800): Train loss 0.536, Val loss 0.388\n",
      "Ep 3 (Step 009850): Train loss 0.330, Val loss 0.567\n",
      "Ep 3 (Step 009900): Train loss 0.177, Val loss 0.460\n",
      "Ep 3 (Step 009950): Train loss 0.218, Val loss 0.370\n",
      "Ep 3 (Step 010000): Train loss 0.257, Val loss 0.357\n",
      "Ep 3 (Step 010050): Train loss 0.334, Val loss 0.401\n",
      "Ep 3 (Step 010100): Train loss 0.560, Val loss 0.410\n",
      "Ep 3 (Step 010150): Train loss 0.124, Val loss 0.403\n",
      "Ep 3 (Step 010200): Train loss 0.372, Val loss 0.401\n",
      "Ep 3 (Step 010250): Train loss 0.186, Val loss 0.442\n",
      "Ep 3 (Step 010300): Train loss 0.408, Val loss 0.367\n",
      "Ep 3 (Step 010350): Train loss 0.456, Val loss 0.427\n",
      "Ep 3 (Step 010400): Train loss 0.399, Val loss 0.341\n",
      "Ep 3 (Step 010450): Train loss 0.275, Val loss 0.473\n",
      "Ep 3 (Step 010500): Train loss 0.322, Val loss 0.419\n",
      "Ep 3 (Step 010550): Train loss 0.327, Val loss 0.367\n",
      "Ep 3 (Step 010600): Train loss 0.246, Val loss 0.371\n",
      "Ep 3 (Step 010650): Train loss 0.664, Val loss 0.388\n",
      "Ep 3 (Step 010700): Train loss 0.246, Val loss 0.388\n",
      "Ep 3 (Step 010750): Train loss 0.271, Val loss 0.488\n",
      "Ep 3 (Step 010800): Train loss 0.321, Val loss 0.350\n",
      "Ep 3 (Step 010850): Train loss 0.268, Val loss 0.350\n",
      "Ep 3 (Step 010900): Train loss 0.381, Val loss 0.379\n",
      "Ep 3 (Step 010950): Train loss 0.106, Val loss 0.362\n",
      "Ep 3 (Step 011000): Train loss 0.314, Val loss 0.456\n",
      "Ep 3 (Step 011050): Train loss 0.442, Val loss 0.410\n",
      "Ep 3 (Step 011100): Train loss 0.398, Val loss 0.439\n",
      "Ep 3 (Step 011150): Train loss 0.250, Val loss 0.517\n",
      "Ep 3 (Step 011200): Train loss 0.323, Val loss 0.396\n",
      "Ep 3 (Step 011250): Train loss 0.236, Val loss 0.336\n",
      "Ep 3 (Step 011300): Train loss 0.337, Val loss 0.387\n",
      "Ep 3 (Step 011350): Train loss 0.307, Val loss 0.317\n",
      "Ep 3 (Step 011400): Train loss 0.262, Val loss 0.341\n",
      "Ep 3 (Step 011450): Train loss 0.287, Val loss 0.381\n",
      "Ep 3 (Step 011500): Train loss 0.127, Val loss 0.392\n",
      "Ep 3 (Step 011550): Train loss 0.189, Val loss 0.391\n",
      "Ep 3 (Step 011600): Train loss 0.315, Val loss 0.352\n",
      "Ep 3 (Step 011650): Train loss 0.232, Val loss 0.376\n",
      "Ep 3 (Step 011700): Train loss 0.382, Val loss 0.404\n",
      "Ep 3 (Step 011750): Train loss 0.275, Val loss 0.423\n",
      "Ep 3 (Step 011800): Train loss 0.359, Val loss 0.336\n",
      "Ep 3 (Step 011850): Train loss 0.440, Val loss 0.370\n",
      "Ep 3 (Step 011900): Train loss 0.294, Val loss 0.361\n",
      "Ep 3 (Step 011950): Train loss 0.388, Val loss 0.333\n",
      "Ep 3 (Step 012000): Train loss 0.472, Val loss 0.360\n",
      "Ep 3 (Step 012050): Train loss 0.339, Val loss 0.347\n",
      "Ep 3 (Step 012100): Train loss 0.186, Val loss 0.386\n",
      "Ep 3 (Step 012150): Train loss 0.233, Val loss 0.488\n",
      "Ep 3 (Step 012200): Train loss 0.381, Val loss 0.410\n",
      "Ep 3 (Step 012250): Train loss 0.440, Val loss 0.406\n",
      "Ep 3 (Step 012300): Train loss 0.333, Val loss 0.377\n",
      "Ep 3 (Step 012350): Train loss 0.286, Val loss 0.336\n",
      "Ep 3 (Step 012400): Train loss 0.430, Val loss 0.355\n",
      "Ep 3 (Step 012450): Train loss 0.297, Val loss 0.401\n",
      "Ep 3 (Step 012500): Train loss 0.231, Val loss 0.344\n",
      "Ep 3 (Step 012550): Train loss 0.198, Val loss 0.354\n",
      "Ep 3 (Step 012600): Train loss 0.280, Val loss 0.310\n",
      "Ep 3 (Step 012650): Train loss 0.174, Val loss 0.374\n",
      "Ep 3 (Step 012700): Train loss 0.453, Val loss 0.355\n",
      "Ep 3 (Step 012750): Train loss 0.542, Val loss 0.324\n",
      "Ep 3 (Step 012800): Train loss 0.144, Val loss 0.450\n",
      "Ep 3 (Step 012850): Train loss 0.446, Val loss 0.339\n",
      "Ep 3 (Step 012900): Train loss 0.388, Val loss 0.346\n",
      "Ep 3 (Step 012950): Train loss 0.379, Val loss 0.464\n",
      "Ep 3 (Step 013000): Train loss 0.213, Val loss 0.368\n",
      "Ep 3 (Step 013050): Train loss 0.513, Val loss 0.368\n",
      "Ep 3 (Step 013100): Train loss 0.344, Val loss 0.307\n",
      "Ep 3 (Step 013150): Train loss 0.215, Val loss 0.372\n",
      "Ep 3 (Step 013200): Train loss 0.312, Val loss 0.442\n",
      "Ep 3 (Step 013250): Train loss 0.450, Val loss 0.413\n",
      "Ep 3 (Step 013300): Train loss 0.236, Val loss 0.383\n",
      "Ep 3 (Step 013350): Train loss 0.161, Val loss 0.422\n",
      "Ep 3 (Step 013400): Train loss 0.283, Val loss 0.401\n",
      "Ep 3 (Step 013450): Train loss 0.344, Val loss 0.387\n",
      "Ep 3 (Step 013500): Train loss 0.355, Val loss 0.355\n",
      "Ep 3 (Step 013550): Train loss 0.427, Val loss 0.381\n",
      "Ep 3 (Step 013600): Train loss 0.390, Val loss 0.336\n",
      "Ep 3 (Step 013650): Train loss 0.253, Val loss 0.354\n",
      "Ep 3 (Step 013700): Train loss 0.526, Val loss 0.457\n",
      "Ep 3 (Step 013750): Train loss 0.234, Val loss 0.333\n",
      "Training accuracy: 97.50% | Validation accuracy: 85.00%\n",
      "Ep 4 (Step 013800): Train loss 0.332, Val loss 0.405\n",
      "Ep 4 (Step 013850): Train loss 0.184, Val loss 0.352\n",
      "Ep 4 (Step 013900): Train loss 0.213, Val loss 0.314\n",
      "Ep 4 (Step 013950): Train loss 0.105, Val loss 0.289\n",
      "Ep 4 (Step 014000): Train loss 0.402, Val loss 0.417\n",
      "Ep 4 (Step 014050): Train loss 0.419, Val loss 0.338\n",
      "Ep 4 (Step 014100): Train loss 0.334, Val loss 0.301\n",
      "Ep 4 (Step 014150): Train loss 0.391, Val loss 0.372\n",
      "Ep 4 (Step 014200): Train loss 0.276, Val loss 0.323\n",
      "Ep 4 (Step 014250): Train loss 0.311, Val loss 0.281\n",
      "Ep 4 (Step 014300): Train loss 0.288, Val loss 0.297\n",
      "Ep 4 (Step 014350): Train loss 0.217, Val loss 0.263\n",
      "Ep 4 (Step 014400): Train loss 0.319, Val loss 0.273\n",
      "Ep 4 (Step 014450): Train loss 0.288, Val loss 0.310\n",
      "Ep 4 (Step 014500): Train loss 0.252, Val loss 0.350\n",
      "Ep 4 (Step 014550): Train loss 0.571, Val loss 0.394\n",
      "Ep 4 (Step 014600): Train loss 0.278, Val loss 0.310\n",
      "Ep 4 (Step 014650): Train loss 0.487, Val loss 0.344\n",
      "Ep 4 (Step 014700): Train loss 0.172, Val loss 0.319\n",
      "Ep 4 (Step 014750): Train loss 0.428, Val loss 0.330\n",
      "Ep 4 (Step 014800): Train loss 0.278, Val loss 0.324\n",
      "Ep 4 (Step 014850): Train loss 0.358, Val loss 0.369\n",
      "Ep 4 (Step 014900): Train loss 0.351, Val loss 0.322\n",
      "Ep 4 (Step 014950): Train loss 0.218, Val loss 0.329\n",
      "Ep 4 (Step 015000): Train loss 0.188, Val loss 0.319\n",
      "Ep 4 (Step 015050): Train loss 0.303, Val loss 0.305\n",
      "Ep 4 (Step 015100): Train loss 0.409, Val loss 0.321\n",
      "Ep 4 (Step 015150): Train loss 0.117, Val loss 0.326\n",
      "Ep 4 (Step 015200): Train loss 0.281, Val loss 0.338\n",
      "Ep 4 (Step 015250): Train loss 0.394, Val loss 0.407\n",
      "Ep 4 (Step 015300): Train loss 0.380, Val loss 0.319\n",
      "Ep 4 (Step 015350): Train loss 0.241, Val loss 0.354\n",
      "Ep 4 (Step 015400): Train loss 0.296, Val loss 0.354\n",
      "Ep 4 (Step 015450): Train loss 0.488, Val loss 0.308\n",
      "Ep 4 (Step 015500): Train loss 0.191, Val loss 0.364\n",
      "Ep 4 (Step 015550): Train loss 0.149, Val loss 0.291\n",
      "Ep 4 (Step 015600): Train loss 0.253, Val loss 0.303\n",
      "Ep 4 (Step 015650): Train loss 0.267, Val loss 0.358\n",
      "Ep 4 (Step 015700): Train loss 0.136, Val loss 0.346\n",
      "Ep 4 (Step 015750): Train loss 0.446, Val loss 0.412\n",
      "Ep 4 (Step 015800): Train loss 0.227, Val loss 0.336\n",
      "Ep 4 (Step 015850): Train loss 0.347, Val loss 0.371\n",
      "Ep 4 (Step 015900): Train loss 0.178, Val loss 0.311\n",
      "Ep 4 (Step 015950): Train loss 0.176, Val loss 0.373\n",
      "Ep 4 (Step 016000): Train loss 0.214, Val loss 0.336\n",
      "Ep 4 (Step 016050): Train loss 0.171, Val loss 0.358\n",
      "Ep 4 (Step 016100): Train loss 0.292, Val loss 0.299\n",
      "Ep 4 (Step 016150): Train loss 0.193, Val loss 0.378\n",
      "Ep 4 (Step 016200): Train loss 0.208, Val loss 0.308\n",
      "Ep 4 (Step 016250): Train loss 0.216, Val loss 0.316\n",
      "Ep 4 (Step 016300): Train loss 0.178, Val loss 0.338\n",
      "Ep 4 (Step 016350): Train loss 0.177, Val loss 0.384\n",
      "Ep 4 (Step 016400): Train loss 0.366, Val loss 0.329\n",
      "Ep 4 (Step 016450): Train loss 0.249, Val loss 0.336\n",
      "Ep 4 (Step 016500): Train loss 0.310, Val loss 0.298\n",
      "Ep 4 (Step 016550): Train loss 0.391, Val loss 0.286\n",
      "Ep 4 (Step 016600): Train loss 0.326, Val loss 0.345\n",
      "Ep 4 (Step 016650): Train loss 0.293, Val loss 0.278\n",
      "Ep 4 (Step 016700): Train loss 0.200, Val loss 0.319\n",
      "Ep 4 (Step 016750): Train loss 0.227, Val loss 0.286\n",
      "Ep 4 (Step 016800): Train loss 0.347, Val loss 0.344\n",
      "Ep 4 (Step 016850): Train loss 0.187, Val loss 0.316\n",
      "Ep 4 (Step 016900): Train loss 0.361, Val loss 0.285\n",
      "Ep 4 (Step 016950): Train loss 0.230, Val loss 0.293\n",
      "Ep 4 (Step 017000): Train loss 0.154, Val loss 0.296\n",
      "Ep 4 (Step 017050): Train loss 0.145, Val loss 0.321\n",
      "Ep 4 (Step 017100): Train loss 0.375, Val loss 0.352\n",
      "Ep 4 (Step 017150): Train loss 0.500, Val loss 0.379\n",
      "Ep 4 (Step 017200): Train loss 0.450, Val loss 0.271\n",
      "Ep 4 (Step 017250): Train loss 0.344, Val loss 0.349\n",
      "Ep 4 (Step 017300): Train loss 0.387, Val loss 0.369\n",
      "Ep 4 (Step 017350): Train loss 0.359, Val loss 0.305\n",
      "Ep 4 (Step 017400): Train loss 0.167, Val loss 0.268\n",
      "Ep 4 (Step 017450): Train loss 0.065, Val loss 0.296\n",
      "Ep 4 (Step 017500): Train loss 0.404, Val loss 0.278\n",
      "Ep 4 (Step 017550): Train loss 0.210, Val loss 0.283\n",
      "Ep 4 (Step 017600): Train loss 0.068, Val loss 0.300\n",
      "Ep 4 (Step 017650): Train loss 0.264, Val loss 0.287\n",
      "Ep 4 (Step 017700): Train loss 0.378, Val loss 0.289\n",
      "Ep 4 (Step 017750): Train loss 0.149, Val loss 0.326\n",
      "Ep 4 (Step 017800): Train loss 0.480, Val loss 0.349\n",
      "Ep 4 (Step 017850): Train loss 0.254, Val loss 0.304\n",
      "Ep 4 (Step 017900): Train loss 0.337, Val loss 0.282\n",
      "Ep 4 (Step 017950): Train loss 0.353, Val loss 0.244\n",
      "Ep 4 (Step 018000): Train loss 0.411, Val loss 0.269\n",
      "Ep 4 (Step 018050): Train loss 0.227, Val loss 0.304\n",
      "Ep 4 (Step 018100): Train loss 0.219, Val loss 0.274\n",
      "Ep 4 (Step 018150): Train loss 0.224, Val loss 0.365\n",
      "Ep 4 (Step 018200): Train loss 0.225, Val loss 0.326\n",
      "Ep 4 (Step 018250): Train loss 0.226, Val loss 0.380\n",
      "Ep 4 (Step 018300): Train loss 0.346, Val loss 0.323\n",
      "Ep 4 (Step 018350): Train loss 0.091, Val loss 0.275\n",
      "Training accuracy: 95.00% | Validation accuracy: 87.50%\n",
      "Ep 5 (Step 018400): Train loss 0.346, Val loss 0.255\n",
      "Ep 5 (Step 018450): Train loss 0.293, Val loss 0.320\n",
      "Ep 5 (Step 018500): Train loss 0.235, Val loss 0.264\n",
      "Ep 5 (Step 018550): Train loss 0.092, Val loss 0.293\n",
      "Ep 5 (Step 018600): Train loss 0.298, Val loss 0.299\n",
      "Ep 5 (Step 018650): Train loss 0.139, Val loss 0.301\n",
      "Ep 5 (Step 018700): Train loss 0.156, Val loss 0.244\n",
      "Ep 5 (Step 018750): Train loss 0.286, Val loss 0.264\n",
      "Ep 5 (Step 018800): Train loss 0.344, Val loss 0.323\n",
      "Ep 5 (Step 018850): Train loss 0.282, Val loss 0.286\n",
      "Ep 5 (Step 018900): Train loss 0.242, Val loss 0.274\n",
      "Ep 5 (Step 018950): Train loss 0.135, Val loss 0.231\n",
      "Ep 5 (Step 019000): Train loss 0.339, Val loss 0.262\n",
      "Ep 5 (Step 019050): Train loss 0.254, Val loss 0.381\n",
      "Ep 5 (Step 019100): Train loss 0.166, Val loss 0.272\n",
      "Ep 5 (Step 019150): Train loss 0.281, Val loss 0.271\n",
      "Ep 5 (Step 019200): Train loss 0.190, Val loss 0.364\n",
      "Ep 5 (Step 019250): Train loss 0.248, Val loss 0.306\n",
      "Ep 5 (Step 019300): Train loss 0.257, Val loss 0.335\n",
      "Ep 5 (Step 019350): Train loss 0.205, Val loss 0.291\n",
      "Ep 5 (Step 019400): Train loss 0.195, Val loss 0.280\n",
      "Ep 5 (Step 019450): Train loss 0.386, Val loss 0.353\n",
      "Ep 5 (Step 019500): Train loss 0.362, Val loss 0.240\n",
      "Ep 5 (Step 019550): Train loss 0.327, Val loss 0.309\n",
      "Ep 5 (Step 019600): Train loss 0.134, Val loss 0.284\n",
      "Ep 5 (Step 019650): Train loss 0.262, Val loss 0.264\n",
      "Ep 5 (Step 019700): Train loss 0.286, Val loss 0.284\n",
      "Ep 5 (Step 019750): Train loss 0.200, Val loss 0.284\n",
      "Ep 5 (Step 019800): Train loss 0.339, Val loss 0.276\n",
      "Ep 5 (Step 019850): Train loss 0.377, Val loss 0.250\n",
      "Ep 5 (Step 019900): Train loss 0.368, Val loss 0.343\n",
      "Ep 5 (Step 019950): Train loss 0.225, Val loss 0.328\n",
      "Ep 5 (Step 020000): Train loss 0.210, Val loss 0.409\n",
      "Ep 5 (Step 020050): Train loss 0.038, Val loss 0.333\n",
      "Ep 5 (Step 020100): Train loss 0.421, Val loss 0.286\n",
      "Ep 5 (Step 020150): Train loss 0.179, Val loss 0.280\n",
      "Ep 5 (Step 020200): Train loss 0.182, Val loss 0.301\n",
      "Ep 5 (Step 020250): Train loss 0.261, Val loss 0.317\n",
      "Ep 5 (Step 020300): Train loss 0.231, Val loss 0.360\n",
      "Ep 5 (Step 020350): Train loss 0.157, Val loss 0.308\n",
      "Ep 5 (Step 020400): Train loss 0.176, Val loss 0.335\n",
      "Ep 5 (Step 020450): Train loss 0.242, Val loss 0.357\n",
      "Ep 5 (Step 020500): Train loss 0.315, Val loss 0.252\n",
      "Ep 5 (Step 020550): Train loss 0.146, Val loss 0.266\n",
      "Ep 5 (Step 020600): Train loss 0.154, Val loss 0.270\n",
      "Ep 5 (Step 020650): Train loss 0.180, Val loss 0.323\n",
      "Ep 5 (Step 020700): Train loss 0.124, Val loss 0.248\n",
      "Ep 5 (Step 020750): Train loss 0.357, Val loss 0.274\n",
      "Ep 5 (Step 020800): Train loss 0.541, Val loss 0.274\n",
      "Ep 5 (Step 020850): Train loss 0.275, Val loss 0.229\n",
      "Ep 5 (Step 020900): Train loss 0.177, Val loss 0.271\n",
      "Ep 5 (Step 020950): Train loss 0.181, Val loss 0.282\n",
      "Ep 5 (Step 021000): Train loss 0.038, Val loss 0.262\n",
      "Ep 5 (Step 021050): Train loss 0.273, Val loss 0.202\n",
      "Ep 5 (Step 021100): Train loss 0.261, Val loss 0.286\n",
      "Ep 5 (Step 021150): Train loss 0.182, Val loss 0.250\n",
      "Ep 5 (Step 021200): Train loss 0.275, Val loss 0.345\n",
      "Ep 5 (Step 021250): Train loss 0.288, Val loss 0.283\n",
      "Ep 5 (Step 021300): Train loss 0.161, Val loss 0.261\n",
      "Ep 5 (Step 021350): Train loss 0.054, Val loss 0.233\n",
      "Ep 5 (Step 021400): Train loss 0.220, Val loss 0.245\n",
      "Ep 5 (Step 021450): Train loss 0.536, Val loss 0.219\n",
      "Ep 5 (Step 021500): Train loss 0.404, Val loss 0.242\n",
      "Ep 5 (Step 021550): Train loss 0.364, Val loss 0.253\n",
      "Ep 5 (Step 021600): Train loss 0.184, Val loss 0.346\n",
      "Ep 5 (Step 021650): Train loss 0.324, Val loss 0.310\n",
      "Ep 5 (Step 021700): Train loss 0.362, Val loss 0.334\n",
      "Ep 5 (Step 021750): Train loss 0.125, Val loss 0.266\n",
      "Ep 5 (Step 021800): Train loss 0.113, Val loss 0.309\n",
      "Ep 5 (Step 021850): Train loss 0.231, Val loss 0.339\n",
      "Ep 5 (Step 021900): Train loss 0.287, Val loss 0.253\n",
      "Ep 5 (Step 021950): Train loss 0.331, Val loss 0.275\n",
      "Ep 5 (Step 022000): Train loss 0.335, Val loss 0.227\n",
      "Ep 5 (Step 022050): Train loss 0.245, Val loss 0.289\n",
      "Ep 5 (Step 022100): Train loss 0.183, Val loss 0.290\n",
      "Ep 5 (Step 022150): Train loss 0.110, Val loss 0.336\n",
      "Ep 5 (Step 022200): Train loss 0.128, Val loss 0.264\n",
      "Ep 5 (Step 022250): Train loss 0.224, Val loss 0.236\n",
      "Ep 5 (Step 022300): Train loss 0.159, Val loss 0.318\n",
      "Ep 5 (Step 022350): Train loss 0.287, Val loss 0.270\n",
      "Ep 5 (Step 022400): Train loss 0.118, Val loss 0.332\n",
      "Ep 5 (Step 022450): Train loss 0.292, Val loss 0.291\n",
      "Ep 5 (Step 022500): Train loss 0.303, Val loss 0.332\n",
      "Ep 5 (Step 022550): Train loss 0.217, Val loss 0.268\n",
      "Ep 5 (Step 022600): Train loss 0.223, Val loss 0.249\n",
      "Ep 5 (Step 022650): Train loss 0.260, Val loss 0.297\n",
      "Ep 5 (Step 022700): Train loss 0.275, Val loss 0.251\n",
      "Ep 5 (Step 022750): Train loss 0.223, Val loss 0.234\n",
      "Ep 5 (Step 022800): Train loss 0.380, Val loss 0.270\n",
      "Ep 5 (Step 022850): Train loss 0.105, Val loss 0.248\n",
      "Ep 5 (Step 022900): Train loss 0.527, Val loss 0.318\n",
      "Ep 5 (Step 022950): Train loss 0.126, Val loss 0.207\n",
      "Training accuracy: 87.50% | Validation accuracy: 90.00%\n",
      "Training completed in 163.69 minutes.\n"
     ]
    }
   ],
   "source": [
    "# Train the model, we will use the AdamW optimizer with a learning rate of 5e-5 and weight decay of 0.1\n",
    "#experiment with different learning rates and weight decay values to see how it affects the training\n",
    "\n",
    "import time\n",
    "start_time = time.time()\n",
    "\n",
    "torch.manual_seed(123)\n",
    "\n",
    "optimizer = torch.optim.AdamW(model.parameters(), lr=5e-5, weight_decay=0.1)\n",
    "\n",
    "num_epochs = 5\n",
    "train_losses, val_losses, train_accs, val_accs, examples_seen = train_classifier_simple(\n",
    "    model, train_loader, val_loader, optimizer, device,\n",
    "    num_epochs=num_epochs, eval_freq=50, eval_iter=5,\n",
    ")\n",
    "\n",
    "end_time = time.time()\n",
    "execution_time_minutes = (end_time - start_time) / 60\n",
    "print(f\"Training completed in {execution_time_minutes:.2f} minutes.\")"
   ]
  },
  {
   "cell_type": "code",
   "execution_count": null,
   "metadata": {
    "execution": {
     "iopub.execute_input": "2025-06-18T13:06:58.842034Z",
     "iopub.status.busy": "2025-06-18T13:06:58.841509Z",
     "iopub.status.idle": "2025-06-18T13:06:59.654494Z",
     "shell.execute_reply": "2025-06-18T13:06:59.653548Z",
     "shell.execute_reply.started": "2025-06-18T13:06:58.842006Z"
    },
    "trusted": true
   },
   "outputs": [],
   "source": [
    "#the most important part is to save the model after training so that we can use it later for inference\n",
    "# Save the model state dictionary to a file\n",
    "torch.save(model.state_dict(), \"Subject_classifier.pth\")"
   ]
  },
  {
   "cell_type": "code",
   "execution_count": null,
   "metadata": {
    "execution": {
     "iopub.execute_input": "2025-06-18T13:06:59.656040Z",
     "iopub.status.busy": "2025-06-18T13:06:59.655746Z",
     "iopub.status.idle": "2025-06-18T13:07:00.016401Z",
     "shell.execute_reply": "2025-06-18T13:07:00.015527Z",
     "shell.execute_reply.started": "2025-06-18T13:06:59.656013Z"
    },
    "trusted": true
   },
   "outputs": [
    {
     "name": "stderr",
     "output_type": "stream",
     "text": [
      "/tmp/ipykernel_30/3757124446.py:1: FutureWarning: You are using `torch.load` with `weights_only=False` (the current default value), which uses the default pickle module implicitly. It is possible to construct malicious pickle data which will execute arbitrary code during unpickling (See https://github.com/pytorch/pytorch/blob/main/SECURITY.md#untrusted-models for more details). In a future release, the default value for `weights_only` will be flipped to `True`. This limits the functions that could be executed during unpickling. Arbitrary objects will no longer be allowed to be loaded via this mode unless they are explicitly allowlisted by the user via `torch.serialization.add_safe_globals`. We recommend you start setting `weights_only=True` for any use case where you don't have full control of the loaded file. Please open an issue on GitHub for any issues related to this experimental feature.\n",
      "  model_state_dict = torch.load(\"Subject_classifier.pth\")\n"
     ]
    },
    {
     "data": {
      "text/plain": [
       "<All keys matched successfully>"
      ]
     },
     "execution_count": 42,
     "metadata": {},
     "output_type": "execute_result"
    }
   ],
   "source": [
    "# Load the model state dictionary from the file\n",
    "model_state_dict = torch.load(\"Subject_classifier.pth\")\n",
    "model.load_state_dict(model_state_dict)"
   ]
  },
  {
   "cell_type": "code",
   "execution_count": null,
   "metadata": {
    "execution": {
     "iopub.execute_input": "2025-06-18T13:07:00.017992Z",
     "iopub.status.busy": "2025-06-18T13:07:00.017607Z",
     "iopub.status.idle": "2025-06-18T13:07:00.024309Z",
     "shell.execute_reply": "2025-06-18T13:07:00.023376Z",
     "shell.execute_reply.started": "2025-06-18T13:07:00.017955Z"
    },
    "trusted": true
   },
   "outputs": [],
   "source": [
    "# Plot the loss and accuracy values\n",
    "import matplotlib.pyplot as plt\n",
    "\n",
    "def plot_values(epochs_seen, examples_seen, train_values, val_values, label=\"loss\"):\n",
    "    fig, ax1 = plt.subplots(figsize=(5, 3))\n",
    "\n",
    "    # Plot training and validation loss against epochs\n",
    "    ax1.plot(epochs_seen, train_values, label=f\"Training {label}\")\n",
    "    ax1.plot(epochs_seen, val_values, linestyle=\"-.\", label=f\"Validation {label}\")\n",
    "    ax1.set_xlabel(\"Epochs\")\n",
    "    ax1.set_ylabel(label.capitalize())\n",
    "    ax1.legend()\n",
    "\n",
    "    # Create a second x-axis for examples seen\n",
    "    ax2 = ax1.twiny()  # Create a second x-axis that shares the same y-axis\n",
    "    ax2.plot(examples_seen, train_values, alpha=0)  # Invisible plot for aligning ticks\n",
    "    ax2.set_xlabel(\"Examples seen\")\n",
    "\n",
    "    fig.tight_layout()  # Adjust layout to make room\n",
    "    plt.savefig(f\"{label}-plot.pdf\")\n",
    "    plt.show()"
   ]
  },
  {
   "cell_type": "code",
   "execution_count": null,
   "metadata": {
    "execution": {
     "iopub.execute_input": "2025-06-18T13:07:00.025555Z",
     "iopub.status.busy": "2025-06-18T13:07:00.025277Z",
     "iopub.status.idle": "2025-06-18T13:07:01.550626Z",
     "shell.execute_reply": "2025-06-18T13:07:01.549405Z",
     "shell.execute_reply.started": "2025-06-18T13:07:00.025531Z"
    },
    "trusted": true
   },
   "outputs": [
    {
     "data": {
      "image/png": "[encoded data removed]",
      "text/plain": [
       "<Figure size 500x300 with 2 Axes>"
      ]
     },
     "metadata": {},
     "output_type": "display_data"
    }
   ],
   "source": [
    "# Plot the loss and accuracy values\n",
    "epochs_tensor = torch.linspace(0, num_epochs, len(train_losses))\n",
    "examples_seen_tensor = torch.linspace(0, examples_seen, len(train_losses))\n",
    "\n",
    "plot_values(epochs_tensor, examples_seen_tensor, train_losses, val_losses)"
   ]
  },
  {
   "cell_type": "code",
   "execution_count": null,
   "metadata": {
    "execution": {
     "iopub.execute_input": "2025-06-18T13:44:31.538162Z",
     "iopub.status.busy": "2025-06-18T13:44:31.537817Z",
     "iopub.status.idle": "2025-06-18T13:44:31.544466Z",
     "shell.execute_reply": "2025-06-18T13:44:31.543552Z",
     "shell.execute_reply.started": "2025-06-18T13:44:31.538133Z"
    },
    "trusted": true
   },
   "outputs": [],
   "source": [
    "# this function will classify the subject of a given text using the trained model\n",
    "# It takes the text as input and returns the predicted subject as a string.\n",
    "def classify_subject(text, model, tokenizer, device, max_length=None, pad_token_id=50256):\n",
    "    model.eval()\n",
    "\n",
    "    # Prepare inputs to the model\n",
    "    input_ids = tokenizer.encode(text)\n",
    "    supported_context_length = model.pos_emb.weight.shape[0]\n",
    "\n",
    "    input_ids = input_ids[:min(max_length, supported_context_length)]\n",
    "\n",
    "    # Pad sequences to the longest sequence\n",
    "    input_ids += [pad_token_id] * (max_length - len(input_ids))\n",
    "    input_tensor = torch.tensor(input_ids, device=device).unsqueeze(0) # add batch dimension\n",
    "\n",
    "    # Model inference\n",
    "    with torch.no_grad():\n",
    "        logits = model(input_tensor)[:, -1, :]  # Logits of the last output token\n",
    "    predicted_label = torch.argmax(logits, dim=-1).item()\n",
    "    # print(predicted_label)\n",
    "    # Return the classified result\n",
    "    # \"Maths\": 0, \"Chemistry\": 1,\"Physics\":2,\"Biology\":3\n",
    "    return (\n",
    "    \"Maths\" if predicted_label == 0 else\n",
    "    \"Chemistry\" if predicted_label == 1 else\n",
    "    \"Physics\" if predicted_label == 2 else\n",
    "    \"Biology\"\n",
    ")\n"
   ]
  },
  {
   "cell_type": "code",
   "execution_count": null,
   "metadata": {
    "execution": {
     "iopub.execute_input": "2025-06-18T13:48:36.502035Z",
     "iopub.status.busy": "2025-06-18T13:48:36.501122Z",
     "iopub.status.idle": "2025-06-18T13:48:36.691847Z",
     "shell.execute_reply": "2025-06-18T13:48:36.690990Z",
     "shell.execute_reply.started": "2025-06-18T13:48:36.501984Z"
    },
    "trusted": true
   },
   "outputs": [
    {
     "name": "stdout",
     "output_type": "stream",
     "text": [
      "Physics\n",
      "Chemistry\n",
      "Maths\n",
      "Biology\n"
     ]
    }
   ],
   "source": [
    "#HERE we will test the model on some sample texts to see how well it classifies the subjects\n",
    "# You can change the texts to test the model on different inputs.\n",
    "text_1 = (\n",
    "    \"How the gravitational constant will change if a brass plate is introduced between two bodies?\"\n",
    ")\n",
    "text_2=(\n",
    "    \"\"\"A ketone has molar mass 86 Which of the following cannot be IUPAC name of this ketone? what is its \n",
    "       periodic number?\n",
    "     \"\"\"\n",
    ")\n",
    "text_3=(\n",
    "    \"The equation of a line is y=mx+c\"\n",
    ")\n",
    "text_4=(\n",
    "    \"The human body has billions and trillions of cells. Tissues are clusters of cells.\"\n",
    ")\n",
    "print(classify_subject(\n",
    "    text_1, model, tokenizer, device, max_length=train_dataset.max_length\n",
    "))\n",
    "print(classify_subject(\n",
    "    text_2, model, tokenizer, device, max_length=train_dataset.max_length\n",
    "))\n",
    "print(classify_subject(\n",
    "    text_3, model, tokenizer, device, max_length=train_dataset.max_length\n",
    "))\n",
    "print(classify_subject(\n",
    "    text_4, model, tokenizer, device, max_length=train_dataset.max_length\n",
    "))"
   ]
  },
  {
   "cell_type": "code",
   "execution_count": null,
   "metadata": {
    "execution": {
     "iopub.execute_input": "2025-06-18T13:08:35.248392Z",
     "iopub.status.busy": "2025-06-18T13:08:35.248036Z",
     "iopub.status.idle": "2025-06-18T13:42:56.335018Z",
     "shell.execute_reply": "2025-06-18T13:42:56.334101Z",
     "shell.execute_reply.started": "2025-06-18T13:08:35.248360Z"
    },
    "trusted": true
   },
   "outputs": [
    {
     "name": "stdout",
     "output_type": "stream",
     "text": [
      "Training accuracy: 91.05%\n",
      "Validation accuracy: 90.49%\n",
      "Test accuracy: 89.99%\n"
     ]
    }
   ],
   "source": [
    "# Evaluate the model on the entire dataset\n",
    "# This will give us the accuracy of the model on the training, validation, and test datasets\n",
    "train_accuracy = calc_accuracy_loader(train_loader, model, device)\n",
    "val_accuracy = calc_accuracy_loader(val_loader, model, device)\n",
    "test_accuracy = calc_accuracy_loader(test_loader, model, device)\n",
    "\n",
    "print(f\"Training accuracy: {train_accuracy*100:.2f}%\")\n",
    "print(f\"Validation accuracy: {val_accuracy*100:.2f}%\")\n",
    "print(f\"Test accuracy: {test_accuracy*100:.2f}%\")"
   ]
  },
  {
   "cell_type": "markdown",
   "metadata": {},
   "source": [
    "The accuracy is **91.05%** on training , **90.49%** for validation , **89.99%** for testing. So it has improved from before\n",
    "hence we have fine-tuned it for classification . For a text based classification Fine-tuning transformers is the best option as we are working on language. \n"
   ]
  }
 ],
 "metadata": {
  "kaggle": {
   "accelerator": "gpu",
   "dataSources": [
    {
     "databundleVersionId": 861823,
     "sourceId": 3004,
     "sourceType": "competition"
    },
    {
     "databundleVersionId": 1736879,
     "datasetId": 957852,
     "isSourceIdPinned": false,
     "sourceId": 1700219,
     "sourceType": "datasetVersion"
    }
   ],
   "dockerImageVersionId": 30788,
   "isGpuEnabled": true,
   "isInternetEnabled": true,
   "language": "python",
   "sourceType": "notebook"
  },
  "kernelspec": {
   "display_name": "Python 3",
   "language": "python",
   "name": "python3"
  },
  "language_info": {
   "codemirror_mode": {
    "name": "ipython",
    "version": 3
   },
   "file_extension": ".py",
   "mimetype": "text/x-python",
   "name": "python",
   "nbconvert_exporter": "python",
   "pygments_lexer": "ipython3",
   "version": "3.10.14"
  }
 },
 "nbformat": 4,
 "nbformat_minor": 4
}
