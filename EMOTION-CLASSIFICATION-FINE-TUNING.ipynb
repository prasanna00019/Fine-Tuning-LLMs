{
 "cells": [
  {
   "cell_type": "markdown",
   "metadata": {},
   "source": [
    "# Emotion Classification with GPT-2 Fine-Tuning\n",
    "\n",
    "This project demonstrates how to fine-tune a pre-trained GPT-2 model for emotion classification using the [Emotion Dataset](https://www.kaggle.com/datasets/parulpandey/emotion-dataset). The workflow covers data preparation, model adaptation, training, evaluation, and inference, providing a practical example of transfer learning in NLP.\n",
    "\n",
    "---\n",
    "\n",
    "## Why This Project?\n",
    "\n",
    "- **Transfer Learning**: Leverages the power of large pre-trained language models (GPT-2) for a downstream classification task, reducing the need for massive labeled datasets.\n",
    "- **Practical NLP**: Emotion classification is a common real-world application, useful in chatbots, sentiment analysis, and social media monitoring.\n",
    "- **Hands-On Deep Learning**: Covers all steps from data loading to model evaluation, making it a comprehensive learning resource.\n",
    "- **Custom Model Adaptation**: Shows how to modify the GPT-2 architecture for classification tasks, including freezing and unfreezing layers for efficient fine-tuning.\n",
    "\n",
    "---\n",
    "\n",
    "## Project Workflow\n",
    "\n",
    "### 1. **Setup and Tokenization**\n",
    "- Install and import necessary libraries (`torch`, `tiktoken`, `pandas`, etc.).\n",
    "- Load the GPT-2 tokenizer using `tiktoken` for consistent tokenization with the pre-trained model.\n",
    "\n",
    "### 2. **Model Configuration**\n",
    "- Define the GPT-2 model configuration (embedding size, number of layers/heads, etc.).\n",
    "- Download and load pre-trained GPT-2 weights using helper functions.\n",
    "\n",
    "### 3. **Model Architecture**\n",
    "- Implement the GPT-2 architecture in PyTorch, including:\n",
    "    - Multi-head self-attention\n",
    "    - Layer normalization\n",
    "    - Feed-forward layers\n",
    "    - Positional and token embeddings\n",
    "- Adapt the output head for emotion classification (6 classes).\n",
    "\n",
    "### 4. **Dataset Preparation**\n",
    "- Download the Emotion Dataset from Kaggle.\n",
    "- Load and preprocess the data using pandas.\n",
    "- Implement a custom `EmotionDataset` class for tokenization, padding, and label extraction.\n",
    "- Create PyTorch DataLoaders for training, validation, and testing.\n",
    "\n",
    "### 5. **Fine-Tuning Strategy**\n",
    "- Freeze all model parameters except the last two transformer blocks, final normalization, and the new output head.\n",
    "- Replace the output head with a linear layer for 6-class classification.\n",
    "\n",
    "### 6. **Training and Evaluation**\n",
    "- Define loss and accuracy calculation functions.\n",
    "- Train the model using AdamW optimizer, tracking loss and accuracy on both training and validation sets.\n",
    "- Save and reload the best model weights.\n",
    "\n",
    "### 7. **Visualization**\n",
    "- Plot training and validation loss curves to monitor learning progress.\n",
    "\n",
    "### 8. **Inference**\n",
    "- Implement a function to classify the emotion of new text inputs.\n",
    "- Test the model on various example sentences.\n",
    "\n",
    "---\n",
    "\n",
    "## Conclusion\n",
    "\n",
    "This project provides a complete pipeline for adapting a large language model to a practical NLP task. By fine-tuning GPT-2 for emotion classification, we demonstrate the effectiveness of transfer learning and the flexibility of transformer-based models for a wide range of applications.\n",
    "\n",
    "---\n",
    "\n",
    "**Try it yourself:**  \n",
    "Modify the dataset, experiment with different layers to fine-tune, or apply this workflow to other text classification tasks!"
   ]
  },
  {
   "cell_type": "code",
   "execution_count": 3,
   "metadata": {
    "execution": {
     "iopub.execute_input": "2025-06-17T12:50:54.994529Z",
     "iopub.status.busy": "2025-06-17T12:50:54.994230Z",
     "iopub.status.idle": "2025-06-17T12:51:03.420972Z",
     "shell.execute_reply": "2025-06-17T12:51:03.415130Z",
     "shell.execute_reply.started": "2025-06-17T12:50:54.994504Z"
    },
    "trusted": true
   },
   "outputs": [
    {
     "name": "stdout",
     "output_type": "stream",
     "text": [
      "Collecting tiktoken\n",
      "  Downloading tiktoken-0.9.0-cp310-cp310-manylinux_2_17_x86_64.manylinux2014_x86_64.whl (1.2 MB)\n",
      "\u001b[2K     \u001b[90m━━━━━━━━━━━━━━━━━━━━━━━━━━━━━━━━━━━━━━━━\u001b[0m \u001b[32m1.2/1.2 MB\u001b[0m \u001b[31m14.4 MB/s\u001b[0m eta \u001b[36m0:00:00\u001b[0m00:01\u001b[0m00:01\u001b[0m\n",
      "\u001b[?25hRequirement already satisfied: regex>=2022.1.18 in /usr/local/lib/python3.10/site-packages (from tiktoken) (2024.11.6)\n",
      "Requirement already satisfied: requests>=2.26.0 in /usr/local/lib/python3.10/site-packages (from tiktoken) (2.32.3)\n",
      "Requirement already satisfied: urllib3<3,>=1.21.1 in /usr/local/lib/python3.10/site-packages (from requests>=2.26.0->tiktoken) (2.4.0)\n",
      "Requirement already satisfied: idna<4,>=2.5 in /usr/local/lib/python3.10/site-packages (from requests>=2.26.0->tiktoken) (3.10)\n",
      "Requirement already satisfied: charset-normalizer<4,>=2 in /usr/local/lib/python3.10/site-packages (from requests>=2.26.0->tiktoken) (3.4.2)\n",
      "Requirement already satisfied: certifi>=2017.4.17 in /usr/local/lib/python3.10/site-packages (from requests>=2.26.0->tiktoken) (2025.4.26)\n",
      "Installing collected packages: tiktoken\n",
      "Successfully installed tiktoken-0.9.0\n",
      "\u001b[33mWARNING: Running pip as the 'root' user can result in broken permissions and conflicting behaviour with the system package manager. It is recommended to use a virtual environment instead: https://pip.pypa.io/warnings/venv\u001b[0m\u001b[33m\n",
      "\u001b[0m\n",
      "\u001b[1m[\u001b[0m\u001b[34;49mnotice\u001b[0m\u001b[1;39;49m]\u001b[0m\u001b[39;49m A new release of pip is available: \u001b[0m\u001b[31;49m23.0.1\u001b[0m\u001b[39;49m -> \u001b[0m\u001b[32;49m25.1.1\u001b[0m\n",
      "\u001b[1m[\u001b[0m\u001b[34;49mnotice\u001b[0m\u001b[1;39;49m]\u001b[0m\u001b[39;49m To update, run: \u001b[0m\u001b[32;49mpip install --upgrade pip\u001b[0m\n"
     ]
    }
   ],
   "source": [
    "# !pip install tiktoken\n",
    "import tiktoken\n",
    "tokenizer = tiktoken.get_encoding(\"gpt2\")"
   ]
  },
  {
   "cell_type": "code",
   "execution_count": null,
   "metadata": {
    "execution": {
     "iopub.execute_input": "2025-06-17T12:51:03.421943Z",
     "iopub.status.busy": "2025-06-17T12:51:03.421687Z",
     "iopub.status.idle": "2025-06-17T12:51:03.433673Z",
     "shell.execute_reply": "2025-06-17T12:51:03.427463Z",
     "shell.execute_reply.started": "2025-06-17T12:51:03.421913Z"
    },
    "trusted": true
   },
   "outputs": [],
   "source": [
    "GPT_CONFIG_124M = {\n",
    "    \"vocab_size\": 50257,   # Vocabulary size\n",
    "    \"context_length\": 256, # Shortened context length (orig: 1024) \n",
    "    \"emb_dim\": 768,        # Embedding dimension // later we will use 5 only for 5 classes\n",
    "    \"n_heads\": 12,         # Number of attention heads\n",
    "    \"n_layers\": 12,        # Number of layers\n",
    "    \"drop_rate\": 0.2,      # Dropout rate\n",
    "    \"qkv_bias\": False      # Query-key-value bias\n",
    "}\n"
   ]
  },
  {
   "cell_type": "code",
   "execution_count": 5,
   "metadata": {
    "execution": {
     "iopub.execute_input": "2025-06-17T12:51:05.676453Z",
     "iopub.status.busy": "2025-06-17T12:51:05.676109Z",
     "iopub.status.idle": "2025-06-17T12:51:31.118389Z",
     "shell.execute_reply": "2025-06-17T12:51:31.112966Z",
     "shell.execute_reply.started": "2025-06-17T12:51:05.676423Z"
    },
    "trusted": true
   },
   "outputs": [],
   "source": [
    "import torch.nn as nn\n",
    "import torch\n",
    "class MultiHeadAttention(nn.Module):\n",
    "    def __init__(self, d_in, d_out, context_length, dropout, num_heads, qkv_bias=False):\n",
    "        super().__init__()\n",
    "        assert (d_out % num_heads == 0), \\\n",
    "            \"d_out must be divisible by num_heads\"\n",
    "\n",
    "        self.d_out = d_out\n",
    "        self.num_heads = num_heads\n",
    "        self.head_dim = d_out // num_heads # Reduce the projection dim to match desired output dim\n",
    "\n",
    "        self.W_query = nn.Linear(d_in, d_out, bias=qkv_bias)\n",
    "        self.W_key = nn.Linear(d_in, d_out, bias=qkv_bias)\n",
    "        self.W_value = nn.Linear(d_in, d_out, bias=qkv_bias)\n",
    "        self.out_proj = nn.Linear(d_out, d_out)  # Linear layer to combine head outputs\n",
    "        self.dropout = nn.Dropout(dropout)\n",
    "        self.register_buffer(\n",
    "            \"mask\",\n",
    "            torch.triu(torch.ones(context_length, context_length),\n",
    "                       diagonal=1)\n",
    "        )\n",
    "\n",
    "    def forward(self, x):\n",
    "        b, num_tokens, d_in = x.shape\n",
    "\n",
    "        keys = self.W_key(x) # Shape: (b, num_tokens, d_out)\n",
    "        queries = self.W_query(x)\n",
    "        values = self.W_value(x)\n",
    "\n",
    "        # We implicitly split the matrix by adding a `num_heads` dimension\n",
    "        # Unroll last dim: (b, num_tokens, d_out) -> (b, num_tokens, num_heads, head_dim)\n",
    "        keys = keys.view(b, num_tokens, self.num_heads, self.head_dim) \n",
    "        values = values.view(b, num_tokens, self.num_heads, self.head_dim)\n",
    "        queries = queries.view(b, num_tokens, self.num_heads, self.head_dim)\n",
    "\n",
    "        # Transpose: (b, num_tokens, num_heads, head_dim) -> (b, num_heads, num_tokens, head_dim)\n",
    "        keys = keys.transpose(1, 2)\n",
    "        queries = queries.transpose(1, 2)\n",
    "        values = values.transpose(1, 2)\n",
    "\n",
    "        # Compute scaled dot-product attention (aka self-attention) with a causal mask\n",
    "        attn_scores = queries @ keys.transpose(2, 3)  # Dot product for each head\n",
    "\n",
    "        # Original mask truncated to the number of tokens and converted to boolean\n",
    "        mask_bool = self.mask.bool()[:num_tokens, :num_tokens]\n",
    "\n",
    "        # Use the mask to fill attention scores\n",
    "        attn_scores.masked_fill_(mask_bool, -torch.inf)\n",
    "        \n",
    "        attn_weights = torch.softmax(attn_scores / keys.shape[-1]**0.5, dim=-1)\n",
    "        attn_weights = self.dropout(attn_weights)\n",
    "\n",
    "        # Shape: (b, num_tokens, num_heads, head_dim)\n",
    "        context_vec = (attn_weights @ values).transpose(1, 2) \n",
    "        \n",
    "        # Combine heads, where self.d_out = self.num_heads * self.head_dim\n",
    "        context_vec = context_vec.contiguous().view(b, num_tokens, self.d_out)\n",
    "        context_vec = self.out_proj(context_vec) # optional projection\n",
    "\n",
    "        return context_vec"
   ]
  },
  {
   "cell_type": "code",
   "execution_count": 6,
   "metadata": {
    "execution": {
     "iopub.execute_input": "2025-06-17T12:51:31.121062Z",
     "iopub.status.busy": "2025-06-17T12:51:31.120683Z",
     "iopub.status.idle": "2025-06-17T12:51:31.135889Z",
     "shell.execute_reply": "2025-06-17T12:51:31.130974Z",
     "shell.execute_reply.started": "2025-06-17T12:51:31.121035Z"
    },
    "trusted": true
   },
   "outputs": [],
   "source": [
    "class LayerNorm(nn.Module):\n",
    "    def __init__(self, emb_dim):\n",
    "        super().__init__()\n",
    "        self.eps = 1e-5\n",
    "        self.scale = nn.Parameter(torch.ones(emb_dim))\n",
    "        self.shift = nn.Parameter(torch.zeros(emb_dim))\n",
    "\n",
    "    def forward(self, x):\n",
    "        mean = x.mean(dim=-1, keepdim=True)\n",
    "        var = x.var(dim=-1, keepdim=True, unbiased=False)\n",
    "        norm_x = (x - mean) / torch.sqrt(var + self.eps)\n",
    "        return self.scale * norm_x + self.shift\n",
    "\n",
    "class GELU(nn.Module):\n",
    "    def __init__(self):\n",
    "        super().__init__()\n",
    "\n",
    "    def forward(self, x):\n",
    "        return 0.5 * x * (1 + torch.tanh(\n",
    "            torch.sqrt(torch.tensor(2.0 / torch.pi)) * \n",
    "            (x + 0.044715 * torch.pow(x, 3))\n",
    "        ))\n",
    "\n",
    "\n",
    "class FeedForward(nn.Module):\n",
    "    def __init__(self, cfg):\n",
    "        super().__init__()\n",
    "        self.layers = nn.Sequential(\n",
    "            nn.Linear(cfg[\"emb_dim\"], 4 * cfg[\"emb_dim\"]), ## Expansion\n",
    "            GELU(), ## Activation\n",
    "            nn.Linear(4 * cfg[\"emb_dim\"], cfg[\"emb_dim\"]), ## Contraction\n",
    "        )\n",
    "\n",
    "    def forward(self, x):\n",
    "        return self.layers(x)"
   ]
  },
  {
   "cell_type": "code",
   "execution_count": 7,
   "metadata": {
    "execution": {
     "iopub.execute_input": "2025-06-17T12:51:31.136949Z",
     "iopub.status.busy": "2025-06-17T12:51:31.136718Z",
     "iopub.status.idle": "2025-06-17T12:51:31.160155Z",
     "shell.execute_reply": "2025-06-17T12:51:31.154167Z",
     "shell.execute_reply.started": "2025-06-17T12:51:31.136927Z"
    },
    "trusted": true
   },
   "outputs": [],
   "source": [
    "class TransformerBlock(nn.Module):\n",
    "    def __init__(self, cfg):\n",
    "        super().__init__()\n",
    "        self.att = MultiHeadAttention(\n",
    "            d_in=cfg[\"emb_dim\"],\n",
    "            d_out=cfg[\"emb_dim\"],\n",
    "            context_length=cfg[\"context_length\"],\n",
    "            num_heads=cfg[\"n_heads\"], \n",
    "            dropout=cfg[\"drop_rate\"],\n",
    "            qkv_bias=cfg[\"qkv_bias\"])\n",
    "        self.ff = FeedForward(cfg)\n",
    "        self.norm1 = LayerNorm(cfg[\"emb_dim\"])\n",
    "        self.norm2 = LayerNorm(cfg[\"emb_dim\"])\n",
    "        self.drop_shortcut = nn.Dropout(cfg[\"drop_rate\"])\n",
    "\n",
    "    def forward(self, x):\n",
    "        # Shortcut connection for attention block\n",
    "        shortcut = x\n",
    "        x = self.norm1(x)\n",
    "        x = self.att(x)  # Shape [batch_size, num_tokens, emb_size]\n",
    "        x = self.drop_shortcut(x)\n",
    "        x = x + shortcut  # Add the original input back\n",
    "\n",
    "        # Shortcut connection for feed forward block\n",
    "        shortcut = x\n",
    "        x = self.norm2(x)\n",
    "        x = self.ff(x)\n",
    "        # 2*4*768\n",
    "        x = self.drop_shortcut(x)\n",
    "        x = x + shortcut  # Add the original input back\n",
    "\n",
    "        return x\n",
    "        # 2*4*768"
   ]
  },
  {
   "cell_type": "code",
   "execution_count": 8,
   "metadata": {
    "execution": {
     "iopub.execute_input": "2025-06-17T12:51:31.161186Z",
     "iopub.status.busy": "2025-06-17T12:51:31.160956Z",
     "iopub.status.idle": "2025-06-17T12:51:32.618049Z",
     "shell.execute_reply": "2025-06-17T12:51:32.611645Z",
     "shell.execute_reply.started": "2025-06-17T12:51:31.161164Z"
    },
    "trusted": true
   },
   "outputs": [],
   "source": [
    "import torch.nn as nn\n",
    "class GPTModel(nn.Module):\n",
    "    def __init__(self, cfg):\n",
    "        super().__init__()\n",
    "        self.tok_emb = nn.Embedding(cfg[\"vocab_size\"], cfg[\"emb_dim\"])\n",
    "        self.pos_emb = nn.Embedding(cfg[\"context_length\"], cfg[\"emb_dim\"])\n",
    "        self.drop_emb = nn.Dropout(cfg[\"drop_rate\"])\n",
    "        \n",
    "        self.trf_blocks = nn.Sequential(\n",
    "            *[TransformerBlock(cfg) for _ in range(cfg[\"n_layers\"])])\n",
    "        \n",
    "        self.final_norm = LayerNorm(cfg[\"emb_dim\"])\n",
    "        self.out_head = nn.Linear(\n",
    "            cfg[\"emb_dim\"], cfg[\"vocab_size\"], bias=False\n",
    "        )\n",
    "\n",
    "    def forward(self, in_idx):\n",
    "        batch_size, seq_len = in_idx.shape\n",
    "        tok_embeds = self.tok_emb(in_idx)\n",
    "        pos_embeds = self.pos_emb(torch.arange(seq_len, device=in_idx.device))\n",
    "        x = tok_embeds + pos_embeds  # Shape [batch_size, num_tokens, emb_size]\n",
    "        x = self.drop_emb(x)\n",
    "        x = self.trf_blocks(x)\n",
    "        x = self.final_norm(x)\n",
    "        logits = self.out_head(x)\n",
    "        return logits\n",
    "\n",
    "torch.manual_seed(123)\n",
    "model = GPTModel(GPT_CONFIG_124M)\n",
    "model.eval();  # Disable dropout during inference"
   ]
  },
  {
   "cell_type": "code",
   "execution_count": 9,
   "metadata": {
    "execution": {
     "iopub.execute_input": "2025-06-17T12:51:38.086904Z",
     "iopub.status.busy": "2025-06-17T12:51:38.086541Z",
     "iopub.status.idle": "2025-06-17T12:51:38.099060Z",
     "shell.execute_reply": "2025-06-17T12:51:38.094530Z",
     "shell.execute_reply.started": "2025-06-17T12:51:38.086871Z"
    },
    "trusted": true
   },
   "outputs": [],
   "source": [
    "def calc_loss_batch(input_batch, target_batch, model, device):\n",
    "    input_batch, target_batch = input_batch.to(device), target_batch.to(device)\n",
    "    logits = model(input_batch)\n",
    "    loss = torch.nn.functional.cross_entropy(logits.flatten(0, 1), target_batch.flatten())\n",
    "    return loss\n",
    "\n",
    "\n",
    "def calc_loss_loader(data_loader, model, device, num_batches=None):\n",
    "    total_loss = 0.\n",
    "    if len(data_loader) == 0:\n",
    "        return float(\"nan\")\n",
    "    elif num_batches is None:\n",
    "        num_batches = len(data_loader)\n",
    "    else:\n",
    "        # Reduce the number of batches to match the total number of batches in the data loader\n",
    "        # if num_batches exceeds the number of batches in the data loader\n",
    "        num_batches = min(num_batches, len(data_loader))\n",
    "    for i, (input_batch, target_batch) in enumerate(data_loader):\n",
    "        if i < num_batches:\n",
    "            loss = calc_loss_batch(input_batch, target_batch, model, device)\n",
    "            total_loss += loss.item()\n",
    "        else:\n",
    "            break\n",
    "    return total_loss / num_batches"
   ]
  },
  {
   "cell_type": "code",
   "execution_count": 10,
   "metadata": {
    "execution": {
     "iopub.execute_input": "2025-06-17T12:51:42.594276Z",
     "iopub.status.busy": "2025-06-17T12:51:42.593895Z",
     "iopub.status.idle": "2025-06-17T12:52:04.767733Z",
     "shell.execute_reply": "2025-06-17T12:52:04.761479Z",
     "shell.execute_reply.started": "2025-06-17T12:51:42.594242Z"
    },
    "trusted": true
   },
   "outputs": [
    {
     "name": "stderr",
     "output_type": "stream",
     "text": [
      "WARNING: Logging before InitGoogle() is written to STDERR\n",
      "E0000 00:00:1750164709.390273      10 common_lib.cc:612] Could not set metric server port: INVALID_ARGUMENT: Could not find SliceBuilder port 8471 in any of the 0 ports provided in `tpu_process_addresses`=\"local\"\n",
      "=== Source Location Trace: ===\n",
      "learning/45eac/tfrc/runtime/common_lib.cc:230\n"
     ]
    }
   ],
   "source": [
    "import os\n",
    "import requests  # Make sure requests is installed\n",
    "import json\n",
    "import numpy as np\n",
    "import tensorflow as tf\n",
    "from tqdm import tqdm\n",
    "\n",
    "def download_and_load_gpt2(model_size, models_dir):\n",
    "    # Validate model size\n",
    "    allowed_sizes = (\"124M\", \"355M\", \"774M\", \"1558M\")\n",
    "    if model_size not in allowed_sizes:\n",
    "        raise ValueError(f\"Model size not in {allowed_sizes}\")\n",
    "\n",
    "    # Define paths\n",
    "    model_dir = os.path.join(models_dir, model_size)\n",
    "    base_url = \"https://openaipublic.blob.core.windows.net/gpt-2/models\"\n",
    "    filenames = [\n",
    "        \"checkpoint\", \"encoder.json\", \"hparams.json\",\n",
    "        \"model.ckpt.data-00000-of-00001\", \"model.ckpt.index\",\n",
    "        \"model.ckpt.meta\", \"vocab.bpe\"\n",
    "    ]\n",
    "\n",
    "    # Download files\n",
    "    os.makedirs(model_dir, exist_ok=True)\n",
    "    for filename in filenames:\n",
    "        file_url = os.path.join(base_url, model_size, filename)\n",
    "        file_path = os.path.join(model_dir, filename)\n",
    "        download_file(file_url, file_path)\n",
    "\n",
    "    ## We have reached here until now ---> we have downloaded the files on our local machine.\n",
    "\n",
    "    # Load settings and params\n",
    "    tf_ckpt_path = tf.train.latest_checkpoint(model_dir)\n",
    "    settings = json.load(open(os.path.join(model_dir, \"hparams.json\")))\n",
    "    params = load_gpt2_params_from_tf_ckpt(tf_ckpt_path, settings)\n",
    "\n",
    "    return settings, params\n",
    "\n",
    "def download_file(url, destination):\n",
    "    try:\n",
    "        # Send a GET request to download the file, disabling SSL verification\n",
    "        response = requests.get(url, stream=True, verify=False)\n",
    "\n",
    "        # Get the total file size from headers, defaulting to 0 if not present\n",
    "        file_size = int(response.headers.get(\"content-length\", 0))\n",
    "\n",
    "        # Check if file exists and has the same size\n",
    "        if os.path.exists(destination):\n",
    "            file_size_local = os.path.getsize(destination)\n",
    "            if file_size == file_size_local:\n",
    "                print(f\"File already exists and is up-to-date: {destination}\")\n",
    "                return\n",
    "\n",
    "        # Define the block size for reading the file\n",
    "        block_size = 1024  # 1 Kilobyte\n",
    "\n",
    "        # Initialize the progress bar with total file size\n",
    "        progress_bar_description = url.split(\"/\")[-1]  # Extract filename from URL\n",
    "        with tqdm(total=file_size, unit=\"iB\", unit_scale=True, desc=progress_bar_description) as progress_bar:\n",
    "            # Open the destination file in binary write mode\n",
    "            with open(destination, \"wb\") as file:\n",
    "                # Iterate over the file data in chunks\n",
    "                for chunk in response.iter_content(block_size):\n",
    "                    progress_bar.update(len(chunk))  # Update progress bar\n",
    "                    file.write(chunk)  # Write the chunk to the file\n",
    "\n",
    "    except requests.exceptions.RequestException as e:\n",
    "        print(f\"Error downloading the file: {e}\")\n",
    "        print(f\"Please check the URL: {url}\")\n",
    "\n",
    "def load_gpt2_params_from_tf_ckpt(ckpt_path, settings):\n",
    "    # Initialize parameters dictionary with empty blocks for each layer\n",
    "    params = {\"blocks\": [{} for _ in range(settings[\"n_layer\"])]}\n",
    "\n",
    "    # Iterate over each variable in the checkpoint\n",
    "    for name, _ in tf.train.list_variables(ckpt_path):\n",
    "        # Load the variable and remove singleton dimensions\n",
    "        variable_array = np.squeeze(tf.train.load_variable(ckpt_path, name))\n",
    "\n",
    "        # Process the variable name to extract relevant parts\n",
    "        variable_name_parts = name.split(\"/\")[1:]  # Skip the 'model/' prefix\n",
    "\n",
    "        # Identify the target dictionary for the variable\n",
    "        target_dict = params\n",
    "        if variable_name_parts[0].startswith(\"h\"):\n",
    "            layer_number = int(variable_name_parts[0][1:])\n",
    "            target_dict = params[\"blocks\"][layer_number]\n",
    "\n",
    "        # Recursively access or create nested dictionaries\n",
    "        for key in variable_name_parts[1:-1]:\n",
    "            target_dict = target_dict.setdefault(key, {})\n",
    "\n",
    "        # Assign the variable array to the last key\n",
    "        last_key = variable_name_parts[-1]\n",
    "        target_dict[last_key] = variable_array\n",
    "\n",
    "    return params\n"
   ]
  },
  {
   "cell_type": "code",
   "execution_count": 11,
   "metadata": {
    "execution": {
     "iopub.execute_input": "2025-06-17T12:52:04.770589Z",
     "iopub.status.busy": "2025-06-17T12:52:04.770043Z",
     "iopub.status.idle": "2025-06-17T12:52:04.780326Z",
     "shell.execute_reply": "2025-06-17T12:52:04.775257Z",
     "shell.execute_reply.started": "2025-06-17T12:52:04.770556Z"
    },
    "trusted": true
   },
   "outputs": [],
   "source": [
    "def assign(left, right):\n",
    "    if left.shape != right.shape:\n",
    "        raise ValueError(f\"Shape mismatch. Left: {left.shape}, Right: {right.shape}\")\n",
    "    return torch.nn.Parameter(torch.tensor(right))"
   ]
  },
  {
   "cell_type": "code",
   "execution_count": 12,
   "metadata": {
    "execution": {
     "iopub.execute_input": "2025-06-17T12:52:14.731993Z",
     "iopub.status.busy": "2025-06-17T12:52:14.731652Z",
     "iopub.status.idle": "2025-06-17T12:52:14.751674Z",
     "shell.execute_reply": "2025-06-17T12:52:14.747860Z",
     "shell.execute_reply.started": "2025-06-17T12:52:14.731964Z"
    },
    "trusted": true
   },
   "outputs": [],
   "source": [
    "import numpy as np\n",
    "\n",
    "def load_weights_into_gpt(gpt, params):\n",
    "    gpt.pos_emb.weight = assign(gpt.pos_emb.weight, params['wpe'])\n",
    "    gpt.tok_emb.weight = assign(gpt.tok_emb.weight, params['wte'])\n",
    "\n",
    "    for b in range(len(params[\"blocks\"])):\n",
    "        q_w, k_w, v_w = np.split(\n",
    "            (params[\"blocks\"][b][\"attn\"][\"c_attn\"])[\"w\"], 3, axis=-1)\n",
    "        gpt.trf_blocks[b].att.W_query.weight = assign(\n",
    "            gpt.trf_blocks[b].att.W_query.weight, q_w.T)\n",
    "        gpt.trf_blocks[b].att.W_key.weight = assign(\n",
    "            gpt.trf_blocks[b].att.W_key.weight, k_w.T)\n",
    "        gpt.trf_blocks[b].att.W_value.weight = assign(\n",
    "            gpt.trf_blocks[b].att.W_value.weight, v_w.T)\n",
    "\n",
    "        q_b, k_b, v_b = np.split(\n",
    "            (params[\"blocks\"][b][\"attn\"][\"c_attn\"])[\"b\"], 3, axis=-1)\n",
    "        gpt.trf_blocks[b].att.W_query.bias = assign(\n",
    "            gpt.trf_blocks[b].att.W_query.bias, q_b)\n",
    "        gpt.trf_blocks[b].att.W_key.bias = assign(\n",
    "            gpt.trf_blocks[b].att.W_key.bias, k_b)\n",
    "        gpt.trf_blocks[b].att.W_value.bias = assign(\n",
    "            gpt.trf_blocks[b].att.W_value.bias, v_b)\n",
    "\n",
    "        gpt.trf_blocks[b].att.out_proj.weight = assign(\n",
    "            gpt.trf_blocks[b].att.out_proj.weight,\n",
    "            params[\"blocks\"][b][\"attn\"][\"c_proj\"][\"w\"].T)\n",
    "        gpt.trf_blocks[b].att.out_proj.bias = assign(\n",
    "            gpt.trf_blocks[b].att.out_proj.bias,\n",
    "            params[\"blocks\"][b][\"attn\"][\"c_proj\"][\"b\"])\n",
    "\n",
    "        gpt.trf_blocks[b].ff.layers[0].weight = assign(\n",
    "            gpt.trf_blocks[b].ff.layers[0].weight,\n",
    "            params[\"blocks\"][b][\"mlp\"][\"c_fc\"][\"w\"].T)\n",
    "        gpt.trf_blocks[b].ff.layers[0].bias = assign(\n",
    "            gpt.trf_blocks[b].ff.layers[0].bias,\n",
    "            params[\"blocks\"][b][\"mlp\"][\"c_fc\"][\"b\"])\n",
    "        gpt.trf_blocks[b].ff.layers[2].weight = assign(\n",
    "            gpt.trf_blocks[b].ff.layers[2].weight,\n",
    "            params[\"blocks\"][b][\"mlp\"][\"c_proj\"][\"w\"].T)\n",
    "        gpt.trf_blocks[b].ff.layers[2].bias = assign(\n",
    "            gpt.trf_blocks[b].ff.layers[2].bias,\n",
    "            params[\"blocks\"][b][\"mlp\"][\"c_proj\"][\"b\"])\n",
    "\n",
    "        gpt.trf_blocks[b].norm1.scale = assign(\n",
    "            gpt.trf_blocks[b].norm1.scale,\n",
    "            params[\"blocks\"][b][\"ln_1\"][\"g\"])\n",
    "        gpt.trf_blocks[b].norm1.shift = assign(\n",
    "            gpt.trf_blocks[b].norm1.shift,\n",
    "            params[\"blocks\"][b][\"ln_1\"][\"b\"])\n",
    "        gpt.trf_blocks[b].norm2.scale = assign(\n",
    "            gpt.trf_blocks[b].norm2.scale,\n",
    "            params[\"blocks\"][b][\"ln_2\"][\"g\"])\n",
    "        gpt.trf_blocks[b].norm2.shift = assign(\n",
    "            gpt.trf_blocks[b].norm2.shift,\n",
    "            params[\"blocks\"][b][\"ln_2\"][\"b\"])\n",
    "\n",
    "    gpt.final_norm.scale = assign(gpt.final_norm.scale, params[\"g\"])\n",
    "    gpt.final_norm.shift = assign(gpt.final_norm.shift, params[\"b\"])\n",
    "    gpt.out_head.weight = assign(gpt.out_head.weight, params[\"wte\"])"
   ]
  },
  {
   "cell_type": "code",
   "execution_count": 13,
   "metadata": {
    "execution": {
     "iopub.execute_input": "2025-06-17T12:52:21.923841Z",
     "iopub.status.busy": "2025-06-17T12:52:21.923495Z",
     "iopub.status.idle": "2025-06-17T12:52:21.937723Z",
     "shell.execute_reply": "2025-06-17T12:52:21.932635Z",
     "shell.execute_reply.started": "2025-06-17T12:52:21.923812Z"
    },
    "trusted": true
   },
   "outputs": [],
   "source": [
    "def generate(model, idx, max_new_tokens, context_size, temperature=0.0, top_k=None, eos_id=None):\n",
    "\n",
    "    # For-loop is the same as before: Get logits, and only focus on last time step\n",
    "    for _ in range(max_new_tokens):\n",
    "        idx_cond = idx[:, -context_size:]\n",
    "        with torch.no_grad():\n",
    "            logits = model(idx_cond)\n",
    "        logits = logits[:, -1, :]\n",
    "\n",
    "        # New: Filter logits with top_k sampling\n",
    "        if top_k is not None:\n",
    "            # Keep only top_k values\n",
    "            top_logits, _ = torch.topk(logits, top_k)\n",
    "            min_val = top_logits[:, -1]\n",
    "            logits = torch.where(logits < min_val, torch.tensor(float(\"-inf\")).to(logits.device), logits)\n",
    "\n",
    "        # New: Apply temperature scaling\n",
    "        if temperature > 0.0:\n",
    "            logits = logits / temperature\n",
    "\n",
    "            # Apply softmax to get probabilities\n",
    "            probs = torch.softmax(logits, dim=-1)  # (batch_size, context_len)\n",
    "\n",
    "            # Sample from the distribution\n",
    "            idx_next = torch.multinomial(probs, num_samples=1)  # (batch_size, 1)\n",
    "\n",
    "        # Otherwise same as before: get idx of the vocab entry with the highest logits value\n",
    "        else:\n",
    "            idx_next = torch.argmax(logits, dim=-1, keepdim=True)  # (batch_size, 1)\n",
    "\n",
    "        if idx_next == eos_id:  # Stop generating early if end-of-sequence token is encountered and eos_id is specified\n",
    "            break\n",
    "\n",
    "        # Same as before: append sampled index to the running sequence\n",
    "        idx = torch.cat((idx, idx_next), dim=1)  # (batch_size, num_tokens+1)\n",
    "\n",
    "    return idx"
   ]
  },
  {
   "cell_type": "code",
   "execution_count": 14,
   "metadata": {
    "execution": {
     "iopub.execute_input": "2025-06-17T12:52:24.991091Z",
     "iopub.status.busy": "2025-06-17T12:52:24.990711Z",
     "iopub.status.idle": "2025-06-17T12:52:28.564734Z",
     "shell.execute_reply": "2025-06-17T12:52:28.558050Z",
     "shell.execute_reply.started": "2025-06-17T12:52:24.991057Z"
    },
    "trusted": true
   },
   "outputs": [
    {
     "name": "stdout",
     "output_type": "stream",
     "text": [
      "Requirement already satisfied: tiktoken in /usr/local/lib/python3.10/site-packages (0.9.0)\n",
      "Requirement already satisfied: regex>=2022.1.18 in /usr/local/lib/python3.10/site-packages (from tiktoken) (2024.11.6)\n",
      "Requirement already satisfied: requests>=2.26.0 in /usr/local/lib/python3.10/site-packages (from tiktoken) (2.32.3)\n",
      "Requirement already satisfied: certifi>=2017.4.17 in /usr/local/lib/python3.10/site-packages (from requests>=2.26.0->tiktoken) (2025.4.26)\n",
      "Requirement already satisfied: charset-normalizer<4,>=2 in /usr/local/lib/python3.10/site-packages (from requests>=2.26.0->tiktoken) (3.4.2)\n",
      "Requirement already satisfied: idna<4,>=2.5 in /usr/local/lib/python3.10/site-packages (from requests>=2.26.0->tiktoken) (3.10)\n",
      "Requirement already satisfied: urllib3<3,>=1.21.1 in /usr/local/lib/python3.10/site-packages (from requests>=2.26.0->tiktoken) (2.4.0)\n",
      "\u001b[33mWARNING: Running pip as the 'root' user can result in broken permissions and conflicting behaviour with the system package manager. It is recommended to use a virtual environment instead: https://pip.pypa.io/warnings/venv\u001b[0m\u001b[33m\n",
      "\u001b[0m\n",
      "\u001b[1m[\u001b[0m\u001b[34;49mnotice\u001b[0m\u001b[1;39;49m]\u001b[0m\u001b[39;49m A new release of pip is available: \u001b[0m\u001b[31;49m23.0.1\u001b[0m\u001b[39;49m -> \u001b[0m\u001b[32;49m25.1.1\u001b[0m\n",
      "\u001b[1m[\u001b[0m\u001b[34;49mnotice\u001b[0m\u001b[1;39;49m]\u001b[0m\u001b[39;49m To update, run: \u001b[0m\u001b[32;49mpip install --upgrade pip\u001b[0m\n"
     ]
    }
   ],
   "source": [
    "torch.manual_seed(123)\n",
    "# !pip install tiktoken\n",
    "import tiktoken\n",
    "tokenizer= tiktoken.get_encoding(\"gpt2\")\n",
    "def text_to_token_ids(text, tokenizer):\n",
    "    encoded = tokenizer.encode(text, allowed_special={'<|endoftext|>'})\n",
    "    encoded_tensor = torch.tensor(encoded).unsqueeze(0) # add batch dimension\n",
    "    return encoded_tensor\n",
    "\n",
    "def token_ids_to_text(token_ids, tokenizer):\n",
    "    flat = token_ids.squeeze(0) # remove batch dimension\n",
    "    return tokenizer.decode(flat.tolist())"
   ]
  },
  {
   "cell_type": "code",
   "execution_count": 16,
   "metadata": {
    "execution": {
     "iopub.execute_input": "2025-06-17T12:52:38.500165Z",
     "iopub.status.busy": "2025-06-17T12:52:38.499758Z",
     "iopub.status.idle": "2025-06-17T12:52:38.511781Z",
     "shell.execute_reply": "2025-06-17T12:52:38.508001Z",
     "shell.execute_reply.started": "2025-06-17T12:52:38.500133Z"
    },
    "trusted": true
   },
   "outputs": [],
   "source": [
    "CHOOSE_MODEL = \"gpt2-small (124M)\"\n",
    "INPUT_PROMPT = \"Every effort moves\"\n",
    "\n",
    "BASE_CONFIG = {\n",
    "    \"vocab_size\": 50257,     # Vocabulary size\n",
    "    \"context_length\": 1024,  # Context length\n",
    "    \"drop_rate\": 0.0,        # Dropout rate\n",
    "    \"qkv_bias\": True         # Query-key-value bias\n",
    "}\n",
    "\n",
    "model_configs = {\n",
    "    \"gpt2-small (124M)\": {\"emb_dim\": 768, \"n_layers\": 12, \"n_heads\": 12},\n",
    "    \"gpt2-medium (355M)\": {\"emb_dim\": 1024, \"n_layers\": 24, \"n_heads\": 16},\n",
    "    \"gpt2-large (774M)\": {\"emb_dim\": 1280, \"n_layers\": 36, \"n_heads\": 20},\n",
    "    \"gpt2-xl (1558M)\": {\"emb_dim\": 1600, \"n_layers\": 48, \"n_heads\": 25},\n",
    "}\n",
    "\n",
    "BASE_CONFIG.update(model_configs[CHOOSE_MODEL])\n",
    "\n"
   ]
  },
  {
   "cell_type": "code",
   "execution_count": 17,
   "metadata": {
    "execution": {
     "iopub.execute_input": "2025-06-17T12:52:49.611458Z",
     "iopub.status.busy": "2025-06-17T12:52:49.611044Z",
     "iopub.status.idle": "2025-06-17T12:54:45.340395Z",
     "shell.execute_reply": "2025-06-17T12:54:45.334880Z",
     "shell.execute_reply.started": "2025-06-17T12:52:49.611424Z"
    },
    "trusted": true
   },
   "outputs": [
    {
     "name": "stderr",
     "output_type": "stream",
     "text": [
      "/usr/local/lib/python3.10/site-packages/urllib3/connectionpool.py:1097: InsecureRequestWarning: Unverified HTTPS request is being made to host 'openaipublic.blob.core.windows.net'. Adding certificate verification is strongly advised. See: https://urllib3.readthedocs.io/en/latest/advanced-usage.html#tls-warnings\n",
      "  warnings.warn(\n",
      "checkpoint: 100%|██████████| 77.0/77.0 [00:00<00:00, 100kiB/s]\n",
      "/usr/local/lib/python3.10/site-packages/urllib3/connectionpool.py:1097: InsecureRequestWarning: Unverified HTTPS request is being made to host 'openaipublic.blob.core.windows.net'. Adding certificate verification is strongly advised. See: https://urllib3.readthedocs.io/en/latest/advanced-usage.html#tls-warnings\n",
      "  warnings.warn(\n",
      "encoder.json: 100%|██████████| 1.04M/1.04M [00:01<00:00, 958kiB/s]\n",
      "/usr/local/lib/python3.10/site-packages/urllib3/connectionpool.py:1097: InsecureRequestWarning: Unverified HTTPS request is being made to host 'openaipublic.blob.core.windows.net'. Adding certificate verification is strongly advised. See: https://urllib3.readthedocs.io/en/latest/advanced-usage.html#tls-warnings\n",
      "  warnings.warn(\n",
      "hparams.json: 100%|██████████| 90.0/90.0 [00:00<00:00, 90.3kiB/s]\n",
      "/usr/local/lib/python3.10/site-packages/urllib3/connectionpool.py:1097: InsecureRequestWarning: Unverified HTTPS request is being made to host 'openaipublic.blob.core.windows.net'. Adding certificate verification is strongly advised. See: https://urllib3.readthedocs.io/en/latest/advanced-usage.html#tls-warnings\n",
      "  warnings.warn(\n",
      "model.ckpt.data-00000-of-00001: 100%|██████████| 498M/498M [01:47<00:00, 4.65MiB/s] \n",
      "/usr/local/lib/python3.10/site-packages/urllib3/connectionpool.py:1097: InsecureRequestWarning: Unverified HTTPS request is being made to host 'openaipublic.blob.core.windows.net'. Adding certificate verification is strongly advised. See: https://urllib3.readthedocs.io/en/latest/advanced-usage.html#tls-warnings\n",
      "  warnings.warn(\n",
      "model.ckpt.index: 100%|██████████| 5.21k/5.21k [00:00<00:00, 6.26MiB/s]\n",
      "/usr/local/lib/python3.10/site-packages/urllib3/connectionpool.py:1097: InsecureRequestWarning: Unverified HTTPS request is being made to host 'openaipublic.blob.core.windows.net'. Adding certificate verification is strongly advised. See: https://urllib3.readthedocs.io/en/latest/advanced-usage.html#tls-warnings\n",
      "  warnings.warn(\n",
      "model.ckpt.meta: 100%|██████████| 471k/471k [00:00<00:00, 643kiB/s] \n",
      "/usr/local/lib/python3.10/site-packages/urllib3/connectionpool.py:1097: InsecureRequestWarning: Unverified HTTPS request is being made to host 'openaipublic.blob.core.windows.net'. Adding certificate verification is strongly advised. See: https://urllib3.readthedocs.io/en/latest/advanced-usage.html#tls-warnings\n",
      "  warnings.warn(\n",
      "vocab.bpe: 100%|██████████| 456k/456k [00:00<00:00, 625kiB/s] \n"
     ]
    }
   ],
   "source": [
    "model_size = CHOOSE_MODEL.split(\" \")[-1].lstrip(\"(\").rstrip(\")\")\n",
    "settings, params = download_and_load_gpt2(model_size=model_size, models_dir=\"gpt2\")\n",
    "\n",
    "model = GPTModel(BASE_CONFIG)\n",
    "load_weights_into_gpt(model, params)\n",
    "model.eval();"
   ]
  },
  {
   "cell_type": "code",
   "execution_count": 18,
   "metadata": {
    "execution": {
     "iopub.execute_input": "2025-06-17T12:54:47.933883Z",
     "iopub.status.busy": "2025-06-17T12:54:47.933567Z",
     "iopub.status.idle": "2025-06-17T12:54:50.241378Z",
     "shell.execute_reply": "2025-06-17T12:54:50.237515Z",
     "shell.execute_reply.started": "2025-06-17T12:54:47.933856Z"
    },
    "trusted": true
   },
   "outputs": [
    {
     "name": "stdout",
     "output_type": "stream",
     "text": [
      "to be successful you need to be able to get the job done.\n",
      "\n",
      "The best way to do this is to get a job that is open to all.\n",
      "\n",
      "The best way to do this is to get a job that is open to all. The best way to\n"
     ]
    }
   ],
   "source": [
    "text_1 = \"to be successful you need to\"\n",
    "def generate_text_simple(model, idx, max_new_tokens, context_size):\n",
    "    # idx is (batch, n_tokens) array of indices in the current context\n",
    "\n",
    "    ###Input batch:\n",
    " ###tensor([[6109, 3626, 6100,  345],\n",
    "        ##[6109, 1110, 6622,  257]])\n",
    "\n",
    "    for _ in range(max_new_tokens):\n",
    "\n",
    "        # Crop current context if it exceeds the supported context size\n",
    "        # E.g., if LLM supports only 5 tokens, and the context size is 10\n",
    "        # then only the last 5 tokens are used as context\n",
    "        idx_cond = idx[:, -context_size:]\n",
    "\n",
    "        # Get the predictions\n",
    "        with torch.no_grad():\n",
    "            logits = model(idx_cond) ### batch, n_tokens, vocab_size\n",
    "\n",
    "        # Focus only on the last time step\n",
    "        # (batch, n_tokens, vocab_size) becomes (batch, vocab_size)\n",
    "        logits = logits[:, -1, :]\n",
    "\n",
    "        # Apply softmax to get probabilities\n",
    "        probas = torch.softmax(logits, dim=-1)  # (batch, vocab_size)\n",
    "\n",
    "        # Get the idx of the vocab entry with the highest probability value\n",
    "        idx_next = torch.argmax(probas, dim=-1, keepdim=True)  # (batch, 1)\n",
    "\n",
    "        # Append sampled index to the running sequence\n",
    "        idx = torch.cat((idx, idx_next), dim=1)  # (batch, n_tokens+1)\n",
    "\n",
    "    return idx\n",
    "token_ids = generate_text_simple(\n",
    "    model=model,\n",
    "    idx=text_to_token_ids(text_1, tokenizer),\n",
    "    max_new_tokens=50,\n",
    "    context_size=BASE_CONFIG[\"context_length\"]\n",
    ")\n",
    "\n",
    "print(token_ids_to_text(token_ids, tokenizer))"
   ]
  },
  {
   "cell_type": "code",
   "execution_count": 19,
   "metadata": {
    "execution": {
     "iopub.execute_input": "2025-06-17T12:54:54.314510Z",
     "iopub.status.busy": "2025-06-17T12:54:54.313970Z",
     "iopub.status.idle": "2025-06-17T12:54:54.666849Z",
     "shell.execute_reply": "2025-06-17T12:54:54.660826Z",
     "shell.execute_reply.started": "2025-06-17T12:54:54.314449Z"
    },
    "trusted": true
   },
   "outputs": [
    {
     "name": "stderr",
     "output_type": "stream",
     "text": [
      "/usr/local/lib/python3.10/site-packages/tqdm/auto.py:21: TqdmWarning: IProgress not found. Please update jupyter and ipywidgets. See https://ipywidgets.readthedocs.io/en/stable/user_install.html\n",
      "  from .autonotebook import tqdm as notebook_tqdm\n"
     ]
    },
    {
     "name": "stdout",
     "output_type": "stream",
     "text": [
      "Path to dataset files: /kaggle/input/emotion-dataset\n"
     ]
    }
   ],
   "source": [
    "import kagglehub\n",
    "\n",
    "# Download latest version\n",
    "path = kagglehub.dataset_download(\"parulpandey/emotion-dataset\")\n",
    "\n",
    "print(\"Path to dataset files:\", path)\n",
    "# Path to dataset files: /kaggle/input/emotion-dataset"
   ]
  },
  {
   "cell_type": "code",
   "execution_count": 20,
   "metadata": {
    "execution": {
     "iopub.execute_input": "2025-06-17T12:54:59.227092Z",
     "iopub.status.busy": "2025-06-17T12:54:59.226791Z",
     "iopub.status.idle": "2025-06-17T12:54:59.264807Z",
     "shell.execute_reply": "2025-06-17T12:54:59.260332Z",
     "shell.execute_reply.started": "2025-06-17T12:54:59.227066Z"
    },
    "trusted": true
   },
   "outputs": [
    {
     "name": "stdout",
     "output_type": "stream",
     "text": [
      "                                                   Text Label\n",
      "1     im feeling rather rotten so im not very ambiti...     0\n",
      "2             im updating my blog because i feel shitty     0\n",
      "3     i never make her separate from me because i do...     0\n",
      "4     i left with my bouquet of red and yellow tulip...     1\n",
      "5       i was feeling a little vain when i did this one     0\n",
      "...                                                 ...   ...\n",
      "1996  i just keep feeling like someone is being unki...     3\n",
      "1997  im feeling a little cranky negative after this...     3\n",
      "1998  i feel that i am useful to my people and that ...     1\n",
      "1999  im feeling more comfortable with derby i feel ...     1\n",
      "2000  i feel all weird when i have to meet w people ...     4\n",
      "\n",
      "[2000 rows x 2 columns]\n"
     ]
    }
   ],
   "source": [
    "import pandas as pd\n",
    "\n",
    "test_df = pd.read_csv(path+\"/test.csv\", header=None,names=['Text','Label'],index_col=False)\n",
    "test_df=test_df.drop(0)\n",
    "print(test_df)"
   ]
  },
  {
   "cell_type": "code",
   "execution_count": 21,
   "metadata": {
    "execution": {
     "iopub.execute_input": "2025-06-17T12:55:03.163353Z",
     "iopub.status.busy": "2025-06-17T12:55:03.163017Z",
     "iopub.status.idle": "2025-06-17T12:55:03.233804Z",
     "shell.execute_reply": "2025-06-17T12:55:03.229251Z",
     "shell.execute_reply.started": "2025-06-17T12:55:03.163325Z"
    },
    "trusted": true
   },
   "outputs": [],
   "source": [
    "train_df=pd.read_csv(path+\"/training.csv\", header=None, names=[\"Text\", \"Label\"],index_col=False)\n",
    "validation_df=pd.read_csv(path+\"/validation.csv\", header=None, names=[\"Text\", \"Label\"],index_col=False)"
   ]
  },
  {
   "cell_type": "code",
   "execution_count": 22,
   "metadata": {
    "execution": {
     "iopub.execute_input": "2025-06-17T12:55:07.534988Z",
     "iopub.status.busy": "2025-06-17T12:55:07.534671Z",
     "iopub.status.idle": "2025-06-17T12:55:07.548258Z",
     "shell.execute_reply": "2025-06-17T12:55:07.543679Z",
     "shell.execute_reply.started": "2025-06-17T12:55:07.534960Z"
    },
    "trusted": true
   },
   "outputs": [],
   "source": [
    "# train_df=train_df.drop(0)\n",
    "# validation_df=validation_df.drop(0)   //uncomment this line initially . then run . later uncomment "
   ]
  },
  {
   "cell_type": "code",
   "execution_count": 23,
   "metadata": {
    "execution": {
     "iopub.execute_input": "2025-06-17T12:55:15.068794Z",
     "iopub.status.busy": "2025-06-17T12:55:15.068519Z",
     "iopub.status.idle": "2025-06-17T12:55:15.078196Z",
     "shell.execute_reply": "2025-06-17T12:55:15.073750Z",
     "shell.execute_reply.started": "2025-06-17T12:55:15.068770Z"
    },
    "trusted": true
   },
   "outputs": [],
   "source": [
    "# train_df\n",
    "# validation_df\n",
    "labels={\n",
    "    0:\"sadness\",\n",
    "    1:\"joy\",\n",
    "    2:\"love\",\n",
    "    3:\"anger\",\n",
    "    4:\"fear\",\n",
    "    5: \"surprise\"\n",
    "}\n",
    "# print()"
   ]
  },
  {
   "cell_type": "code",
   "execution_count": 24,
   "metadata": {
    "execution": {
     "iopub.execute_input": "2025-06-17T12:55:19.214170Z",
     "iopub.status.busy": "2025-06-17T12:55:19.213849Z",
     "iopub.status.idle": "2025-06-17T12:55:19.229095Z",
     "shell.execute_reply": "2025-06-17T12:55:19.224598Z",
     "shell.execute_reply.started": "2025-06-17T12:55:19.214144Z"
    },
    "trusted": true
   },
   "outputs": [],
   "source": [
    "import torch\n",
    "from torch.utils.data import Dataset\n",
    "\n",
    "\n",
    "class EmotionDataset(Dataset):\n",
    "    def __init__(self, csv_file, tokenizer, max_length=None, pad_token_id=50256):\n",
    "        self.data = pd.read_csv(csv_file)\n",
    "        # print(self.data)\n",
    "        # Pre-tokenize texts\n",
    "        self.encoded_texts = [\n",
    "            tokenizer.encode(text) for text in self.data[\"text\"]\n",
    "        ]\n",
    "\n",
    "        if max_length is None:\n",
    "            self.max_length = self._longest_encoded_length()\n",
    "        else:\n",
    "            self.max_length = max_length\n",
    "            # Truncate sequences if they are longer than max_length\n",
    "            self.encoded_texts = [\n",
    "                encoded_text[:self.max_length]\n",
    "                for encoded_text in self.encoded_texts\n",
    "            ]\n",
    "\n",
    "        # Pad sequences to the longest sequence\n",
    "        self.encoded_texts = [\n",
    "            encoded_text + [pad_token_id] * (self.max_length - len(encoded_text))\n",
    "            for encoded_text in self.encoded_texts\n",
    "        ]\n",
    "\n",
    "    def __getitem__(self, index):\n",
    "        encoded = self.encoded_texts[index]\n",
    "        label = self.data.iloc[index][\"label\"]\n",
    "        return (\n",
    "            torch.tensor(encoded, dtype=torch.long),\n",
    "            torch.tensor(label, dtype=torch.long)\n",
    "        )\n",
    "\n",
    "    def __len__(self):\n",
    "        return len(self.data)\n",
    "\n",
    "    def _longest_encoded_length(self):\n",
    "        max_length = 0\n",
    "        for encoded_text in self.encoded_texts:\n",
    "            encoded_length = len(encoded_text)\n",
    "            if encoded_length > max_length:\n",
    "                max_length = encoded_length\n",
    "        return max_length"
   ]
  },
  {
   "cell_type": "code",
   "execution_count": 25,
   "metadata": {
    "execution": {
     "iopub.execute_input": "2025-06-17T12:55:23.158405Z",
     "iopub.status.busy": "2025-06-17T12:55:23.158093Z",
     "iopub.status.idle": "2025-06-17T12:55:23.876827Z",
     "shell.execute_reply": "2025-06-17T12:55:23.873041Z",
     "shell.execute_reply.started": "2025-06-17T12:55:23.158381Z"
    },
    "trusted": true
   },
   "outputs": [],
   "source": [
    "train_dataset = EmotionDataset(\n",
    "    csv_file=path+\"/training.csv\",\n",
    "    max_length=None,\n",
    "    tokenizer=tokenizer\n",
    ")\n",
    "\n",
    "# print(train_dataset.max_length)\n",
    "val_dataset = EmotionDataset(\n",
    "    csv_file=path+\"/validation.csv\",\n",
    "    max_length=train_dataset.max_length,\n",
    "    tokenizer=tokenizer\n",
    ")\n",
    "test_dataset = EmotionDataset(\n",
    "    csv_file=path+\"/test.csv\",\n",
    "    max_length=train_dataset.max_length,\n",
    "    tokenizer=tokenizer\n",
    ")"
   ]
  },
  {
   "cell_type": "code",
   "execution_count": 26,
   "metadata": {
    "execution": {
     "iopub.execute_input": "2025-06-17T12:55:25.422272Z",
     "iopub.status.busy": "2025-06-17T12:55:25.421956Z",
     "iopub.status.idle": "2025-06-17T12:55:25.438327Z",
     "shell.execute_reply": "2025-06-17T12:55:25.432423Z",
     "shell.execute_reply.started": "2025-06-17T12:55:25.422247Z"
    },
    "trusted": true
   },
   "outputs": [],
   "source": [
    "from torch.utils.data import DataLoader\n",
    "\n",
    "num_workers = 0\n",
    "batch_size = 8\n",
    "\n",
    "torch.manual_seed(123)\n",
    "\n",
    "train_loader = DataLoader(\n",
    "    dataset=train_dataset,\n",
    "    batch_size=batch_size,\n",
    "    shuffle=True,\n",
    "    num_workers=num_workers,\n",
    "    drop_last=True,\n",
    ")\n",
    "\n",
    "val_loader = DataLoader(\n",
    "    dataset=val_dataset,\n",
    "    batch_size=batch_size,\n",
    "    num_workers=num_workers,\n",
    "    drop_last=False,\n",
    ")\n",
    "\n",
    "test_loader = DataLoader(\n",
    "    dataset=test_dataset,\n",
    "    batch_size=batch_size,\n",
    "    num_workers=num_workers,\n",
    "    drop_last=False,\n",
    ")"
   ]
  },
  {
   "cell_type": "code",
   "execution_count": 27,
   "metadata": {
    "execution": {
     "iopub.execute_input": "2025-06-17T12:55:28.222586Z",
     "iopub.status.busy": "2025-06-17T12:55:28.222308Z",
     "iopub.status.idle": "2025-06-17T12:55:28.232423Z",
     "shell.execute_reply": "2025-06-17T12:55:28.228353Z",
     "shell.execute_reply.started": "2025-06-17T12:55:28.222563Z"
    },
    "trusted": true
   },
   "outputs": [],
   "source": [
    "for param in model.parameters():\n",
    "    param.requires_grad = False"
   ]
  },
  {
   "cell_type": "code",
   "execution_count": 28,
   "metadata": {
    "execution": {
     "iopub.execute_input": "2025-06-17T12:55:29.781508Z",
     "iopub.status.busy": "2025-06-17T12:55:29.781237Z",
     "iopub.status.idle": "2025-06-17T12:55:29.793681Z",
     "shell.execute_reply": "2025-06-17T12:55:29.789666Z",
     "shell.execute_reply.started": "2025-06-17T12:55:29.781484Z"
    },
    "trusted": true
   },
   "outputs": [],
   "source": [
    "torch.manual_seed(123)\n",
    "num_classes = 6\n",
    "model.out_head = torch.nn.Linear(in_features=BASE_CONFIG[\"emb_dim\"], out_features=num_classes)"
   ]
  },
  {
   "cell_type": "code",
   "execution_count": 32,
   "metadata": {
    "execution": {
     "iopub.execute_input": "2025-06-17T12:56:25.617796Z",
     "iopub.status.busy": "2025-06-17T12:56:25.617494Z",
     "iopub.status.idle": "2025-06-17T12:56:25.628908Z",
     "shell.execute_reply": "2025-06-17T12:56:25.623778Z",
     "shell.execute_reply.started": "2025-06-17T12:56:25.617772Z"
    },
    "trusted": true
   },
   "outputs": [],
   "source": [
    "for param in model.trf_blocks[-1].parameters():\n",
    "    param.requires_grad = True\n",
    "for param in model.trf_blocks[-2].parameters():\n",
    "    param.requires_grad= True\n",
    "for param in model.final_norm.parameters():\n",
    "    param.requires_grad = True"
   ]
  },
  {
   "cell_type": "code",
   "execution_count": 33,
   "metadata": {
    "execution": {
     "iopub.execute_input": "2025-06-17T12:56:28.135809Z",
     "iopub.status.busy": "2025-06-17T12:56:28.135527Z",
     "iopub.status.idle": "2025-06-17T12:56:28.153042Z",
     "shell.execute_reply": "2025-06-17T12:56:28.148498Z",
     "shell.execute_reply.started": "2025-06-17T12:56:28.135786Z"
    },
    "trusted": true
   },
   "outputs": [
    {
     "name": "stdout",
     "output_type": "stream",
     "text": [
      "Inputs: tensor([[5211,  345,  423,  640]])\n",
      "Inputs dimensions: torch.Size([1, 4])\n"
     ]
    }
   ],
   "source": [
    "inputs = tokenizer.encode(\"Do you have time\")\n",
    "inputs = torch.tensor(inputs).unsqueeze(0)\n",
    "print(\"Inputs:\", inputs)\n",
    "print(\"Inputs dimensions:\", inputs.shape) # shape: (batch_size, num_tokens)"
   ]
  },
  {
   "cell_type": "code",
   "execution_count": 34,
   "metadata": {
    "execution": {
     "iopub.execute_input": "2025-06-17T12:56:30.732422Z",
     "iopub.status.busy": "2025-06-17T12:56:30.732090Z",
     "iopub.status.idle": "2025-06-17T12:56:30.774414Z",
     "shell.execute_reply": "2025-06-17T12:56:30.767462Z",
     "shell.execute_reply.started": "2025-06-17T12:56:30.732394Z"
    },
    "trusted": true
   },
   "outputs": [
    {
     "name": "stdout",
     "output_type": "stream",
     "text": [
      "Outputs:\n",
      " tensor([[[-1.5866e+00,  9.8504e-01, -9.2044e-04, -4.1590e-01, -8.9661e-02,\n",
      "          -1.0322e+00],\n",
      "         [-3.7246e+00,  7.4495e+00,  2.2074e+00,  4.1226e-02,  2.2660e+00,\n",
      "          -3.3682e+00],\n",
      "         [-2.2672e+00,  6.5996e+00,  2.7556e+00, -7.6406e-01,  2.3255e+00,\n",
      "          -3.3597e+00],\n",
      "         [-3.5995e+00,  3.9848e+00,  2.2525e+00, -1.2470e+00,  9.3418e-02,\n",
      "          -4.7644e+00]]])\n",
      "Outputs dimensions: torch.Size([1, 4, 6])\n"
     ]
    }
   ],
   "source": [
    "with torch.no_grad():\n",
    "    outputs = model(inputs)\n",
    "\n",
    "print(\"Outputs:\\n\", outputs)\n",
    "print(\"Outputs dimensions:\", outputs.shape) # shape: (batch_size, num_tokens, num_classes)"
   ]
  },
  {
   "cell_type": "code",
   "execution_count": 35,
   "metadata": {
    "execution": {
     "iopub.execute_input": "2025-06-17T12:56:36.181315Z",
     "iopub.status.busy": "2025-06-17T12:56:36.180983Z",
     "iopub.status.idle": "2025-06-17T12:56:36.194758Z",
     "shell.execute_reply": "2025-06-17T12:56:36.189629Z",
     "shell.execute_reply.started": "2025-06-17T12:56:36.181287Z"
    },
    "trusted": true
   },
   "outputs": [],
   "source": [
    "def calc_accuracy_loader(data_loader, model, device, num_batches=None):\n",
    "    model.eval()\n",
    "    correct_predictions, num_examples = 0, 0\n",
    "\n",
    "    if num_batches is None:\n",
    "        num_batches = len(data_loader)\n",
    "    else:\n",
    "        num_batches = min(num_batches, len(data_loader))\n",
    "    for i, (input_batch, target_batch) in enumerate(data_loader):\n",
    "        if i < num_batches:\n",
    "            input_batch, target_batch = input_batch.to(device), target_batch.to(device)\n",
    "\n",
    "            with torch.no_grad():\n",
    "                logits = model(input_batch)[:, -1, :]  # Logits of last output token\n",
    "            predicted_labels = torch.argmax(logits, dim=-1)\n",
    "\n",
    "            num_examples += predicted_labels.shape[0]\n",
    "            correct_predictions += (predicted_labels == target_batch).sum().item()\n",
    "        else:\n",
    "            break\n",
    "    return correct_predictions / num_examples"
   ]
  },
  {
   "cell_type": "code",
   "execution_count": 36,
   "metadata": {
    "execution": {
     "iopub.execute_input": "2025-06-17T12:56:38.189419Z",
     "iopub.status.busy": "2025-06-17T12:56:38.189132Z",
     "iopub.status.idle": "2025-06-17T12:56:38.202620Z",
     "shell.execute_reply": "2025-06-17T12:56:38.196873Z",
     "shell.execute_reply.started": "2025-06-17T12:56:38.189394Z"
    },
    "trusted": true
   },
   "outputs": [
    {
     "name": "stdout",
     "output_type": "stream",
     "text": [
      "Last output token: tensor([[-3.5995,  3.9848,  2.2525, -1.2470,  0.0934, -4.7644]])\n"
     ]
    }
   ],
   "source": [
    "print(\"Last output token:\", outputs[:, -1, :])"
   ]
  },
  {
   "cell_type": "code",
   "execution_count": 37,
   "metadata": {
    "execution": {
     "iopub.execute_input": "2025-06-17T12:56:41.426864Z",
     "iopub.status.busy": "2025-06-17T12:56:41.426573Z",
     "iopub.status.idle": "2025-06-17T12:56:47.333453Z",
     "shell.execute_reply": "2025-06-17T12:56:47.326113Z",
     "shell.execute_reply.started": "2025-06-17T12:56:41.426839Z"
    },
    "trusted": true
   },
   "outputs": [
    {
     "name": "stdout",
     "output_type": "stream",
     "text": [
      "cpu\n",
      "Training accuracy: 36.25%\n",
      "Validation accuracy: 30.00%\n",
      "Test accuracy: 31.25%\n"
     ]
    }
   ],
   "source": [
    "device = torch.device(\"cuda\" if torch.cuda.is_available() else \"cpu\")\n",
    "print(device)\n",
    "model.to(device) \n",
    "torch.manual_seed(123) # For reproducibility due to the shuffling in the training data loader\n",
    "train_accuracy = calc_accuracy_loader(train_loader, model, device, num_batches=10)\n",
    "val_accuracy = calc_accuracy_loader(val_loader, model, device, num_batches=10)\n",
    "test_accuracy = calc_accuracy_loader(test_loader, model, device, num_batches=10)\n",
    "\n",
    "print(f\"Training accuracy: {train_accuracy*100:.2f}%\")\n",
    "print(f\"Validation accuracy: {val_accuracy*100:.2f}%\")\n",
    "print(f\"Test accuracy: {test_accuracy*100:.2f}%\")"
   ]
  },
  {
   "cell_type": "code",
   "execution_count": 38,
   "metadata": {
    "execution": {
     "iopub.execute_input": "2025-06-17T12:57:17.510604Z",
     "iopub.status.busy": "2025-06-17T12:57:17.510310Z",
     "iopub.status.idle": "2025-06-17T12:57:17.522155Z",
     "shell.execute_reply": "2025-06-17T12:57:17.516182Z",
     "shell.execute_reply.started": "2025-06-17T12:57:17.510579Z"
    },
    "trusted": true
   },
   "outputs": [],
   "source": [
    "def calc_loss_batch(input_batch, target_batch, model, device):\n",
    "    input_batch, target_batch = input_batch.to(device), target_batch.to(device)\n",
    "    logits = model(input_batch)[:, -1, :]  # Logits of last output token\n",
    "    loss = torch.nn.functional.cross_entropy(logits, target_batch)\n",
    "    return loss"
   ]
  },
  {
   "cell_type": "code",
   "execution_count": 39,
   "metadata": {
    "execution": {
     "iopub.execute_input": "2025-06-17T12:57:23.591601Z",
     "iopub.status.busy": "2025-06-17T12:57:23.591313Z",
     "iopub.status.idle": "2025-06-17T12:57:23.604945Z",
     "shell.execute_reply": "2025-06-17T12:57:23.599248Z",
     "shell.execute_reply.started": "2025-06-17T12:57:23.591576Z"
    },
    "trusted": true
   },
   "outputs": [],
   "source": [
    "def calc_loss_loader(data_loader, model, device, num_batches=None):\n",
    "    total_loss = 0.\n",
    "    if len(data_loader) == 0:\n",
    "        return float(\"nan\")\n",
    "    elif num_batches is None:\n",
    "        num_batches = len(data_loader)\n",
    "    else:\n",
    "        # Reduce the number of batches to match the total number of batches in the data loader\n",
    "        # if num_batches exceeds the number of batches in the data loader\n",
    "        num_batches = min(num_batches, len(data_loader))\n",
    "    for i, (input_batch, target_batch) in enumerate(data_loader):\n",
    "        if i < num_batches:\n",
    "            loss = calc_loss_batch(input_batch, target_batch, model, device)\n",
    "            total_loss += loss.item()\n",
    "        else:\n",
    "            break\n",
    "    return total_loss / num_batches"
   ]
  },
  {
   "cell_type": "code",
   "execution_count": 40,
   "metadata": {
    "execution": {
     "iopub.execute_input": "2025-06-17T12:57:26.057020Z",
     "iopub.status.busy": "2025-06-17T12:57:26.056703Z",
     "iopub.status.idle": "2025-06-17T12:57:28.819716Z",
     "shell.execute_reply": "2025-06-17T12:57:28.811451Z",
     "shell.execute_reply.started": "2025-06-17T12:57:26.056992Z"
    },
    "trusted": true
   },
   "outputs": [
    {
     "name": "stdout",
     "output_type": "stream",
     "text": [
      "Training loss: 2.732\n",
      "Validation loss: 3.225\n",
      "Test loss: 3.169\n"
     ]
    }
   ],
   "source": [
    "with torch.no_grad(): # Disable gradient tracking for efficiency because we are not training, yet\n",
    "    train_loss = calc_loss_loader(train_loader, model, device, num_batches=5)\n",
    "    val_loss = calc_loss_loader(val_loader, model, device, num_batches=5)\n",
    "    test_loss = calc_loss_loader(test_loader, model, device, num_batches=5)\n",
    "\n",
    "print(f\"Training loss: {train_loss:.3f}\")\n",
    "print(f\"Validation loss: {val_loss:.3f}\")\n",
    "print(f\"Test loss: {test_loss:.3f}\")"
   ]
  },
  {
   "cell_type": "code",
   "execution_count": 41,
   "metadata": {
    "execution": {
     "iopub.execute_input": "2025-06-17T12:57:34.400235Z",
     "iopub.status.busy": "2025-06-17T12:57:34.399929Z",
     "iopub.status.idle": "2025-06-17T12:57:34.414927Z",
     "shell.execute_reply": "2025-06-17T12:57:34.409579Z",
     "shell.execute_reply.started": "2025-06-17T12:57:34.400208Z"
    },
    "trusted": true
   },
   "outputs": [],
   "source": [
    "def train_classifier_simple(model, train_loader, val_loader, optimizer, device, num_epochs,\n",
    "                            eval_freq, eval_iter):\n",
    "    # Initialize lists to track losses and examples seen\n",
    "    train_losses, val_losses, train_accs, val_accs = [], [], [], []\n",
    "    examples_seen, global_step = 0, -1\n",
    "\n",
    "    # Main training loop\n",
    "    for epoch in range(num_epochs):\n",
    "        model.train()  # Set model to training mode\n",
    "\n",
    "        for input_batch, target_batch in train_loader:\n",
    "            optimizer.zero_grad() # Reset loss gradients from previous batch iteration\n",
    "            loss = calc_loss_batch(input_batch, target_batch, model, device)\n",
    "            loss.backward() # Calculate loss gradients\n",
    "            optimizer.step() # Update model weights using loss gradients\n",
    "            examples_seen += input_batch.shape[0] # New: track examples instead of tokens\n",
    "            global_step += 1\n",
    "\n",
    "            # Optional evaluation step\n",
    "            if global_step % eval_freq == 0:\n",
    "                train_loss, val_loss = evaluate_model(\n",
    "                    model, train_loader, val_loader, device, eval_iter)\n",
    "                train_losses.append(train_loss)\n",
    "                val_losses.append(val_loss)\n",
    "                print(f\"Ep {epoch+1} (Step {global_step:06d}): \"\n",
    "                      f\"Train loss {train_loss:.3f}, Val loss {val_loss:.3f}\")\n",
    "\n",
    "        # Calculate accuracy after each epoch\n",
    "        train_accuracy = calc_accuracy_loader(train_loader, model, device, num_batches=eval_iter)\n",
    "        val_accuracy = calc_accuracy_loader(val_loader, model, device, num_batches=eval_iter)\n",
    "        print(f\"Training accuracy: {train_accuracy*100:.2f}% | \", end=\"\")\n",
    "        print(f\"Validation accuracy: {val_accuracy*100:.2f}%\")\n",
    "        train_accs.append(train_accuracy)\n",
    "        val_accs.append(val_accuracy)\n",
    "\n",
    "    return train_losses, val_losses, train_accs, val_accs, examples_seen"
   ]
  },
  {
   "cell_type": "code",
   "execution_count": 42,
   "metadata": {
    "execution": {
     "iopub.execute_input": "2025-06-17T12:57:39.736123Z",
     "iopub.status.busy": "2025-06-17T12:57:39.735815Z",
     "iopub.status.idle": "2025-06-17T12:57:39.746257Z",
     "shell.execute_reply": "2025-06-17T12:57:39.742150Z",
     "shell.execute_reply.started": "2025-06-17T12:57:39.736080Z"
    },
    "trusted": true
   },
   "outputs": [],
   "source": [
    "def evaluate_model(model, train_loader, val_loader, device, eval_iter):\n",
    "    model.eval()\n",
    "    with torch.no_grad():\n",
    "        train_loss = calc_loss_loader(train_loader, model, device, num_batches=eval_iter)\n",
    "        val_loss = calc_loss_loader(val_loader, model, device, num_batches=eval_iter)\n",
    "    model.train()\n",
    "    return train_loss, val_loss"
   ]
  },
  {
   "cell_type": "code",
   "execution_count": 43,
   "metadata": {
    "execution": {
     "iopub.execute_input": "2025-06-17T12:58:01.521716Z",
     "iopub.status.busy": "2025-06-17T12:58:01.521414Z",
     "iopub.status.idle": "2025-06-17T13:33:28.022769Z",
     "shell.execute_reply": "2025-06-17T13:33:28.018455Z",
     "shell.execute_reply.started": "2025-06-17T12:58:01.521690Z"
    },
    "trusted": true
   },
   "outputs": [
    {
     "name": "stdout",
     "output_type": "stream",
     "text": [
      "Ep 1 (Step 000000): Train loss 2.243, Val loss 2.513\n",
      "Ep 1 (Step 000050): Train loss 1.550, Val loss 1.486\n",
      "Ep 1 (Step 000100): Train loss 1.590, Val loss 1.383\n",
      "Ep 1 (Step 000150): Train loss 1.554, Val loss 1.443\n",
      "Ep 1 (Step 000200): Train loss 1.463, Val loss 1.385\n",
      "Ep 1 (Step 000250): Train loss 1.596, Val loss 1.372\n",
      "Ep 1 (Step 000300): Train loss 1.691, Val loss 1.421\n",
      "Ep 1 (Step 000350): Train loss 1.642, Val loss 1.322\n",
      "Ep 1 (Step 000400): Train loss 1.560, Val loss 1.390\n",
      "Ep 1 (Step 000450): Train loss 1.546, Val loss 1.383\n",
      "Ep 1 (Step 000500): Train loss 1.513, Val loss 1.390\n",
      "Ep 1 (Step 000550): Train loss 1.718, Val loss 1.342\n",
      "Ep 1 (Step 000600): Train loss 1.525, Val loss 1.388\n",
      "Ep 1 (Step 000650): Train loss 1.768, Val loss 1.345\n",
      "Ep 1 (Step 000700): Train loss 1.879, Val loss 1.372\n",
      "Ep 1 (Step 000750): Train loss 1.501, Val loss 1.356\n",
      "Ep 1 (Step 000800): Train loss 1.841, Val loss 1.361\n",
      "Ep 1 (Step 000850): Train loss 1.535, Val loss 1.368\n",
      "Ep 1 (Step 000900): Train loss 1.594, Val loss 1.329\n",
      "Ep 1 (Step 000950): Train loss 1.566, Val loss 1.244\n",
      "Ep 1 (Step 001000): Train loss 1.351, Val loss 1.080\n",
      "Ep 1 (Step 001050): Train loss 1.183, Val loss 0.914\n",
      "Ep 1 (Step 001100): Train loss 1.437, Val loss 0.861\n",
      "Ep 1 (Step 001150): Train loss 1.002, Val loss 0.938\n",
      "Ep 1 (Step 001200): Train loss 1.185, Val loss 0.891\n",
      "Ep 1 (Step 001250): Train loss 0.993, Val loss 0.744\n",
      "Ep 1 (Step 001300): Train loss 0.727, Val loss 0.645\n",
      "Ep 1 (Step 001350): Train loss 1.123, Val loss 0.836\n",
      "Ep 1 (Step 001400): Train loss 0.366, Val loss 0.529\n",
      "Ep 1 (Step 001450): Train loss 0.416, Val loss 0.498\n",
      "Ep 1 (Step 001500): Train loss 0.672, Val loss 0.531\n",
      "Ep 1 (Step 001550): Train loss 0.411, Val loss 0.500\n",
      "Ep 1 (Step 001600): Train loss 0.445, Val loss 0.488\n",
      "Ep 1 (Step 001650): Train loss 0.594, Val loss 0.395\n",
      "Ep 1 (Step 001700): Train loss 0.447, Val loss 0.446\n",
      "Ep 1 (Step 001750): Train loss 0.313, Val loss 0.413\n",
      "Ep 1 (Step 001800): Train loss 0.408, Val loss 0.421\n",
      "Ep 1 (Step 001850): Train loss 0.261, Val loss 0.412\n",
      "Ep 1 (Step 001900): Train loss 0.181, Val loss 0.350\n",
      "Ep 1 (Step 001950): Train loss 1.094, Val loss 0.367\n",
      "Training accuracy: 90.00% | Validation accuracy: 85.00%\n",
      "Ep 2 (Step 002000): Train loss 0.352, Val loss 0.347\n",
      "Ep 2 (Step 002050): Train loss 0.653, Val loss 0.359\n",
      "Ep 2 (Step 002100): Train loss 0.291, Val loss 0.436\n",
      "Ep 2 (Step 002150): Train loss 0.253, Val loss 0.298\n",
      "Ep 2 (Step 002200): Train loss 0.130, Val loss 0.279\n",
      "Ep 2 (Step 002250): Train loss 0.418, Val loss 0.344\n",
      "Ep 2 (Step 002300): Train loss 0.515, Val loss 0.307\n",
      "Ep 2 (Step 002350): Train loss 0.353, Val loss 0.332\n",
      "Ep 2 (Step 002400): Train loss 0.277, Val loss 0.320\n",
      "Ep 2 (Step 002450): Train loss 0.413, Val loss 0.314\n",
      "Ep 2 (Step 002500): Train loss 0.215, Val loss 0.312\n",
      "Ep 2 (Step 002550): Train loss 0.295, Val loss 0.317\n",
      "Ep 2 (Step 002600): Train loss 0.207, Val loss 0.310\n",
      "Ep 2 (Step 002650): Train loss 0.334, Val loss 0.286\n",
      "Ep 2 (Step 002700): Train loss 0.036, Val loss 0.282\n",
      "Ep 2 (Step 002750): Train loss 0.464, Val loss 0.290\n",
      "Ep 2 (Step 002800): Train loss 0.139, Val loss 0.206\n",
      "Ep 2 (Step 002850): Train loss 0.177, Val loss 0.297\n",
      "Ep 2 (Step 002900): Train loss 0.153, Val loss 0.238\n",
      "Ep 2 (Step 002950): Train loss 0.422, Val loss 0.230\n",
      "Ep 2 (Step 003000): Train loss 0.153, Val loss 0.218\n",
      "Ep 2 (Step 003050): Train loss 0.236, Val loss 0.228\n",
      "Ep 2 (Step 003100): Train loss 0.236, Val loss 0.231\n",
      "Ep 2 (Step 003150): Train loss 0.185, Val loss 0.231\n",
      "Ep 2 (Step 003200): Train loss 0.193, Val loss 0.237\n",
      "Ep 2 (Step 003250): Train loss 0.316, Val loss 0.237\n",
      "Ep 2 (Step 003300): Train loss 0.203, Val loss 0.243\n",
      "Ep 2 (Step 003350): Train loss 0.190, Val loss 0.194\n",
      "Ep 2 (Step 003400): Train loss 0.146, Val loss 0.304\n",
      "Ep 2 (Step 003450): Train loss 0.167, Val loss 0.214\n",
      "Ep 2 (Step 003500): Train loss 0.179, Val loss 0.217\n",
      "Ep 2 (Step 003550): Train loss 0.171, Val loss 0.225\n",
      "Ep 2 (Step 003600): Train loss 0.127, Val loss 0.204\n",
      "Ep 2 (Step 003650): Train loss 0.211, Val loss 0.221\n",
      "Ep 2 (Step 003700): Train loss 0.301, Val loss 0.220\n",
      "Ep 2 (Step 003750): Train loss 0.198, Val loss 0.259\n",
      "Ep 2 (Step 003800): Train loss 0.207, Val loss 0.216\n",
      "Ep 2 (Step 003850): Train loss 0.170, Val loss 0.235\n",
      "Ep 2 (Step 003900): Train loss 0.090, Val loss 0.206\n",
      "Ep 2 (Step 003950): Train loss 0.266, Val loss 0.186\n",
      "Training accuracy: 97.50% | Validation accuracy: 90.00%\n",
      "Ep 3 (Step 004000): Train loss 0.165, Val loss 0.244\n",
      "Ep 3 (Step 004050): Train loss 0.030, Val loss 0.184\n",
      "Ep 3 (Step 004100): Train loss 0.155, Val loss 0.202\n",
      "Ep 3 (Step 004150): Train loss 0.087, Val loss 0.195\n",
      "Ep 3 (Step 004200): Train loss 0.125, Val loss 0.146\n",
      "Ep 3 (Step 004250): Train loss 0.200, Val loss 0.184\n",
      "Ep 3 (Step 004300): Train loss 0.070, Val loss 0.187\n",
      "Ep 3 (Step 004350): Train loss 0.142, Val loss 0.177\n",
      "Ep 3 (Step 004400): Train loss 0.179, Val loss 0.225\n",
      "Ep 3 (Step 004450): Train loss 0.030, Val loss 0.157\n",
      "Ep 3 (Step 004500): Train loss 0.045, Val loss 0.163\n",
      "Ep 3 (Step 004550): Train loss 0.134, Val loss 0.154\n",
      "Ep 3 (Step 004600): Train loss 0.103, Val loss 0.148\n",
      "Ep 3 (Step 004650): Train loss 0.032, Val loss 0.167\n",
      "Ep 3 (Step 004700): Train loss 0.182, Val loss 0.144\n",
      "Ep 3 (Step 004750): Train loss 0.178, Val loss 0.119\n",
      "Ep 3 (Step 004800): Train loss 0.252, Val loss 0.145\n",
      "Ep 3 (Step 004850): Train loss 0.173, Val loss 0.163\n",
      "Ep 3 (Step 004900): Train loss 0.404, Val loss 0.131\n",
      "Ep 3 (Step 004950): Train loss 0.112, Val loss 0.146\n",
      "Ep 3 (Step 005000): Train loss 0.117, Val loss 0.182\n",
      "Ep 3 (Step 005050): Train loss 0.095, Val loss 0.158\n",
      "Ep 3 (Step 005100): Train loss 0.143, Val loss 0.180\n",
      "Ep 3 (Step 005150): Train loss 0.095, Val loss 0.179\n",
      "Ep 3 (Step 005200): Train loss 0.090, Val loss 0.231\n",
      "Ep 3 (Step 005250): Train loss 0.117, Val loss 0.187\n",
      "Ep 3 (Step 005300): Train loss 0.231, Val loss 0.181\n",
      "Ep 3 (Step 005350): Train loss 0.103, Val loss 0.188\n",
      "Ep 3 (Step 005400): Train loss 0.049, Val loss 0.151\n",
      "Ep 3 (Step 005450): Train loss 0.185, Val loss 0.233\n",
      "Ep 3 (Step 005500): Train loss 0.109, Val loss 0.209\n",
      "Ep 3 (Step 005550): Train loss 0.139, Val loss 0.262\n",
      "Ep 3 (Step 005600): Train loss 0.093, Val loss 0.278\n",
      "Ep 3 (Step 005650): Train loss 0.157, Val loss 0.310\n",
      "Ep 3 (Step 005700): Train loss 0.164, Val loss 0.282\n",
      "Ep 3 (Step 005750): Train loss 0.353, Val loss 0.278\n",
      "Ep 3 (Step 005800): Train loss 0.247, Val loss 0.239\n",
      "Ep 3 (Step 005850): Train loss 0.201, Val loss 0.208\n",
      "Ep 3 (Step 005900): Train loss 0.109, Val loss 0.268\n",
      "Ep 3 (Step 005950): Train loss 0.165, Val loss 0.256\n",
      "Training accuracy: 92.50% | Validation accuracy: 90.00%\n",
      "Ep 4 (Step 006000): Train loss 0.178, Val loss 0.220\n",
      "Ep 4 (Step 006050): Train loss 0.088, Val loss 0.237\n",
      "Ep 4 (Step 006100): Train loss 0.055, Val loss 0.212\n",
      "Ep 4 (Step 006150): Train loss 0.201, Val loss 0.178\n",
      "Ep 4 (Step 006200): Train loss 0.152, Val loss 0.190\n",
      "Ep 4 (Step 006250): Train loss 0.063, Val loss 0.149\n",
      "Ep 4 (Step 006300): Train loss 0.085, Val loss 0.140\n",
      "Ep 4 (Step 006350): Train loss 0.058, Val loss 0.162\n",
      "Ep 4 (Step 006400): Train loss 0.058, Val loss 0.144\n",
      "Ep 4 (Step 006450): Train loss 0.071, Val loss 0.219\n",
      "Ep 4 (Step 006500): Train loss 0.003, Val loss 0.261\n",
      "Ep 4 (Step 006550): Train loss 0.043, Val loss 0.243\n",
      "Ep 4 (Step 006600): Train loss 0.040, Val loss 0.198\n",
      "Ep 4 (Step 006650): Train loss 0.072, Val loss 0.192\n",
      "Ep 4 (Step 006700): Train loss 0.104, Val loss 0.195\n",
      "Ep 4 (Step 006750): Train loss 0.214, Val loss 0.213\n",
      "Ep 4 (Step 006800): Train loss 0.141, Val loss 0.173\n",
      "Ep 4 (Step 006850): Train loss 0.097, Val loss 0.172\n",
      "Ep 4 (Step 006900): Train loss 0.034, Val loss 0.156\n",
      "Ep 4 (Step 006950): Train loss 0.061, Val loss 0.116\n",
      "Ep 4 (Step 007000): Train loss 0.072, Val loss 0.124\n",
      "Ep 4 (Step 007050): Train loss 0.142, Val loss 0.193\n",
      "Ep 4 (Step 007100): Train loss 0.342, Val loss 0.137\n",
      "Ep 4 (Step 007150): Train loss 0.018, Val loss 0.116\n",
      "Ep 4 (Step 007200): Train loss 0.044, Val loss 0.151\n",
      "Ep 4 (Step 007250): Train loss 0.089, Val loss 0.164\n",
      "Ep 4 (Step 007300): Train loss 0.248, Val loss 0.113\n",
      "Ep 4 (Step 007350): Train loss 0.133, Val loss 0.149\n",
      "Ep 4 (Step 007400): Train loss 0.215, Val loss 0.141\n",
      "Ep 4 (Step 007450): Train loss 0.093, Val loss 0.187\n",
      "Ep 4 (Step 007500): Train loss 0.142, Val loss 0.148\n",
      "Ep 4 (Step 007550): Train loss 0.133, Val loss 0.167\n",
      "Ep 4 (Step 007600): Train loss 0.114, Val loss 0.199\n",
      "Ep 4 (Step 007650): Train loss 0.115, Val loss 0.180\n",
      "Ep 4 (Step 007700): Train loss 0.154, Val loss 0.168\n",
      "Ep 4 (Step 007750): Train loss 0.065, Val loss 0.190\n",
      "Ep 4 (Step 007800): Train loss 0.054, Val loss 0.259\n",
      "Ep 4 (Step 007850): Train loss 0.078, Val loss 0.232\n",
      "Ep 4 (Step 007900): Train loss 0.109, Val loss 0.136\n",
      "Ep 4 (Step 007950): Train loss 0.100, Val loss 0.191\n",
      "Training accuracy: 95.00% | Validation accuracy: 87.50%\n",
      "Ep 5 (Step 008000): Train loss 0.096, Val loss 0.227\n",
      "Ep 5 (Step 008050): Train loss 0.101, Val loss 0.241\n",
      "Ep 5 (Step 008100): Train loss 0.093, Val loss 0.308\n",
      "Ep 5 (Step 008150): Train loss 0.118, Val loss 0.163\n",
      "Ep 5 (Step 008200): Train loss 0.054, Val loss 0.166\n",
      "Ep 5 (Step 008250): Train loss 0.060, Val loss 0.250\n",
      "Ep 5 (Step 008300): Train loss 0.152, Val loss 0.270\n",
      "Ep 5 (Step 008350): Train loss 0.013, Val loss 0.268\n",
      "Ep 5 (Step 008400): Train loss 0.044, Val loss 0.328\n",
      "Ep 5 (Step 008450): Train loss 0.073, Val loss 0.288\n",
      "Ep 5 (Step 008500): Train loss 0.112, Val loss 0.255\n",
      "Ep 5 (Step 008550): Train loss 0.088, Val loss 0.321\n",
      "Ep 5 (Step 008600): Train loss 0.002, Val loss 0.210\n",
      "Ep 5 (Step 008650): Train loss 0.043, Val loss 0.258\n",
      "Ep 5 (Step 008700): Train loss 0.146, Val loss 0.243\n",
      "Ep 5 (Step 008750): Train loss 0.104, Val loss 0.147\n",
      "Ep 5 (Step 008800): Train loss 0.011, Val loss 0.135\n",
      "Ep 5 (Step 008850): Train loss 0.006, Val loss 0.174\n",
      "Ep 5 (Step 008900): Train loss 0.067, Val loss 0.280\n",
      "Ep 5 (Step 008950): Train loss 0.020, Val loss 0.265\n",
      "Ep 5 (Step 009000): Train loss 0.042, Val loss 0.191\n",
      "Ep 5 (Step 009050): Train loss 0.080, Val loss 0.268\n",
      "Ep 5 (Step 009100): Train loss 0.157, Val loss 0.205\n",
      "Ep 5 (Step 009150): Train loss 0.140, Val loss 0.197\n",
      "Ep 5 (Step 009200): Train loss 0.109, Val loss 0.248\n",
      "Ep 5 (Step 009250): Train loss 0.025, Val loss 0.220\n",
      "Ep 5 (Step 009300): Train loss 0.042, Val loss 0.338\n",
      "Ep 5 (Step 009350): Train loss 0.076, Val loss 0.229\n",
      "Ep 5 (Step 009400): Train loss 0.072, Val loss 0.232\n",
      "Ep 5 (Step 009450): Train loss 0.071, Val loss 0.168\n",
      "Ep 5 (Step 009500): Train loss 0.030, Val loss 0.173\n",
      "Ep 5 (Step 009550): Train loss 0.119, Val loss 0.118\n",
      "Ep 5 (Step 009600): Train loss 0.019, Val loss 0.178\n",
      "Ep 5 (Step 009650): Train loss 0.124, Val loss 0.161\n",
      "Ep 5 (Step 009700): Train loss 0.187, Val loss 0.265\n",
      "Ep 5 (Step 009750): Train loss 0.024, Val loss 0.125\n",
      "Ep 5 (Step 009800): Train loss 0.010, Val loss 0.119\n",
      "Ep 5 (Step 009850): Train loss 0.040, Val loss 0.153\n",
      "Ep 5 (Step 009900): Train loss 0.104, Val loss 0.156\n",
      "Ep 5 (Step 009950): Train loss 0.049, Val loss 0.099\n",
      "Training accuracy: 100.00% | Validation accuracy: 92.50%\n",
      "Training completed in 35.44 minutes.\n"
     ]
    }
   ],
   "source": [
    "import time\n",
    "\n",
    "start_time = time.time()\n",
    "\n",
    "torch.manual_seed(123)\n",
    "\n",
    "optimizer = torch.optim.AdamW(model.parameters(), lr=6e-5, weight_decay=0.1)\n",
    "\n",
    "num_epochs = 5\n",
    "train_losses, val_losses, train_accs, val_accs, examples_seen = train_classifier_simple(\n",
    "    model, train_loader, val_loader, optimizer, device,\n",
    "    num_epochs=num_epochs, eval_freq=50, eval_iter=5,\n",
    ")\n",
    "\n",
    "end_time = time.time()\n",
    "execution_time_minutes = (end_time - start_time) / 60\n",
    "print(f\"Training completed in {execution_time_minutes:.2f} minutes.\")"
   ]
  },
  {
   "cell_type": "code",
   "execution_count": 44,
   "metadata": {
    "execution": {
     "iopub.execute_input": "2025-06-17T13:33:28.025543Z",
     "iopub.status.busy": "2025-06-17T13:33:28.024992Z",
     "iopub.status.idle": "2025-06-17T13:33:28.797534Z",
     "shell.execute_reply": "2025-06-17T13:33:28.793329Z",
     "shell.execute_reply.started": "2025-06-17T13:33:28.025517Z"
    },
    "trusted": true
   },
   "outputs": [],
   "source": [
    "torch.save(model.state_dict(), \"Emotion_classifier.pth\")"
   ]
  },
  {
   "cell_type": "code",
   "execution_count": 45,
   "metadata": {
    "execution": {
     "iopub.execute_input": "2025-06-17T13:33:28.799817Z",
     "iopub.status.busy": "2025-06-17T13:33:28.799575Z",
     "iopub.status.idle": "2025-06-17T13:33:29.184210Z",
     "shell.execute_reply": "2025-06-17T13:33:29.177793Z",
     "shell.execute_reply.started": "2025-06-17T13:33:28.799793Z"
    },
    "trusted": true
   },
   "outputs": [
    {
     "data": {
      "text/plain": [
       "<All keys matched successfully>"
      ]
     },
     "execution_count": 45,
     "metadata": {},
     "output_type": "execute_result"
    }
   ],
   "source": [
    "model_state_dict = torch.load(\"Emotion_classifier.pth\")\n",
    "model.load_state_dict(model_state_dict)"
   ]
  },
  {
   "cell_type": "code",
   "execution_count": 46,
   "metadata": {
    "execution": {
     "iopub.execute_input": "2025-06-17T13:33:29.186245Z",
     "iopub.status.busy": "2025-06-17T13:33:29.185805Z",
     "iopub.status.idle": "2025-06-17T13:33:29.197231Z",
     "shell.execute_reply": "2025-06-17T13:33:29.192077Z",
     "shell.execute_reply.started": "2025-06-17T13:33:29.186223Z"
    },
    "trusted": true
   },
   "outputs": [],
   "source": [
    "import matplotlib.pyplot as plt\n",
    "\n",
    "def plot_values(epochs_seen, examples_seen, train_values, val_values, label=\"loss\"):\n",
    "    fig, ax1 = plt.subplots(figsize=(5, 3))\n",
    "\n",
    "    # Plot training and validation loss against epochs\n",
    "    ax1.plot(epochs_seen, train_values, label=f\"Training {label}\")\n",
    "    ax1.plot(epochs_seen, val_values, linestyle=\"-.\", label=f\"Validation {label}\")\n",
    "    ax1.set_xlabel(\"Epochs\")\n",
    "    ax1.set_ylabel(label.capitalize())\n",
    "    ax1.legend()\n",
    "\n",
    "    # Create a second x-axis for examples seen\n",
    "    ax2 = ax1.twiny()  # Create a second x-axis that shares the same y-axis\n",
    "    ax2.plot(examples_seen, train_values, alpha=0)  # Invisible plot for aligning ticks\n",
    "    ax2.set_xlabel(\"Examples seen\")\n",
    "\n",
    "    fig.tight_layout()  # Adjust layout to make room\n",
    "    plt.savefig(f\"{label}-plot.pdf\")\n",
    "    plt.show()"
   ]
  },
  {
   "cell_type": "code",
   "execution_count": 47,
   "metadata": {
    "execution": {
     "iopub.execute_input": "2025-06-17T13:33:29.199459Z",
     "iopub.status.busy": "2025-06-17T13:33:29.199235Z",
     "iopub.status.idle": "2025-06-17T13:33:30.301924Z",
     "shell.execute_reply": "2025-06-17T13:33:30.298429Z",
     "shell.execute_reply.started": "2025-06-17T13:33:29.199436Z"
    },
    "trusted": true
   },
   "outputs": [
    {
     "data": {
      "image/png": "[encoded data removed]",
      "text/plain": [
       "<Figure size 500x300 with 2 Axes>"
      ]
     },
     "metadata": {},
     "output_type": "display_data"
    }
   ],
   "source": [
    "epochs_tensor = torch.linspace(0, num_epochs, len(train_losses))\n",
    "examples_seen_tensor = torch.linspace(0, examples_seen, len(train_losses))\n",
    "\n",
    "plot_values(epochs_tensor, examples_seen_tensor, train_losses, val_losses)"
   ]
  },
  {
   "cell_type": "code",
   "execution_count": 62,
   "metadata": {
    "execution": {
     "iopub.execute_input": "2025-06-17T13:51:44.287606Z",
     "iopub.status.busy": "2025-06-17T13:51:44.287297Z",
     "iopub.status.idle": "2025-06-17T13:51:44.298965Z",
     "shell.execute_reply": "2025-06-17T13:51:44.294505Z",
     "shell.execute_reply.started": "2025-06-17T13:51:44.287580Z"
    },
    "trusted": true
   },
   "outputs": [],
   "source": [
    "def classify_emotion(text, model, tokenizer, device, max_length=None, pad_token_id=50256):\n",
    "    model.eval()\n",
    "\n",
    "    # Prepare inputs to the model\n",
    "    input_ids = tokenizer.encode(text)\n",
    "    supported_context_length = model.pos_emb.weight.shape[0]\n",
    "\n",
    "    input_ids = input_ids[:min(max_length, supported_context_length)]\n",
    "\n",
    "    # Pad sequences to the longest sequence\n",
    "    input_ids += [pad_token_id] * (max_length - len(input_ids))\n",
    "    input_tensor = torch.tensor(input_ids, device=device).unsqueeze(0) # add batch dimension\n",
    "\n",
    "    # Model inference\n",
    "    with torch.no_grad():\n",
    "        logits = model(input_tensor)[:, -1, :]  # Logits of the last output token\n",
    "    predicted_label = torch.argmax(logits, dim=-1).item()\n",
    "    # print(predicted_label)\n",
    "    # Return the classified result\n",
    "    return labels[predicted_label]"
   ]
  },
  {
   "cell_type": "code",
   "execution_count": 63,
   "metadata": {
    "execution": {
     "iopub.execute_input": "2025-06-17T13:51:46.310065Z",
     "iopub.status.busy": "2025-06-17T13:51:46.309736Z",
     "iopub.status.idle": "2025-06-17T13:51:46.386353Z",
     "shell.execute_reply": "2025-06-17T13:51:46.379139Z",
     "shell.execute_reply.started": "2025-06-17T13:51:46.310037Z"
    },
    "trusted": true
   },
   "outputs": [
    {
     "name": "stdout",
     "output_type": "stream",
     "text": [
      "joy\n"
     ]
    }
   ],
   "source": [
    "text_1 = (\n",
    "    \"I feel happy to announce that my finetuning is completed and it works\"\n",
    ")\n",
    "\n",
    "print(classify_emotion(\n",
    "    text_1, model, tokenizer, device, max_length=train_dataset.max_length\n",
    "))"
   ]
  },
  {
   "cell_type": "code",
   "execution_count": 67,
   "metadata": {
    "execution": {
     "iopub.execute_input": "2025-06-17T13:53:25.516313Z",
     "iopub.status.busy": "2025-06-17T13:53:25.515945Z",
     "iopub.status.idle": "2025-06-17T13:53:25.839478Z",
     "shell.execute_reply": "2025-06-17T13:53:25.832539Z",
     "shell.execute_reply.started": "2025-06-17T13:53:25.516281Z"
    },
    "trusted": true
   },
   "outputs": [
    {
     "name": "stdout",
     "output_type": "stream",
     "text": [
      "Classification of text_1  :  fear\n",
      "Classification of text_2  :  joy\n",
      "Classification of text_3  :  sadness\n",
      "Classification of text_4  :  anger\n",
      "Classification of text_5  :  surprise\n"
     ]
    }
   ],
   "source": [
    "text_2 = (\n",
    "    \"i feel a little fear to go to the swimming pool\"\n",
    ")\n",
    "text_3=(\n",
    "    \"i just feel extremely comfortable with the group of people that i dont even need to hide myself\"\n",
    ")\n",
    "text_4=(\n",
    "    \"A plane tragedy happened near the ahmedabad airport. people were sad to hear this\"\n",
    ")\n",
    "text_5=(\n",
    "    \"who the hell do you think you are ? I am warning you not to be rude again\"\n",
    ")\n",
    "text_6=(\n",
    "    \"Aww that was such a great gift. I was awestruck when I opened it\"\n",
    ")\n",
    "print(\"Classification of text_1  : \",classify_emotion(\n",
    "    text_2, model, tokenizer, device, max_length=train_dataset.max_length\n",
    "))\n",
    "print(\"Classification of text_2  : \",classify_emotion(\n",
    "    text_3, model, tokenizer, device, max_length=train_dataset.max_length\n",
    "))\n",
    "print(\"Classification of text_3  : \",classify_emotion(\n",
    "    text_4, model, tokenizer, device, max_length=train_dataset.max_length\n",
    "))\n",
    "print(\"Classification of text_4  : \",classify_emotion(\n",
    "    text_5, model, tokenizer, device, max_length=train_dataset.max_length\n",
    "))\n",
    "print(\"Classification of text_5  : \",classify_emotion(\n",
    "    text_6, model, tokenizer, device, max_length=train_dataset.max_length\n",
    "))"
   ]
  },
  {
   "cell_type": "code",
   "execution_count": 51,
   "metadata": {
    "execution": {
     "iopub.execute_input": "2025-06-17T13:33:30.469820Z",
     "iopub.status.busy": "2025-06-17T13:33:30.469538Z",
     "iopub.status.idle": "2025-06-17T13:42:34.595401Z",
     "shell.execute_reply": "2025-06-17T13:42:34.590975Z",
     "shell.execute_reply.started": "2025-06-17T13:33:30.469791Z"
    },
    "trusted": true
   },
   "outputs": [
    {
     "name": "stdout",
     "output_type": "stream",
     "text": [
      "Training accuracy: 96.89%\n",
      "Validation accuracy: 91.05%\n",
      "Test accuracy: 90.45%\n"
     ]
    }
   ],
   "source": [
    "train_accuracy = calc_accuracy_loader(train_loader, model, device)\n",
    "val_accuracy = calc_accuracy_loader(val_loader, model, device)\n",
    "test_accuracy = calc_accuracy_loader(test_loader, model, device)\n",
    "\n",
    "print(f\"Training accuracy: {train_accuracy*100:.2f}%\")\n",
    "print(f\"Validation accuracy: {val_accuracy*100:.2f}%\")\n",
    "print(f\"Test accuracy: {test_accuracy*100:.2f}%\")"
   ]
  },
  {
   "cell_type": "code",
   "execution_count": null,
   "metadata": {
    "trusted": true
   },
   "outputs": [],
   "source": []
  }
 ],
 "metadata": {
  "kaggle": {
   "accelerator": "tpu1vmV38",
   "dataSources": [
    {
     "databundleVersionId": 12700569,
     "datasetId": 7661477,
     "sourceId": 12164626,
     "sourceType": "datasetVersion"
    },
    {
     "databundleVersionId": 2660858,
     "datasetId": 1590810,
     "sourceId": 2617192,
     "sourceType": "datasetVersion"
    },
    {
     "databundleVersionId": 12706231,
     "datasetId": 7664729,
     "sourceId": 12169781,
     "sourceType": "datasetVersion"
    }
   ],
   "dockerImageVersionId": 31042,
   "isGpuEnabled": false,
   "isInternetEnabled": true,
   "language": "python",
   "sourceType": "notebook"
  },
  "kernelspec": {
   "display_name": "Python 3",
   "language": "python",
   "name": "python3"
  },
  "language_info": {
   "codemirror_mode": {
    "name": "ipython",
    "version": 3
   },
   "file_extension": ".py",
   "mimetype": "text/x-python",
   "name": "python",
   "nbconvert_exporter": "python",
   "pygments_lexer": "ipython3",
   "version": "3.10.17"
  }
 },
 "nbformat": 4,
 "nbformat_minor": 4
}
